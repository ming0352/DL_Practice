{
 "cells": [
  {
   "cell_type": "code",
   "execution_count": 1,
   "id": "a4d0f7a6-4e1e-428b-a6aa-f641c6e4b765",
   "metadata": {},
   "outputs": [
    {
     "name": "stderr",
     "output_type": "stream",
     "text": [
      "C:\\Users\\user\\anaconda3\\envs\\pytorch\\lib\\site-packages\\tqdm\\auto.py:22: TqdmWarning: IProgress not found. Please update jupyter and ipywidgets. See https://ipywidgets.readthedocs.io/en/stable/user_install.html\n",
      "  from .autonotebook import tqdm as notebook_tqdm\n"
     ]
    }
   ],
   "source": [
    "import torch\n",
    "import torch.nn as nn\n",
    "import torch.nn.functional as F\n",
    "import torchvision\n",
    "import torchvision.transforms as transforms\n",
    "import torchvision.datasets as dset\n",
    "import torch.utils.data as data\n",
    "from torchsummary import summary\n",
    "from tqdm import tqdm, trange\n",
    "from torch.utils.data import random_split, SubsetRandomSampler, DataLoader\n",
    "from sklearn.model_selection import KFold\n",
    "import os\n",
    "import matplotlib.pyplot as plt\n",
    "import pandas as pd\n",
    "from PIL import Image\n",
    "from sklearn.model_selection import train_test_split\n",
    "import shutil\n",
    "from torchvision.models import resnet18, ResNet18_Weights\n",
    "from torchvision import models\n",
    "import glob\n",
    "from torch.utils.data import Dataset, DataLoader\n",
    "from sklearn.preprocessing import LabelEncoder\n",
    "import albumentations as A\n",
    "from albumentations.pytorch import ToTensorV2\n",
    "import math\n",
    "import numpy as np"
   ]
  },
  {
   "cell_type": "code",
   "execution_count": 2,
   "id": "b65d20d8-6e79-4f06-9483-0013af5c375d",
   "metadata": {},
   "outputs": [],
   "source": [
    "torch.set_num_threads(2)\n",
    "# Micro French-English Dictinary \n",
    "translate = {\"cane\": \"dog\", \n",
    "             \"cavallo\": \"horse\",\n",
    "             \"elefante\": \"elephant\",\n",
    "             \"farfalla\": \"butterfly\",\n",
    "             \"gallina\": \"chicken\", \n",
    "             \"gatto\": \"cat\", \n",
    "             \"mucca\": \"cow\", \n",
    "             \"pecora\": \"sheep\",\n",
    "             \"ragno\": \"spider\",\n",
    "             \"scoiattolo\": \"squirrel\"\n",
    "            }\n",
    "\n",
    "translate_class2num= {\n",
    "             \"cane\": 0, \n",
    "             \"cavallo\": 1,\n",
    "             \"elefante\": 2,\n",
    "             \"farfalla\": 3,\n",
    "             \"gallina\": 4, \n",
    "             \"gatto\": 5, \n",
    "             \"mucca\": 6, \n",
    "             \"pecora\": 7,\n",
    "             \"ragno\": 8,\n",
    "             \"scoiattolo\": 9\n",
    "            }\n",
    "\n",
    "translate_num2slasseng = {\n",
    "             0: \"dog\", \n",
    "             1: \"horse\",\n",
    "             2: \"elephant\",\n",
    "             3: \"butterfly\",\n",
    "             4: \"chicken\", \n",
    "             5: \"cat\", \n",
    "             6: \"cow\", \n",
    "             7: \"sheep\",\n",
    "             8: \"spider\",\n",
    "             9: \"squirrel\"\n",
    "            }"
   ]
  },
  {
   "cell_type": "code",
   "execution_count": 3,
   "id": "bb6e4056-5a0d-4f77-aee5-fa9da3013eeb",
   "metadata": {},
   "outputs": [],
   "source": [
    "train_path = r\"C:\\Users\\user\\Documents\\DL_Practice\\dataset\\animal10\\train\"\n",
    "test_path =  r\"C:\\Users\\user\\Documents\\DL_Practice\\dataset\\animal10\\test\"\n",
    "batch_size= 64\n",
    "num_epochs= 50\n",
    "learning_rate = 0.001"
   ]
  },
  {
   "cell_type": "code",
   "execution_count": 4,
   "id": "9999ff67-291d-4d54-beea-d16066a6b738",
   "metadata": {},
   "outputs": [
    {
     "name": "stdout",
     "output_type": "stream",
     "text": [
      "dog 3890\n",
      "horse 2098\n",
      "elephant 1156\n",
      "butterfly 1689\n",
      "chicken 2478\n",
      "cat 1334\n",
      "cow 1492\n",
      "sheep 1456\n",
      "spider 3856\n",
      "squirrel 1489\n"
     ]
    }
   ],
   "source": [
    "classes = translate.keys()\n",
    "\n",
    "for _class in classes:\n",
    "    print(translate[_class], len(os.listdir(train_path +'/'+ _class)))"
   ]
  },
  {
   "cell_type": "code",
   "execution_count": 5,
   "id": "86aa6c8f-5868-4055-a483-ede88cfb8d85",
   "metadata": {},
   "outputs": [
    {
     "name": "stdout",
     "output_type": "stream",
     "text": [
      "19301 19301\n",
      "Skipped: 1637\n"
     ]
    },
    {
     "data": {
      "text/plain": [
       "0    3890\n",
       "8    3532\n",
       "4    2478\n",
       "1    2098\n",
       "6    1492\n",
       "9    1489\n",
       "3    1227\n",
       "5    1226\n",
       "7    1080\n",
       "2     789\n",
       "dtype: int64"
      ]
     },
     "execution_count": 5,
     "metadata": {},
     "output_type": "execute_result"
    }
   ],
   "source": [
    "img_path_list = []\n",
    "img_classes_list = []\n",
    "skiped_list = []\n",
    "for class_ in classes: \n",
    "    for img in os.listdir(train_path+'/'+ class_):\n",
    "        if (img[-4:] != \"jpeg\"):\n",
    "            skiped_list.append(img)\n",
    "            continue\n",
    "        img_path = train_path+'/' + class_ + \"/\" + img\n",
    "        img_path_list.append(img_path)\n",
    "        img_classes_list.append(translate_class2num[class_])\n",
    "        \n",
    "print(len(img_path_list), len(img_classes_list))\n",
    "print(\"Skipped:\", len(skiped_list))\n",
    "#and (img[-3:] != \"jpg\")\n",
    "pd.value_counts(img_classes_list)"
   ]
  },
  {
   "cell_type": "code",
   "execution_count": 6,
   "id": "851dbbaa-6f8b-49f7-9d25-1e820850e6bf",
   "metadata": {},
   "outputs": [
    {
     "name": "stdout",
     "output_type": "stream",
     "text": [
      "17370 1931\n"
     ]
    }
   ],
   "source": [
    "x_train, x_valid, y_train, y_valid = train_test_split(img_path_list, img_classes_list, test_size=0.1, random_state=42)\n",
    "print(len(x_train), len(x_valid))"
   ]
  },
  {
   "cell_type": "code",
   "execution_count": 7,
   "id": "ee5be9b2-d811-436d-af53-99c9b2b24995",
   "metadata": {},
   "outputs": [
    {
     "name": "stdout",
     "output_type": "stream",
     "text": [
      "4908 4908\n",
      "Skipped: 333\n"
     ]
    }
   ],
   "source": [
    "img_path_list = []\n",
    "img_classes_list = []\n",
    "skiped_list = []\n",
    "for class_ in classes: \n",
    "    for img in os.listdir(test_path +'/'+ class_):\n",
    "        if (img[-4:] != \"jpeg\"):\n",
    "            skiped_list.append(img)\n",
    "            continue\n",
    "        img_path = test_path +'/' + class_ + \"/\" + img\n",
    "        img_path_list.append(img_path)\n",
    "        img_classes_list.append(translate_class2num[class_])\n",
    "        \n",
    "print(len(img_path_list), len(img_classes_list))\n",
    "print(\"Skipped:\", len(skiped_list))\n",
    "#and (img[-3:] != \"jpg\")\n",
    "pd.value_counts(img_classes_list)\n",
    "x_test,y_test = img_path_list, img_classes_list"
   ]
  },
  {
   "cell_type": "code",
   "execution_count": 8,
   "id": "0c5c374f-60bd-4e95-8b9a-9c90fdc92e80",
   "metadata": {},
   "outputs": [],
   "source": [
    "preprocess = transforms.Compose([\n",
    "    transforms.Resize(256),\n",
    "    transforms.RandomRotation(5),\n",
    "    transforms.RandomHorizontalFlip(),\n",
    "    transforms.RandomCrop(224),\n",
    "    transforms.ToTensor(),\n",
    "    transforms.Normalize(mean=[0.5, 0.5, 0.5], std=[0.5, 0.5, 0.5])\n",
    "    \n",
    "    # transforms.ToTensor(),\n",
    "    # transforms.Normalize(mean=[0.485, 0.456, 0.406], std=[0.229, 0.224, 0.225]),\n",
    "])\n",
    "\n",
    "preprocess_valid = transforms.Compose([\n",
    "    transforms.Resize(256),\n",
    "    transforms.CenterCrop(224),\n",
    "    transforms.ToTensor(),\n",
    "    transforms.Normalize(mean=[0.5, 0.5, 0.5], std=[0.5, 0.5, 0.5]),\n",
    "])\n",
    "\n",
    "class AnimalsDataset(Dataset):\n",
    "    \n",
    "    def __init__(self, imgs_list, class_list, transforms = None):\n",
    "        \n",
    "        super().__init__()\n",
    "        self.imgs_list = imgs_list\n",
    "        self.class_list = class_list\n",
    "        self.transforms = transforms\n",
    "        \n",
    "        \n",
    "    def __getitem__(self, index):\n",
    "    \n",
    "        image_path = self.imgs_list[index]\n",
    "        input_image = Image.open(image_path)\n",
    "\n",
    "        if self.transforms:\n",
    "            image = self.transforms(input_image)   \n",
    "\n",
    "        label = torch.from_numpy(np.array(self.class_list[index])).to(torch.int64)\n",
    "        \n",
    "        return image, label    \n",
    "        \n",
    "    def __len__(self):\n",
    "        return len(self.imgs_list)\n"
   ]
  },
  {
   "cell_type": "code",
   "execution_count": 9,
   "id": "cd937cbd-1fa2-41ef-b1de-b1141aeddc05",
   "metadata": {},
   "outputs": [],
   "source": [
    "class CustomDatasetDataLoader():\n",
    "    def name(self):\n",
    "        return 'CustomDatasetDataLoader'\n",
    "    def __init__(self, imgs_list, class_list, transforms = None):\n",
    "        # super().__init__()\n",
    "        self.dataset = AnimalsDataset(imgs_list, class_list, transforms)\n",
    "        self.dataloader = torch.utils.data.DataLoader(\n",
    "            self.dataset,\n",
    "            batch_size=batch_size,\n",
    "            shuffle=True,\n",
    "            num_workers=0,\n",
    "            pin_memory=True)\n",
    "\n",
    "    def load_data(self):\n",
    "        return self.dataloader\n",
    "\n",
    "    def __len__(self):\n",
    "        return len(self.dataset)"
   ]
  },
  {
   "cell_type": "code",
   "execution_count": 10,
   "id": "3e37c732-db63-49ee-ba44-5dc55e35d7f5",
   "metadata": {},
   "outputs": [],
   "source": [
    "def CreateDataLoader(imgs_list, class_list, transforms = None):\n",
    "    data_loader = CustomDatasetDataLoader(imgs_list, class_list, transforms)\n",
    "    print(data_loader.name())\n",
    "    dataloader = data_loader.load_data()\n",
    "    return dataloader"
   ]
  },
  {
   "cell_type": "code",
   "execution_count": 11,
   "id": "195e6ad1-d287-4fe6-97ec-e02dbb6bcd05",
   "metadata": {},
   "outputs": [
    {
     "name": "stdout",
     "output_type": "stream",
     "text": [
      "CustomDatasetDataLoader\n",
      "CustomDatasetDataLoader\n",
      "CustomDatasetDataLoader\n",
      "272 31 77\n"
     ]
    }
   ],
   "source": [
    "train_data_loader = CreateDataLoader(x_train, y_train, preprocess)\n",
    "valid_data_loader = CreateDataLoader(x_valid, y_valid, preprocess_valid)\n",
    "test_data_loader = CreateDataLoader(x_test, y_test, preprocess_valid)\n",
    "print(len(train_data_loader),len(valid_data_loader),len(test_data_loader))\n"
   ]
  },
  {
   "cell_type": "code",
   "execution_count": 12,
   "id": "4e11dff2-db79-4fb2-8a14-88d988622dcf",
   "metadata": {},
   "outputs": [
    {
     "name": "stdout",
     "output_type": "stream",
     "text": [
      "5 1\n"
     ]
    }
   ],
   "source": [
    "# Iterations number\n",
    "iter_num =  math.ceil(len(train_data_loader) / batch_size)\n",
    "iter_valid_num =  math.ceil(len(valid_data_loader) / batch_size)\n",
    "print(iter_num, iter_valid_num)"
   ]
  },
  {
   "cell_type": "code",
   "execution_count": 13,
   "id": "505e36bc-faab-437a-8c47-90709f648b55",
   "metadata": {},
   "outputs": [],
   "source": [
    "# res_18_model = models.resnet18(pretrained=True)\n",
    "# num_fc_ftr = res_18_model.fc.in_features #获取到fc层的输入\n",
    "# res_18_model.fc = nn.Linear(num_fc_ftr, 10)\n",
    "# model=res_18_model"
   ]
  },
  {
   "cell_type": "code",
   "execution_count": 14,
   "id": "aa74f160-7f02-4d2e-b66e-5632c628ae45",
   "metadata": {},
   "outputs": [],
   "source": [
    "class SE_VGG16(nn.Module):\n",
    "    def __init__(self, num_classes):\n",
    "        super().__init__()\n",
    "        self.num_classes = num_classes\n",
    "        # define an empty for Conv_ReLU_MaxPool\n",
    "        net = []\n",
    "\n",
    "        # block 1\n",
    "        net.append(nn.Conv2d(in_channels=3, out_channels=64, padding=1, kernel_size=3, stride=1))\n",
    "        net.append(nn.ReLU())\n",
    "        net.append(nn.Conv2d(in_channels=64, out_channels=64, padding=1, kernel_size=3, stride=1))\n",
    "        net.append(nn.ReLU())\n",
    "        net.append(nn.MaxPool2d(kernel_size=2, stride=2))\n",
    "\n",
    "        # block 2\n",
    "        net.append(nn.Conv2d(in_channels=64, out_channels=128, kernel_size=3, stride=1, padding=1))\n",
    "        net.append(nn.ReLU())\n",
    "        net.append(nn.Conv2d(in_channels=128, out_channels=128, kernel_size=3, stride=1, padding=1))\n",
    "        net.append(nn.ReLU())\n",
    "        net.append(nn.MaxPool2d(kernel_size=2, stride=2))\n",
    "\n",
    "        # block 3\n",
    "        net.append(nn.Conv2d(in_channels=128, out_channels=256, kernel_size=3, padding=1, stride=1))\n",
    "        net.append(nn.ReLU())\n",
    "        net.append(nn.Conv2d(in_channels=256, out_channels=256, kernel_size=3, padding=1, stride=1))\n",
    "        net.append(nn.ReLU())\n",
    "        net.append(nn.Conv2d(in_channels=256, out_channels=256, kernel_size=3, padding=1, stride=1))\n",
    "        net.append(nn.ReLU())\n",
    "        net.append(nn.MaxPool2d(kernel_size=2, stride=2))\n",
    "\n",
    "        # block 4\n",
    "        net.append(nn.Conv2d(in_channels=256, out_channels=512, kernel_size=3, padding=1, stride=1))\n",
    "        net.append(nn.ReLU())\n",
    "        net.append(nn.Conv2d(in_channels=512, out_channels=512, kernel_size=3, padding=1, stride=1))\n",
    "        net.append(nn.ReLU())\n",
    "        net.append(nn.Conv2d(in_channels=512, out_channels=512, kernel_size=3, padding=1, stride=1))\n",
    "        net.append(nn.ReLU())\n",
    "        net.append(nn.MaxPool2d(kernel_size=2, stride=2))\n",
    "\n",
    "        # block 5\n",
    "        net.append(nn.Conv2d(in_channels=512, out_channels=512, kernel_size=3, padding=1, stride=1))\n",
    "        net.append(nn.ReLU())\n",
    "        net.append(nn.Conv2d(in_channels=512, out_channels=512, kernel_size=3, padding=1, stride=1))\n",
    "        net.append(nn.ReLU())\n",
    "        net.append(nn.Conv2d(in_channels=512, out_channels=512, kernel_size=3, padding=1, stride=1))\n",
    "        net.append(nn.ReLU())\n",
    "        net.append(nn.MaxPool2d(kernel_size=2, stride=2))\n",
    "\n",
    "        # add net into class property\n",
    "        self.features = nn.Sequential(*net)\n",
    "\n",
    "        # define an empty container for Linear operations\n",
    "        classifier = []\n",
    "        classifier.append(nn.Linear(in_features=512*7*7, out_features=4096))\n",
    "        classifier.append(nn.ReLU())\n",
    "        classifier.append(nn.Dropout(p=0.5))\n",
    "        classifier.append(nn.Linear(in_features=4096, out_features=4096))\n",
    "        classifier.append(nn.ReLU())\n",
    "        classifier.append(nn.Dropout(p=0.5))\n",
    "        classifier.append(nn.Linear(in_features=4096, out_features=self.num_classes))\n",
    "\n",
    "        # add classifier into class property\n",
    "        self.classifier = nn.Sequential(*classifier)\n",
    "\n",
    "\n",
    "    def forward(self, x):\n",
    "        features = self.features(x)\n",
    "        features = features.view(x.size(0), -1)\n",
    "        classify_result = self.classifier(features)\n",
    "        return classify_result"
   ]
  },
  {
   "cell_type": "code",
   "execution_count": 15,
   "id": "24d8cba5-ce8b-4fae-8cef-811840aca824",
   "metadata": {},
   "outputs": [],
   "source": [
    "# VGG = models.vgg16(pretrained=True)\n",
    "# mod = list(VGG.classifier.children())\n",
    "# mod.pop()\n",
    "# mod.append(torch.nn.Linear(4096, 10))\n",
    "# new_classifier = torch.nn.Sequential(*mod)\n",
    "# print(list(list(new_classifier.children())[1].parameters()))\n",
    "# VGG.classifier = new_classifier\n",
    "# for param_tensor in VGG.state_dict():\n",
    "#     print(param_tensor, \"\\t\", VGG.state_dict()[param_tensor].size())"
   ]
  },
  {
   "cell_type": "code",
   "execution_count": 17,
   "id": "770e22c4-4d7b-411d-9b9a-0596d29690f3",
   "metadata": {},
   "outputs": [
    {
     "name": "stdout",
     "output_type": "stream",
     "text": [
      "features.0.weight \t torch.Size([64, 3, 3, 3])\n",
      "features.0.bias \t torch.Size([64])\n",
      "features.2.weight \t torch.Size([64, 64, 3, 3])\n",
      "features.2.bias \t torch.Size([64])\n",
      "features.5.weight \t torch.Size([128, 64, 3, 3])\n",
      "features.5.bias \t torch.Size([128])\n",
      "features.7.weight \t torch.Size([128, 128, 3, 3])\n",
      "features.7.bias \t torch.Size([128])\n",
      "features.10.weight \t torch.Size([256, 128, 3, 3])\n",
      "features.10.bias \t torch.Size([256])\n",
      "features.12.weight \t torch.Size([256, 256, 3, 3])\n",
      "features.12.bias \t torch.Size([256])\n",
      "features.14.weight \t torch.Size([256, 256, 3, 3])\n",
      "features.14.bias \t torch.Size([256])\n",
      "features.17.weight \t torch.Size([512, 256, 3, 3])\n",
      "features.17.bias \t torch.Size([512])\n",
      "features.19.weight \t torch.Size([512, 512, 3, 3])\n",
      "features.19.bias \t torch.Size([512])\n",
      "features.21.weight \t torch.Size([512, 512, 3, 3])\n",
      "features.21.bias \t torch.Size([512])\n",
      "features.24.weight \t torch.Size([512, 512, 3, 3])\n",
      "features.24.bias \t torch.Size([512])\n",
      "features.26.weight \t torch.Size([512, 512, 3, 3])\n",
      "features.26.bias \t torch.Size([512])\n",
      "features.28.weight \t torch.Size([512, 512, 3, 3])\n",
      "features.28.bias \t torch.Size([512])\n",
      "classifier.0.weight \t torch.Size([4096, 25088])\n",
      "classifier.0.bias \t torch.Size([4096])\n",
      "classifier.3.weight \t torch.Size([4096, 4096])\n",
      "classifier.3.bias \t torch.Size([4096])\n",
      "classifier.6.weight \t torch.Size([10, 4096])\n",
      "classifier.6.bias \t torch.Size([10])\n",
      "==========================================================================================\n",
      "Layer (type:depth-idx)                   Output Shape              Param #\n",
      "==========================================================================================\n",
      "├─Sequential: 1-1                        [-1, 512, 7, 7]           --\n",
      "|    └─Conv2d: 2-1                       [-1, 64, 224, 224]        1,792\n",
      "|    └─ReLU: 2-2                         [-1, 64, 224, 224]        --\n",
      "|    └─Conv2d: 2-3                       [-1, 64, 224, 224]        36,928\n",
      "|    └─ReLU: 2-4                         [-1, 64, 224, 224]        --\n",
      "|    └─MaxPool2d: 2-5                    [-1, 64, 112, 112]        --\n",
      "|    └─Conv2d: 2-6                       [-1, 128, 112, 112]       73,856\n",
      "|    └─ReLU: 2-7                         [-1, 128, 112, 112]       --\n",
      "|    └─Conv2d: 2-8                       [-1, 128, 112, 112]       147,584\n",
      "|    └─ReLU: 2-9                         [-1, 128, 112, 112]       --\n",
      "|    └─MaxPool2d: 2-10                   [-1, 128, 56, 56]         --\n",
      "|    └─Conv2d: 2-11                      [-1, 256, 56, 56]         295,168\n",
      "|    └─ReLU: 2-12                        [-1, 256, 56, 56]         --\n",
      "|    └─Conv2d: 2-13                      [-1, 256, 56, 56]         590,080\n",
      "|    └─ReLU: 2-14                        [-1, 256, 56, 56]         --\n",
      "|    └─Conv2d: 2-15                      [-1, 256, 56, 56]         590,080\n",
      "|    └─ReLU: 2-16                        [-1, 256, 56, 56]         --\n",
      "|    └─MaxPool2d: 2-17                   [-1, 256, 28, 28]         --\n",
      "|    └─Conv2d: 2-18                      [-1, 512, 28, 28]         1,180,160\n",
      "|    └─ReLU: 2-19                        [-1, 512, 28, 28]         --\n",
      "|    └─Conv2d: 2-20                      [-1, 512, 28, 28]         2,359,808\n",
      "|    └─ReLU: 2-21                        [-1, 512, 28, 28]         --\n",
      "|    └─Conv2d: 2-22                      [-1, 512, 28, 28]         2,359,808\n",
      "|    └─ReLU: 2-23                        [-1, 512, 28, 28]         --\n",
      "|    └─MaxPool2d: 2-24                   [-1, 512, 14, 14]         --\n",
      "|    └─Conv2d: 2-25                      [-1, 512, 14, 14]         2,359,808\n",
      "|    └─ReLU: 2-26                        [-1, 512, 14, 14]         --\n",
      "|    └─Conv2d: 2-27                      [-1, 512, 14, 14]         2,359,808\n",
      "|    └─ReLU: 2-28                        [-1, 512, 14, 14]         --\n",
      "|    └─Conv2d: 2-29                      [-1, 512, 14, 14]         2,359,808\n",
      "|    └─ReLU: 2-30                        [-1, 512, 14, 14]         --\n",
      "|    └─MaxPool2d: 2-31                   [-1, 512, 7, 7]           --\n",
      "├─Sequential: 1-2                        [-1, 10]                  --\n",
      "|    └─Linear: 2-32                      [-1, 4096]                102,764,544\n",
      "|    └─ReLU: 2-33                        [-1, 4096]                --\n",
      "|    └─Dropout: 2-34                     [-1, 4096]                --\n",
      "|    └─Linear: 2-35                      [-1, 4096]                16,781,312\n",
      "|    └─ReLU: 2-36                        [-1, 4096]                --\n",
      "|    └─Dropout: 2-37                     [-1, 4096]                --\n",
      "|    └─Linear: 2-38                      [-1, 10]                  40,970\n",
      "==========================================================================================\n",
      "Total params: 134,301,514\n",
      "Trainable params: 134,301,514\n",
      "Non-trainable params: 0\n",
      "Total mult-adds (G): 15.60\n",
      "==========================================================================================\n",
      "Input size (MB): 0.57\n",
      "Forward/backward pass size (MB): 103.42\n",
      "Params size (MB): 512.32\n",
      "Estimated Total Size (MB): 616.32\n",
      "==========================================================================================\n"
     ]
    },
    {
     "data": {
      "text/plain": [
       "==========================================================================================\n",
       "Layer (type:depth-idx)                   Output Shape              Param #\n",
       "==========================================================================================\n",
       "├─Sequential: 1-1                        [-1, 512, 7, 7]           --\n",
       "|    └─Conv2d: 2-1                       [-1, 64, 224, 224]        1,792\n",
       "|    └─ReLU: 2-2                         [-1, 64, 224, 224]        --\n",
       "|    └─Conv2d: 2-3                       [-1, 64, 224, 224]        36,928\n",
       "|    └─ReLU: 2-4                         [-1, 64, 224, 224]        --\n",
       "|    └─MaxPool2d: 2-5                    [-1, 64, 112, 112]        --\n",
       "|    └─Conv2d: 2-6                       [-1, 128, 112, 112]       73,856\n",
       "|    └─ReLU: 2-7                         [-1, 128, 112, 112]       --\n",
       "|    └─Conv2d: 2-8                       [-1, 128, 112, 112]       147,584\n",
       "|    └─ReLU: 2-9                         [-1, 128, 112, 112]       --\n",
       "|    └─MaxPool2d: 2-10                   [-1, 128, 56, 56]         --\n",
       "|    └─Conv2d: 2-11                      [-1, 256, 56, 56]         295,168\n",
       "|    └─ReLU: 2-12                        [-1, 256, 56, 56]         --\n",
       "|    └─Conv2d: 2-13                      [-1, 256, 56, 56]         590,080\n",
       "|    └─ReLU: 2-14                        [-1, 256, 56, 56]         --\n",
       "|    └─Conv2d: 2-15                      [-1, 256, 56, 56]         590,080\n",
       "|    └─ReLU: 2-16                        [-1, 256, 56, 56]         --\n",
       "|    └─MaxPool2d: 2-17                   [-1, 256, 28, 28]         --\n",
       "|    └─Conv2d: 2-18                      [-1, 512, 28, 28]         1,180,160\n",
       "|    └─ReLU: 2-19                        [-1, 512, 28, 28]         --\n",
       "|    └─Conv2d: 2-20                      [-1, 512, 28, 28]         2,359,808\n",
       "|    └─ReLU: 2-21                        [-1, 512, 28, 28]         --\n",
       "|    └─Conv2d: 2-22                      [-1, 512, 28, 28]         2,359,808\n",
       "|    └─ReLU: 2-23                        [-1, 512, 28, 28]         --\n",
       "|    └─MaxPool2d: 2-24                   [-1, 512, 14, 14]         --\n",
       "|    └─Conv2d: 2-25                      [-1, 512, 14, 14]         2,359,808\n",
       "|    └─ReLU: 2-26                        [-1, 512, 14, 14]         --\n",
       "|    └─Conv2d: 2-27                      [-1, 512, 14, 14]         2,359,808\n",
       "|    └─ReLU: 2-28                        [-1, 512, 14, 14]         --\n",
       "|    └─Conv2d: 2-29                      [-1, 512, 14, 14]         2,359,808\n",
       "|    └─ReLU: 2-30                        [-1, 512, 14, 14]         --\n",
       "|    └─MaxPool2d: 2-31                   [-1, 512, 7, 7]           --\n",
       "├─Sequential: 1-2                        [-1, 10]                  --\n",
       "|    └─Linear: 2-32                      [-1, 4096]                102,764,544\n",
       "|    └─ReLU: 2-33                        [-1, 4096]                --\n",
       "|    └─Dropout: 2-34                     [-1, 4096]                --\n",
       "|    └─Linear: 2-35                      [-1, 4096]                16,781,312\n",
       "|    └─ReLU: 2-36                        [-1, 4096]                --\n",
       "|    └─Dropout: 2-37                     [-1, 4096]                --\n",
       "|    └─Linear: 2-38                      [-1, 10]                  40,970\n",
       "==========================================================================================\n",
       "Total params: 134,301,514\n",
       "Trainable params: 134,301,514\n",
       "Non-trainable params: 0\n",
       "Total mult-adds (G): 15.60\n",
       "==========================================================================================\n",
       "Input size (MB): 0.57\n",
       "Forward/backward pass size (MB): 103.42\n",
       "Params size (MB): 512.32\n",
       "Estimated Total Size (MB): 616.32\n",
       "=========================================================================================="
      ]
     },
     "execution_count": 17,
     "metadata": {},
     "output_type": "execute_result"
    }
   ],
   "source": [
    "device = torch.device(\"cuda:0\" if torch.cuda.is_available() else \"cpu\")\n",
    "# torch.save(VGG.state_dict(), 'VGG16.pth')\n",
    "model = SE_VGG16(num_classes=10)\n",
    "for param_tensor in model.state_dict():\n",
    "    print(param_tensor, \"\\t\", model.state_dict()[param_tensor].size())\n",
    "model.load_state_dict(torch.load('VGG16.pth'))\n",
    "model = model.to(device)\n",
    "criterion = nn.CrossEntropyLoss().cuda()\n",
    "optimizer = torch.optim.Adam(model.parameters(), lr=learning_rate)\n",
    "summary(model, (3, 224, 224))"
   ]
  },
  {
   "cell_type": "code",
   "execution_count": 18,
   "id": "04739af3-1c0c-4167-b608-32272351905b",
   "metadata": {},
   "outputs": [],
   "source": [
    "## compute accuracy\n",
    "def get_accuracy(logit, target, batch_size):\n",
    "    ''' Obtain accuracy for training round '''\n",
    "    corrects = (torch.max(logit, 1)[1].view(target.size()).data == target.data).sum()\n",
    "    accuracy = 100.0 * corrects/batch_size\n",
    "    return accuracy.item()"
   ]
  },
  {
   "cell_type": "code",
   "execution_count": 19,
   "id": "e463760c-555d-4e70-b1dc-55abd0211e78",
   "metadata": {},
   "outputs": [],
   "source": [
    "def weight_reset(m):\n",
    "    if isinstance(m, nn.Conv2d) or isinstance(m, nn.Linear):\n",
    "        m.reset_parameters()"
   ]
  },
  {
   "cell_type": "code",
   "execution_count": 20,
   "id": "4b5b2387-c832-4e14-a498-aac9c6b4fd2d",
   "metadata": {},
   "outputs": [],
   "source": [
    "def train(dataloader, model, loss_fn, optimizer):\n",
    "    epoch_acc=0.0\n",
    "    size = len(dataloader.dataset) # number of samples\n",
    "    num_batches = len(dataloader) # batches per epoch\n",
    "\n",
    "    model.train() # Sets the model in training mode.\n",
    "    epoch_loss, epoch_correct = 0, 0\n",
    "\n",
    "    for batch_i, (images, labels) in tqdm(enumerate(dataloader)):\n",
    "        images, labels = images.to(device), labels.to(device) # move data to GPU\n",
    "\n",
    "        # Compute prediction loss\n",
    "        pred = model(images)\n",
    "        loss = criterion(pred, labels)\n",
    "\n",
    "        # Optimization by gradients\n",
    "        optimizer.zero_grad() # set prevision gradient to 0\n",
    "        loss.backward() # backpropagation to compute gradients\n",
    "        optimizer.step() # update model params\n",
    "\n",
    "        # write to logs\n",
    "        #epoch_loss += loss.item()\n",
    "        epoch_loss += loss.detach().item()\n",
    "        # epoch_correct += (pred.argmax(1) == y).type(torch.float).sum().item()\n",
    "        epoch_correct +=(torch.max(pred, 1)[1].view(labels.size()).data == labels.data).sum()\n",
    "        epoch_acc += get_accuracy(pred, labels, batch_size)\n",
    "    \n",
    "    \n",
    "    return epoch_loss/num_batches,epoch_acc/len(dataloader)"
   ]
  },
  {
   "cell_type": "code",
   "execution_count": 21,
   "id": "07567300-9c86-4c44-b1e9-6d98e6b27c4d",
   "metadata": {},
   "outputs": [],
   "source": [
    "def test(dataloader, model, loss_fn):\n",
    "    epoch_acc=0.0\n",
    "    size = len(dataloader.dataset) # number of samples\n",
    "    num_batches = len(dataloader) # batches per epoch\n",
    "\n",
    "    model.eval() # Sets the model in test mode.\n",
    "    epoch_loss, epoch_correct = 0, 0\n",
    "\n",
    "    # No training for test data\n",
    "    with torch.no_grad():\n",
    "        for batch_i, (images, labels) in tqdm(enumerate(dataloader)):\n",
    "            images, labels = images.to(device), labels.to(device)\n",
    "\n",
    "            pred = model(images)\n",
    "            loss = criterion(pred, labels)\n",
    "            \n",
    "            #epoch_loss += loss.item()\n",
    "            epoch_loss += loss.item()\n",
    "            # epoch_correct += (pred.argmax(1) == y).type(torch.float).sum().item()\n",
    "            epoch_correct+=(torch.max(pred, 1)[1].view(labels.size()).data == labels.data).sum()\n",
    "            epoch_acc += get_accuracy(pred, labels, batch_size)\n",
    "    return epoch_loss/num_batches, epoch_acc/len(dataloader)"
   ]
  },
  {
   "cell_type": "code",
   "execution_count": 22,
   "id": "ab7777f6-b747-4667-ad41-1da016b3931c",
   "metadata": {},
   "outputs": [],
   "source": [
    "# define draw\n",
    "def plotCurve(x_vals, y_vals, \n",
    "                x_label, y_label, \n",
    "                x2_vals=None, y2_vals=None, \n",
    "                legend=None,\n",
    "                figsize=(3.5, 2.5)):\n",
    "    # set figsize\n",
    "    plt.xlabel(x_label)\n",
    "    plt.ylabel(y_label)\n",
    "    plt.plot(x_vals, y_vals)\n",
    "    # plt.semilogy(x_vals, y_vals)\n",
    "    if x2_vals and y2_vals:\n",
    "        # plt.semilogy(x2_vals, y2_vals, linestyle=':')\n",
    "        plt.plot(x_vals, y2_vals)\n",
    "    if legend:\n",
    "        plt.legend(legend)\n",
    "    plt.show()"
   ]
  },
  {
   "cell_type": "code",
   "execution_count": 23,
   "id": "8a6474d8-08c2-4aff-beb6-d0b349393cff",
   "metadata": {},
   "outputs": [
    {
     "name": "stderr",
     "output_type": "stream",
     "text": [
      "272it [02:20,  1.94it/s]\n",
      "31it [00:07,  4.11it/s]\n"
     ]
    },
    {
     "name": "stdout",
     "output_type": "stream",
     "text": [
      "Epoch:1/50  Training Loss:1.960 || Training Acc 31.893 % ||  valid Loss:1.654 ||  valid Acc 43.498 %\n"
     ]
    },
    {
     "name": "stderr",
     "output_type": "stream",
     "text": [
      "272it [02:19,  1.95it/s]\n",
      "31it [00:07,  4.07it/s]\n"
     ]
    },
    {
     "name": "stdout",
     "output_type": "stream",
     "text": [
      "Epoch:2/50  Training Loss:1.636 || Training Acc 43.825 % ||  valid Loss:1.407 ||  valid Acc 50.252 %\n"
     ]
    },
    {
     "name": "stderr",
     "output_type": "stream",
     "text": [
      "272it [02:19,  1.95it/s]\n",
      "31it [00:07,  4.09it/s]\n"
     ]
    },
    {
     "name": "stdout",
     "output_type": "stream",
     "text": [
      "Epoch:3/50  Training Loss:1.462 || Training Acc 50.408 % ||  valid Loss:1.478 ||  valid Acc 47.681 %\n"
     ]
    },
    {
     "name": "stderr",
     "output_type": "stream",
     "text": [
      "272it [02:19,  1.94it/s]\n",
      "31it [00:07,  4.10it/s]\n"
     ]
    },
    {
     "name": "stdout",
     "output_type": "stream",
     "text": [
      "Epoch:4/50  Training Loss:1.384 || Training Acc 52.769 % ||  valid Loss:1.442 ||  valid Acc 50.101 %\n"
     ]
    },
    {
     "name": "stderr",
     "output_type": "stream",
     "text": [
      "272it [02:19,  1.95it/s]\n",
      "31it [00:07,  4.12it/s]\n"
     ]
    },
    {
     "name": "stdout",
     "output_type": "stream",
     "text": [
      "Epoch:5/50  Training Loss:1.318 || Training Acc 54.946 % ||  valid Loss:1.224 ||  valid Acc 56.804 %\n"
     ]
    },
    {
     "name": "stderr",
     "output_type": "stream",
     "text": [
      "272it [02:18,  1.97it/s]\n",
      "31it [00:07,  4.13it/s]\n"
     ]
    },
    {
     "name": "stdout",
     "output_type": "stream",
     "text": [
      "Epoch:6/50  Training Loss:1.244 || Training Acc 57.077 % ||  valid Loss:1.188 ||  valid Acc 57.661 %\n"
     ]
    },
    {
     "name": "stderr",
     "output_type": "stream",
     "text": [
      "272it [02:17,  1.97it/s]\n",
      "31it [00:07,  4.13it/s]\n"
     ]
    },
    {
     "name": "stdout",
     "output_type": "stream",
     "text": [
      "Epoch:7/50  Training Loss:1.201 || Training Acc 58.588 % ||  valid Loss:1.022 ||  valid Acc 63.306 %\n"
     ]
    },
    {
     "name": "stderr",
     "output_type": "stream",
     "text": [
      "272it [02:18,  1.96it/s]\n",
      "31it [00:07,  4.07it/s]\n"
     ]
    },
    {
     "name": "stdout",
     "output_type": "stream",
     "text": [
      "Epoch:8/50  Training Loss:1.153 || Training Acc 60.380 % ||  valid Loss:1.010 ||  valid Acc 63.760 %\n"
     ]
    },
    {
     "name": "stderr",
     "output_type": "stream",
     "text": [
      "272it [02:20,  1.94it/s]\n",
      "31it [00:07,  4.08it/s]\n"
     ]
    },
    {
     "name": "stdout",
     "output_type": "stream",
     "text": [
      "Epoch:9/50  Training Loss:1.130 || Training Acc 61.472 % ||  valid Loss:0.992 ||  valid Acc 63.810 %\n"
     ]
    },
    {
     "name": "stderr",
     "output_type": "stream",
     "text": [
      "272it [02:20,  1.94it/s]\n",
      "31it [00:07,  4.07it/s]\n"
     ]
    },
    {
     "name": "stdout",
     "output_type": "stream",
     "text": [
      "Epoch:10/50  Training Loss:1.065 || Training Acc 63.620 % ||  valid Loss:1.064 ||  valid Acc 61.542 %\n"
     ]
    },
    {
     "name": "stderr",
     "output_type": "stream",
     "text": [
      "272it [02:20,  1.94it/s]\n",
      "31it [00:07,  4.10it/s]\n"
     ]
    },
    {
     "name": "stdout",
     "output_type": "stream",
     "text": [
      "Epoch:11/50  Training Loss:1.039 || Training Acc 64.637 % ||  valid Loss:0.978 ||  valid Acc 66.179 %\n"
     ]
    },
    {
     "name": "stderr",
     "output_type": "stream",
     "text": [
      "272it [02:18,  1.96it/s]\n",
      "31it [00:07,  4.10it/s]\n"
     ]
    },
    {
     "name": "stdout",
     "output_type": "stream",
     "text": [
      "Epoch:12/50  Training Loss:0.989 || Training Acc 66.469 % ||  valid Loss:0.863 ||  valid Acc 69.052 %\n"
     ]
    },
    {
     "name": "stderr",
     "output_type": "stream",
     "text": [
      "272it [02:18,  1.96it/s]\n",
      "31it [00:07,  4.13it/s]\n"
     ]
    },
    {
     "name": "stdout",
     "output_type": "stream",
     "text": [
      "Epoch:13/50  Training Loss:0.989 || Training Acc 66.527 % ||  valid Loss:0.920 ||  valid Acc 64.718 %\n"
     ]
    },
    {
     "name": "stderr",
     "output_type": "stream",
     "text": [
      "272it [02:17,  1.98it/s]\n",
      "31it [00:07,  4.12it/s]\n"
     ]
    },
    {
     "name": "stdout",
     "output_type": "stream",
     "text": [
      "Epoch:14/50  Training Loss:0.957 || Training Acc 67.268 % ||  valid Loss:0.858 ||  valid Acc 69.607 %\n"
     ]
    },
    {
     "name": "stderr",
     "output_type": "stream",
     "text": [
      "272it [02:17,  1.98it/s]\n",
      "31it [00:07,  4.13it/s]\n"
     ]
    },
    {
     "name": "stdout",
     "output_type": "stream",
     "text": [
      "Epoch:15/50  Training Loss:0.926 || Training Acc 68.836 % ||  valid Loss:0.841 ||  valid Acc 69.506 %\n"
     ]
    },
    {
     "name": "stderr",
     "output_type": "stream",
     "text": [
      "272it [02:17,  1.98it/s]\n",
      "31it [00:07,  4.14it/s]\n"
     ]
    },
    {
     "name": "stdout",
     "output_type": "stream",
     "text": [
      "Epoch:16/50  Training Loss:0.963 || Training Acc 67.727 % ||  valid Loss:0.857 ||  valid Acc 69.052 %\n"
     ]
    },
    {
     "name": "stderr",
     "output_type": "stream",
     "text": [
      "272it [02:17,  1.98it/s]\n",
      "31it [00:07,  4.14it/s]\n"
     ]
    },
    {
     "name": "stdout",
     "output_type": "stream",
     "text": [
      "Epoch:17/50  Training Loss:0.907 || Training Acc 69.307 % ||  valid Loss:0.836 ||  valid Acc 69.405 %\n"
     ]
    },
    {
     "name": "stderr",
     "output_type": "stream",
     "text": [
      "272it [02:17,  1.98it/s]\n",
      "31it [00:07,  4.13it/s]\n"
     ]
    },
    {
     "name": "stdout",
     "output_type": "stream",
     "text": [
      "Epoch:18/50  Training Loss:0.897 || Training Acc 70.473 % ||  valid Loss:0.865 ||  valid Acc 69.506 %\n"
     ]
    },
    {
     "name": "stderr",
     "output_type": "stream",
     "text": [
      "272it [02:17,  1.98it/s]\n",
      "31it [00:07,  4.14it/s]\n"
     ]
    },
    {
     "name": "stdout",
     "output_type": "stream",
     "text": [
      "Epoch:19/50  Training Loss:0.855 || Training Acc 71.421 % ||  valid Loss:0.810 ||  valid Acc 70.968 %\n"
     ]
    },
    {
     "name": "stderr",
     "output_type": "stream",
     "text": [
      "272it [02:17,  1.98it/s]\n",
      "31it [00:07,  4.12it/s]\n"
     ]
    },
    {
     "name": "stdout",
     "output_type": "stream",
     "text": [
      "Epoch:20/50  Training Loss:0.852 || Training Acc 71.651 % ||  valid Loss:0.794 ||  valid Acc 70.615 %\n"
     ]
    },
    {
     "name": "stderr",
     "output_type": "stream",
     "text": [
      "272it [02:17,  1.97it/s]\n",
      "31it [00:07,  4.13it/s]\n"
     ]
    },
    {
     "name": "stdout",
     "output_type": "stream",
     "text": [
      "Epoch:21/50  Training Loss:0.844 || Training Acc 71.691 % ||  valid Loss:0.790 ||  valid Acc 71.018 %\n"
     ]
    },
    {
     "name": "stderr",
     "output_type": "stream",
     "text": [
      "272it [02:17,  1.97it/s]\n",
      "31it [00:07,  4.12it/s]\n"
     ]
    },
    {
     "name": "stdout",
     "output_type": "stream",
     "text": [
      "Epoch:22/50  Training Loss:0.852 || Training Acc 71.410 % ||  valid Loss:0.817 ||  valid Acc 71.421 %\n"
     ]
    },
    {
     "name": "stderr",
     "output_type": "stream",
     "text": [
      "272it [02:17,  1.98it/s]\n",
      "31it [00:07,  4.13it/s]\n"
     ]
    },
    {
     "name": "stdout",
     "output_type": "stream",
     "text": [
      "Epoch:23/50  Training Loss:0.843 || Training Acc 71.846 % ||  valid Loss:0.783 ||  valid Acc 72.530 %\n"
     ]
    },
    {
     "name": "stderr",
     "output_type": "stream",
     "text": [
      "272it [02:17,  1.98it/s]\n",
      "31it [00:07,  4.14it/s]\n"
     ]
    },
    {
     "name": "stdout",
     "output_type": "stream",
     "text": [
      "Epoch:24/50  Training Loss:0.839 || Training Acc 71.789 % ||  valid Loss:0.775 ||  valid Acc 73.538 %\n"
     ]
    },
    {
     "name": "stderr",
     "output_type": "stream",
     "text": [
      "272it [02:17,  1.98it/s]\n",
      "31it [00:07,  4.13it/s]\n"
     ]
    },
    {
     "name": "stdout",
     "output_type": "stream",
     "text": [
      "Epoch:25/50  Training Loss:0.823 || Training Acc 72.507 % ||  valid Loss:0.836 ||  valid Acc 69.808 %\n"
     ]
    },
    {
     "name": "stderr",
     "output_type": "stream",
     "text": [
      "272it [02:17,  1.98it/s]\n",
      "31it [00:07,  4.13it/s]\n"
     ]
    },
    {
     "name": "stdout",
     "output_type": "stream",
     "text": [
      "Epoch:26/50  Training Loss:0.824 || Training Acc 72.823 % ||  valid Loss:0.745 ||  valid Acc 73.286 %\n"
     ]
    },
    {
     "name": "stderr",
     "output_type": "stream",
     "text": [
      "272it [02:17,  1.98it/s]\n",
      "31it [00:07,  4.14it/s]\n"
     ]
    },
    {
     "name": "stdout",
     "output_type": "stream",
     "text": [
      "Epoch:27/50  Training Loss:0.824 || Training Acc 72.409 % ||  valid Loss:0.752 ||  valid Acc 73.236 %\n"
     ]
    },
    {
     "name": "stderr",
     "output_type": "stream",
     "text": [
      "272it [02:17,  1.98it/s]\n",
      "31it [00:07,  4.13it/s]\n"
     ]
    },
    {
     "name": "stdout",
     "output_type": "stream",
     "text": [
      "Epoch:28/50  Training Loss:0.819 || Training Acc 72.702 % ||  valid Loss:0.755 ||  valid Acc 73.185 %\n"
     ]
    },
    {
     "name": "stderr",
     "output_type": "stream",
     "text": [
      "272it [02:17,  1.97it/s]\n",
      "31it [00:07,  4.13it/s]\n"
     ]
    },
    {
     "name": "stdout",
     "output_type": "stream",
     "text": [
      "Epoch:29/50  Training Loss:0.799 || Training Acc 73.265 % ||  valid Loss:0.782 ||  valid Acc 71.371 %\n"
     ]
    },
    {
     "name": "stderr",
     "output_type": "stream",
     "text": [
      "272it [02:17,  1.98it/s]\n",
      "31it [00:07,  4.13it/s]\n"
     ]
    },
    {
     "name": "stdout",
     "output_type": "stream",
     "text": [
      "Epoch:30/50  Training Loss:0.773 || Training Acc 73.955 % ||  valid Loss:0.785 ||  valid Acc 73.740 %\n"
     ]
    },
    {
     "name": "stderr",
     "output_type": "stream",
     "text": [
      "272it [02:17,  1.98it/s]\n",
      "31it [00:07,  4.13it/s]\n"
     ]
    },
    {
     "name": "stdout",
     "output_type": "stream",
     "text": [
      "Epoch:31/50  Training Loss:0.773 || Training Acc 74.023 % ||  valid Loss:0.795 ||  valid Acc 72.581 %\n"
     ]
    },
    {
     "name": "stderr",
     "output_type": "stream",
     "text": [
      "272it [02:17,  1.98it/s]\n",
      "31it [00:07,  4.14it/s]\n"
     ]
    },
    {
     "name": "stdout",
     "output_type": "stream",
     "text": [
      "Epoch:32/50  Training Loss:0.765 || Training Acc 74.368 % ||  valid Loss:0.723 ||  valid Acc 74.849 %\n"
     ]
    },
    {
     "name": "stderr",
     "output_type": "stream",
     "text": [
      "272it [02:18,  1.96it/s]\n",
      "31it [00:07,  4.02it/s]\n"
     ]
    },
    {
     "name": "stdout",
     "output_type": "stream",
     "text": [
      "Epoch:33/50  Training Loss:0.766 || Training Acc 74.311 % ||  valid Loss:0.696 ||  valid Acc 76.008 %\n"
     ]
    },
    {
     "name": "stderr",
     "output_type": "stream",
     "text": [
      "272it [02:19,  1.96it/s]\n",
      "31it [00:07,  4.13it/s]\n"
     ]
    },
    {
     "name": "stdout",
     "output_type": "stream",
     "text": [
      "Epoch:34/50  Training Loss:0.779 || Training Acc 74.247 % ||  valid Loss:0.735 ||  valid Acc 75.151 %\n"
     ]
    },
    {
     "name": "stderr",
     "output_type": "stream",
     "text": [
      "272it [02:17,  1.98it/s]\n",
      "31it [00:07,  4.14it/s]\n"
     ]
    },
    {
     "name": "stdout",
     "output_type": "stream",
     "text": [
      "Epoch:35/50  Training Loss:0.814 || Training Acc 72.949 % ||  valid Loss:0.751 ||  valid Acc 72.984 %\n"
     ]
    },
    {
     "name": "stderr",
     "output_type": "stream",
     "text": [
      "272it [02:17,  1.98it/s]\n",
      "31it [00:07,  4.14it/s]\n"
     ]
    },
    {
     "name": "stdout",
     "output_type": "stream",
     "text": [
      "Epoch:36/50  Training Loss:0.791 || Training Acc 74.207 % ||  valid Loss:0.817 ||  valid Acc 71.976 %\n"
     ]
    },
    {
     "name": "stderr",
     "output_type": "stream",
     "text": [
      "272it [02:17,  1.98it/s]\n",
      "31it [00:07,  4.14it/s]\n"
     ]
    },
    {
     "name": "stdout",
     "output_type": "stream",
     "text": [
      "Epoch:37/50  Training Loss:0.825 || Training Acc 72.231 % ||  valid Loss:0.738 ||  valid Acc 73.690 %\n"
     ]
    },
    {
     "name": "stderr",
     "output_type": "stream",
     "text": [
      "272it [02:17,  1.98it/s]\n",
      "31it [00:07,  4.13it/s]\n"
     ]
    },
    {
     "name": "stdout",
     "output_type": "stream",
     "text": [
      "Epoch:38/50  Training Loss:0.788 || Training Acc 73.667 % ||  valid Loss:0.772 ||  valid Acc 74.597 %\n"
     ]
    },
    {
     "name": "stderr",
     "output_type": "stream",
     "text": [
      "272it [02:18,  1.96it/s]\n",
      "31it [00:07,  4.13it/s]\n"
     ]
    },
    {
     "name": "stdout",
     "output_type": "stream",
     "text": [
      "Epoch:39/50  Training Loss:0.818 || Training Acc 72.869 % ||  valid Loss:0.770 ||  valid Acc 73.185 %\n"
     ]
    },
    {
     "name": "stderr",
     "output_type": "stream",
     "text": [
      "272it [02:17,  1.98it/s]\n",
      "31it [00:07,  4.12it/s]\n"
     ]
    },
    {
     "name": "stdout",
     "output_type": "stream",
     "text": [
      "Epoch:40/50  Training Loss:0.766 || Training Acc 74.420 % ||  valid Loss:0.748 ||  valid Acc 72.228 %\n"
     ]
    },
    {
     "name": "stderr",
     "output_type": "stream",
     "text": [
      "272it [02:17,  1.97it/s]\n",
      "31it [00:07,  4.13it/s]\n"
     ]
    },
    {
     "name": "stdout",
     "output_type": "stream",
     "text": [
      "Epoch:41/50  Training Loss:0.787 || Training Acc 74.213 % ||  valid Loss:0.820 ||  valid Acc 72.278 %\n"
     ]
    },
    {
     "name": "stderr",
     "output_type": "stream",
     "text": [
      "272it [02:17,  1.98it/s]\n",
      "31it [00:07,  4.13it/s]\n"
     ]
    },
    {
     "name": "stdout",
     "output_type": "stream",
     "text": [
      "Epoch:42/50  Training Loss:0.859 || Training Acc 72.294 % ||  valid Loss:0.796 ||  valid Acc 72.782 %\n"
     ]
    },
    {
     "name": "stderr",
     "output_type": "stream",
     "text": [
      "272it [02:17,  1.98it/s]\n",
      "31it [00:07,  4.14it/s]\n"
     ]
    },
    {
     "name": "stdout",
     "output_type": "stream",
     "text": [
      "Epoch:43/50  Training Loss:0.802 || Training Acc 73.265 % ||  valid Loss:0.759 ||  valid Acc 74.244 %\n"
     ]
    },
    {
     "name": "stderr",
     "output_type": "stream",
     "text": [
      "272it [02:17,  1.98it/s]\n",
      "31it [00:07,  4.14it/s]\n"
     ]
    },
    {
     "name": "stdout",
     "output_type": "stream",
     "text": [
      "Epoch:44/50  Training Loss:0.747 || Training Acc 75.465 % ||  valid Loss:0.779 ||  valid Acc 73.891 %\n"
     ]
    },
    {
     "name": "stderr",
     "output_type": "stream",
     "text": [
      "272it [02:17,  1.98it/s]\n",
      "31it [00:07,  4.13it/s]\n"
     ]
    },
    {
     "name": "stdout",
     "output_type": "stream",
     "text": [
      "Epoch:45/50  Training Loss:0.751 || Training Acc 75.029 % ||  valid Loss:0.796 ||  valid Acc 72.379 %\n"
     ]
    },
    {
     "name": "stderr",
     "output_type": "stream",
     "text": [
      "272it [02:17,  1.98it/s]\n",
      "31it [00:07,  4.13it/s]\n"
     ]
    },
    {
     "name": "stdout",
     "output_type": "stream",
     "text": [
      "Epoch:46/50  Training Loss:0.739 || Training Acc 75.592 % ||  valid Loss:0.679 ||  valid Acc 75.756 %\n"
     ]
    },
    {
     "name": "stderr",
     "output_type": "stream",
     "text": [
      "272it [02:17,  1.98it/s]\n",
      "31it [00:07,  4.14it/s]\n"
     ]
    },
    {
     "name": "stdout",
     "output_type": "stream",
     "text": [
      "Epoch:47/50  Training Loss:0.849 || Training Acc 72.065 % ||  valid Loss:0.793 ||  valid Acc 71.522 %\n"
     ]
    },
    {
     "name": "stderr",
     "output_type": "stream",
     "text": [
      "272it [02:17,  1.98it/s]\n",
      "31it [00:07,  4.13it/s]\n"
     ]
    },
    {
     "name": "stdout",
     "output_type": "stream",
     "text": [
      "Epoch:48/50  Training Loss:0.783 || Training Acc 74.242 % ||  valid Loss:0.718 ||  valid Acc 75.756 %\n"
     ]
    },
    {
     "name": "stderr",
     "output_type": "stream",
     "text": [
      "272it [02:17,  1.98it/s]\n",
      "31it [00:07,  4.13it/s]\n"
     ]
    },
    {
     "name": "stdout",
     "output_type": "stream",
     "text": [
      "Epoch:49/50  Training Loss:0.764 || Training Acc 74.627 % ||  valid Loss:0.705 ||  valid Acc 75.706 %\n"
     ]
    },
    {
     "name": "stderr",
     "output_type": "stream",
     "text": [
      "272it [02:17,  1.98it/s]\n",
      "31it [00:07,  4.13it/s]"
     ]
    },
    {
     "name": "stdout",
     "output_type": "stream",
     "text": [
      "Epoch:50/50  Training Loss:0.786 || Training Acc 73.983 % ||  valid Loss:0.718 ||  valid Acc 74.546 %\n"
     ]
    },
    {
     "name": "stderr",
     "output_type": "stream",
     "text": [
      "\n"
     ]
    }
   ],
   "source": [
    "for epoch in range(num_epochs):\n",
    "    train_loss, train_acc = train(train_data_loader, model, criterion, optimizer)\n",
    "    val_loss, val_acc = test(valid_data_loader, model, criterion)\n",
    "    print(\"Epoch:{}/{}  Training Loss:{:.3f} || Training Acc {:.3f} % ||  valid Loss:{:.3f} ||  valid Acc {:.3f} %\".format(epoch + 1,\n",
    "                                                                                                         num_epochs,\n",
    "                                                                                                         train_loss,\n",
    "                                                                                                         train_acc,                            \n",
    "                                                                                                         val_loss,\n",
    "                                                                                                         val_acc))"
   ]
  },
  {
   "cell_type": "code",
   "execution_count": 24,
   "id": "62883227-e825-4f3d-903d-91e9538f4ddb",
   "metadata": {},
   "outputs": [
    {
     "name": "stderr",
     "output_type": "stream",
     "text": [
      "77it [00:19,  3.88it/s]"
     ]
    },
    {
     "name": "stdout",
     "output_type": "stream",
     "text": [
      "Fold, test acc: 76.096\n"
     ]
    },
    {
     "name": "stderr",
     "output_type": "stream",
     "text": [
      "\n"
     ]
    }
   ],
   "source": [
    "test_loss, test_acc = test(test_data_loader, model, criterion)\n",
    "print(f'Fold, test acc: {test_acc:.3f}')"
   ]
  },
  {
   "cell_type": "code",
   "execution_count": null,
   "id": "b239e9de-a264-4359-b4d8-6aa7c6304734",
   "metadata": {},
   "outputs": [],
   "source": []
  }
 ],
 "metadata": {
  "kernelspec": {
   "display_name": "Python 3 (ipykernel)",
   "language": "python",
   "name": "python3"
  },
  "language_info": {
   "codemirror_mode": {
    "name": "ipython",
    "version": 3
   },
   "file_extension": ".py",
   "mimetype": "text/x-python",
   "name": "python",
   "nbconvert_exporter": "python",
   "pygments_lexer": "ipython3",
   "version": "3.9.15"
  }
 },
 "nbformat": 4,
 "nbformat_minor": 5
}
