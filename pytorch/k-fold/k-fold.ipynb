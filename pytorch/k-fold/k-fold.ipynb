{
 "cells": [
  {
   "cell_type": "code",
   "execution_count": 1,
   "id": "e87a53d6-10c0-439b-afb1-24a4dda27623",
   "metadata": {},
   "outputs": [
    {
     "name": "stderr",
     "output_type": "stream",
     "text": [
      "C:\\Users\\user\\anaconda3\\envs\\pytorch\\lib\\site-packages\\tqdm\\auto.py:22: TqdmWarning: IProgress not found. Please update jupyter and ipywidgets. See https://ipywidgets.readthedocs.io/en/stable/user_install.html\n",
      "  from .autonotebook import tqdm as notebook_tqdm\n",
      "C:\\Users\\user\\anaconda3\\envs\\pytorch\\lib\\site-packages\\scipy\\__init__.py:146: UserWarning: A NumPy version >=1.16.5 and <1.23.0 is required for this version of SciPy (detected version 1.23.3\n",
      "  warnings.warn(f\"A NumPy version >={np_minversion} and <{np_maxversion}\"\n"
     ]
    }
   ],
   "source": [
    "import torch\n",
    "import torch.nn as nn\n",
    "import torch.nn.functional as F\n",
    "import torchvision\n",
    "import torchvision.transforms as transforms\n",
    "import torchvision.datasets as dset\n",
    "import torch.utils.data as data\n",
    "from torchsummary import summary\n",
    "from tqdm import tqdm, trange\n",
    "from torch.utils.data import random_split, SubsetRandomSampler, DataLoader\n",
    "from sklearn.model_selection import KFold\n",
    "import os\n",
    "import matplotlib.pyplot as plt\n",
    "import pandas as pd\n",
    "from PIL import Image\n",
    "from sklearn.model_selection import train_test_split\n",
    "import shutil\n",
    "from torchvision.models import resnet18, ResNet18_Weights\n",
    "from torchvision import models"
   ]
  },
  {
   "cell_type": "code",
   "execution_count": 2,
   "id": "9ad98dbc-0da3-4d93-9526-0afe3cd7b311",
   "metadata": {},
   "outputs": [],
   "source": [
    "torch.set_num_threads(4)\n",
    "torch.manual_seed(20)\n",
    "pretrained_size = 224\n",
    "pretrained_means =torch.tensor([0.5108, 0.4829, 0.3989])\n",
    "pretrained_stds= torch.tensor([0.2632, 0.2587, 0.2706])\n",
    "\n",
    "train_transforms = transforms.Compose([\n",
    "                           transforms.Resize(pretrained_size),\n",
    "                           transforms.RandomRotation(5),\n",
    "                           transforms.RandomHorizontalFlip(),\n",
    "                           transforms.RandomCrop(192),\n",
    "                           transforms.ToTensor(),\n",
    "                           transforms.Normalize(mean=[0.5, 0.5, 0.5], std=[0.5, 0.5, 0.5])\n",
    "                       ])\n",
    "\n",
    "test_transforms = transforms.Compose([\n",
    "                           transforms.Resize(pretrained_size),\n",
    "                           transforms.CenterCrop(192),\n",
    "                           transforms.ToTensor(),\n",
    "                           transforms.Normalize(mean=[0.5, 0.5, 0.5], std=[0.5, 0.5, 0.5])\n",
    "                       ])"
   ]
  },
  {
   "cell_type": "code",
   "execution_count": 3,
   "id": "89af64f9-9066-4671-82aa-55cc75bd0e77",
   "metadata": {},
   "outputs": [],
   "source": [
    "BATCH_SIZE = 64\n",
    "num_epochs=40\n",
    "learning_rate = 0.001"
   ]
  },
  {
   "cell_type": "code",
   "execution_count": 4,
   "id": "22b66021-8a3b-42a4-9297-f1595aaae000",
   "metadata": {},
   "outputs": [],
   "source": [
    "# #os.mkdir('animal10/train')\n",
    "# for img_class in os.listdir(\"raw-img\"):\n",
    "#     os.mkdir('./animal10/train/' + img_class + '/')\n",
    "#     #os.mkdir('./animal10/test/')\n",
    "# for img_class in os.listdir(\"raw-img\"):\n",
    "#     os.mkdir('./animal10/test/' + img_class + '/')"
   ]
  },
  {
   "cell_type": "code",
   "execution_count": 5,
   "id": "4d8549d0-b7fa-4f18-80c7-62bcb8d585f7",
   "metadata": {},
   "outputs": [],
   "source": [
    "# for img_class in tqdm(os.listdir('animal10/train/')):\n",
    "#     img_ls = os.listdir('raw-img/' + img_class)\n",
    "#     for img in img_ls[:int(len(img_ls) * 0.8)]:\n",
    "\n",
    "#         shutil.copy('raw-img/' + img_class + '/' + img, \n",
    "#                     'animal10/train/' + img_class + '/' + img)\n",
    "# # form test dataset\n",
    "# for img_class in tqdm(os.listdir('animal10/test/')):\n",
    "#     img_ls = os.listdir('raw-img/' + img_class)\n",
    "#     for img in img_ls[int(len(img_ls) * 0.8):]:\n",
    "\n",
    "#         shutil.copy('raw-img/' + img_class + '/' + img, \n",
    "#                     'animal10/test/' + img_class + '/' + img)"
   ]
  },
  {
   "cell_type": "code",
   "execution_count": 6,
   "id": "7e88f436-3e40-40ef-9a7f-677043a5422d",
   "metadata": {},
   "outputs": [],
   "source": [
    "train_data_path = \"animal10/train\"\n",
    "test_data_path = \"animal10/test/\""
   ]
  },
  {
   "cell_type": "code",
   "execution_count": 7,
   "id": "a45129dd-7b29-4324-bc45-b1287492e031",
   "metadata": {},
   "outputs": [],
   "source": [
    "\n",
    "# transformations\n",
    "transform = transforms.Compose(\n",
    "    [transforms.ToTensor()])\n",
    "\n",
    "## download and load training dataset\n",
    "train_data = dset.ImageFolder(root = train_data_path, \n",
    "                                  transform = train_transforms)\n",
    "\n",
    "test_data = dset.ImageFolder(root = test_data_path, \n",
    "                                 transform = test_transforms)\n",
    "# n_train_examples = int(len(train_data) * 0.8)\n",
    "# n_valid_examples = int(len(train_data)*0.2)\n",
    "\n",
    "# train_data, valid_data =  data.random_split(train_data, \n",
    "#                                            [n_train_examples, n_valid_examples])\n",
    "\n",
    "\n",
    "# trainset = torchvision.datasets.MNIST(root='./data', train=True,\n",
    "#                                         download=True, transform=transform)\n",
    "# train_loader = torch.utils.data.DataLoader(train_data, batch_size=BATCH_SIZE,\n",
    "#                                           shuffle=True, num_workers=0)\n",
    "# val_loader = torch.utils.data.DataLoader(valid_data, batch_size=BATCH_SIZE,\n",
    "#                                           shuffle=True, num_workers=0)\n",
    "## download and load testing dataset\n",
    "# testset = torchvision.datasets.MNIST(root='./data', train=False,\n",
    "#                                        download=True, transform=transform)\n",
    "testloader = torch.utils.data.DataLoader(test_data, batch_size=BATCH_SIZE,\n",
    "                                         shuffle=True, num_workers=0)"
   ]
  },
  {
   "cell_type": "code",
   "execution_count": 8,
   "id": "c2967694-ba58-44f0-9211-703705b8a8cf",
   "metadata": {},
   "outputs": [],
   "source": [
    "# import matplotlib.pyplot as plt\n",
    "# import numpy as np\n",
    "\n",
    "# ## functions to show an image\n",
    "# def imshow(img):\n",
    "#     #img = img / 2 + 0.5     # unnormalize\n",
    "#     npimg = img.numpy()\n",
    "#     plt.imshow(np.transpose(npimg, (1, 2, 0)))\n",
    "\n",
    "# ## get some random training images\n",
    "# dataiter = next(iter(trainloader))\n",
    "# images, labels = dataiter\n",
    "\n",
    "# ## show images\n",
    "# imshow(torchvision.utils.make_grid(images))"
   ]
  },
  {
   "cell_type": "code",
   "execution_count": 9,
   "id": "41e158f0-440b-4054-a72e-db3b40db84f0",
   "metadata": {},
   "outputs": [],
   "source": [
    "# for images, labels in trainloader:\n",
    "#     print(\"Image batch dimensions:\", images.shape)\n",
    "#     print(\"Image label dimensions:\", labels.shape)\n",
    "#     break"
   ]
  },
  {
   "cell_type": "code",
   "execution_count": 10,
   "id": "633ec2ee-e115-47dc-9162-fdcc70a93058",
   "metadata": {},
   "outputs": [],
   "source": [
    "class MyModel(nn.Module):\n",
    "    def __init__(self):\n",
    "        super().__init__()\n",
    "        # Convolution 1 , input_shape=(3,224,224)\n",
    "        self.cnn1 = nn.Conv2d(in_channels=3, out_channels=32, kernel_size=5, stride=1, padding=0) #output_shape=(16,220,220) #(224-5+1)/1 #(weigh-kernel+1)/stride 無條件進位\n",
    "        self.BatchNorm2d_1 = nn.BatchNorm2d(32)\n",
    "        self.relu1 = nn.ReLU() # activation\n",
    "        # Max pool 1\n",
    "        self.maxpool1 = nn.MaxPool2d(kernel_size=2) #output_shape=(16,110,110) #(220/2)\n",
    "        # Convolution 2\n",
    "        self.cnn2 = nn.Conv2d(in_channels=32, out_channels=128, kernel_size=5, stride=1, padding=0) #output_shape=(32,106,106)\n",
    "        self.BatchNorm2d_2 = nn.BatchNorm2d(128)\n",
    "        self.relu2 = nn.ReLU() # activation\n",
    "        # Max pool 2\n",
    "        self.maxpool2 = nn.MaxPool2d(kernel_size=2) #output_shape=(32,53,53)\n",
    "        # Convolution 3\n",
    "        self.cnn3 = nn.Conv2d(in_channels=128, out_channels=64, kernel_size=3, stride=1, padding=0) #output_shape=(16,51,51)\n",
    "        self.BatchNorm2d_3 = nn.BatchNorm2d(64)\n",
    "        self.relu3 = nn.ReLU() # activation\n",
    "        # Max pool 3\n",
    "        self.maxpool3 = nn.MaxPool2d(kernel_size=2) #output_shape=(16,25,25)\n",
    "        # Convolution 4\n",
    "        self.cnn4 = nn.Conv2d(in_channels=64, out_channels=32, kernel_size=3, stride=1, padding=0) #output_shape=(8,23,23)\n",
    "        self.BatchNorm2d_4 = nn.BatchNorm2d(32)\n",
    "        self.relu4 = nn.ReLU() # activation\n",
    "        # Max pool 4\n",
    "        self.maxpool4 = nn.MaxPool2d(kernel_size=2) #output_shape=(8,11,11)\n",
    "        # Fully connected 1 ,#input_shape=(8*12*12)\n",
    "        self.fc1 = nn.Linear(32 * 11 * 11, 256) \n",
    "        self.relu5 = nn.ReLU() # activation\n",
    "        self.dropout1=nn.Dropout(p=0.4)\n",
    "        self.fc2 = nn.Linear(256, 10) \n",
    "        self.dropout2=nn.Dropout(p=0.4)\n",
    "        self.output = nn.Softmax(dim=1)\n",
    "\n",
    "    def forward(self, x):\n",
    "        out = self.cnn1(x) # Convolution 1\n",
    "        out = self.BatchNorm2d_1(out)\n",
    "        out = self.relu1(out)\n",
    "        out = self.maxpool1(out)# Max pool 1\n",
    "        out = self.cnn2(out) # Convolution 2\n",
    "        out = self.BatchNorm2d_2(out)\n",
    "        out = self.relu2(out) \n",
    "        out = self.maxpool2(out) # Max pool 2\n",
    "        out = self.cnn3(out) # Convolution 3\n",
    "        out = self.BatchNorm2d_3(out)\n",
    "        out = self.relu3(out)\n",
    "        out = self.maxpool3(out) # Max pool 3\n",
    "        out = self.cnn4(out) # Convolution 4\n",
    "        out = self.BatchNorm2d_4(out)\n",
    "        out = self.relu4(out)\n",
    "        out = self.maxpool4(out) # Max pool 4\n",
    "        out = out.view(out.size(0), -1) # last CNN faltten con. Linear NN\n",
    "        out = self.fc1(out) # Linear function (readout)\n",
    "        # out = self.dropout1(out)\n",
    "        out = self.fc2(out)\n",
    "        # out = self.dropout2(out)\n",
    "        out = self.output(out)\n",
    "        return out"
   ]
  },
  {
   "cell_type": "code",
   "execution_count": 11,
   "id": "72436e66-8c20-4485-bdec-9f1f11ddb74a",
   "metadata": {},
   "outputs": [],
   "source": [
    "class MyCustomResnet18(nn.Module):\n",
    "    def __init__(self, pretrained=True):\n",
    "        super().__init__()\n",
    "        \n",
    "        #特別注意的是，這個resnet18的變數，並不一定要是官方預訓練的模型\n",
    "        #也可以是自定義的神經網路架構，增加了使用上的彈性\n",
    "        self.res_18_model = torchvision.models.resnet18(weights=True)\n",
    "        # self.num_fc_ftr = self.res_18_model.fc.in_features #获取到fc层的输入\n",
    "        # self.res_18_model.fc = nn.Linear(self.num_fc_ftr, 10)\n",
    "        # for param in self.model.parameters():\n",
    "        #     param.requires_grad = False\n",
    "        # self.dropout1=nn.Dropout(p=0.1)\n",
    "        # self.model.fc0 = nn.Linear(512, 256)\n",
    "        # self.model.fc1 = nn.Linear(256, 10)\n",
    "        # self.BatchNorm2d_1 = nn.BatchNorm1d(256)\n",
    "        self.features = nn.ModuleList( self.res_18_model.children())[:-1]\n",
    "        self.features = nn.Sequential(*self.features)\n",
    "        # self.in_features = resnet18.fc.in_features\n",
    "        self.fc0 = nn.Linear(self.res_18_model.fc.in_features, 10)\n",
    "        self.dropout1=nn.Dropout(p=0.2)\n",
    "        self.fc0_bn = nn.BatchNorm1d(10, eps = 1e-2)\n",
    "        # self.fc1 = nn.Linear(256, 10)\n",
    "        # self.fc1_bn = nn.BatchNorm1d(10, eps = 1e-2)\n",
    "    def forward(self, input_imgs):\n",
    "        #如果使用自定義神經網路架構時，要注意nn.Sequential搭配\n",
    "        #nn.ModuleList後，可能會因為定義之架構屬多段組合而成之網路\n",
    "        #多了一層額外的Sequential架構造成圖片送入網路時dim錯誤，因此可以改用:\n",
    "        #out = self.features[0](x)\n",
    "        #out = self.features[1](x)\n",
    "        #的方式來解決。\n",
    "        # output = self.features(input_imgs)\n",
    "        output = self.model(input_imgs)\n",
    "        output = output.view(input_imgs.size(0), -1)\n",
    "        # output = self.dropout1(output)\n",
    "        output = self.fc0_bn(F.relu(self.fc0(output)))\n",
    "        # output = self.BatchNorm2d_1(output)\n",
    "        # output = self.fc1_bn(F.relu(self.fc1(output)))\n",
    "        \n",
    "        \n",
    "        # output = self.dropout1(output)\n",
    "        return output\n",
    "    "
   ]
  },
  {
   "cell_type": "code",
   "execution_count": null,
   "id": "6815c35a-8a59-4bf5-86f3-8b7dbebb98b4",
   "metadata": {},
   "outputs": [],
   "source": []
  },
  {
   "cell_type": "code",
   "execution_count": 12,
   "id": "c96df7f9-c253-4f48-9915-2e8ca07d351c",
   "metadata": {},
   "outputs": [
    {
     "name": "stderr",
     "output_type": "stream",
     "text": [
      "C:\\Users\\user\\anaconda3\\envs\\pytorch\\lib\\site-packages\\torchvision\\models\\_utils.py:208: UserWarning: The parameter 'pretrained' is deprecated since 0.13 and may be removed in the future, please use 'weights' instead.\n",
      "  warnings.warn(\n",
      "C:\\Users\\user\\anaconda3\\envs\\pytorch\\lib\\site-packages\\torchvision\\models\\_utils.py:223: UserWarning: Arguments other than a weight enum or `None` for 'weights' are deprecated since 0.13 and may be removed in the future. The current behavior is equivalent to passing `weights=ResNet18_Weights.IMAGENET1K_V1`. You can also use `weights=ResNet18_Weights.DEFAULT` to get the most up-to-date weights.\n",
      "  warnings.warn(msg)\n"
     ]
    }
   ],
   "source": [
    "res_18_model = models.resnet18(pretrained=True)\n",
    "num_fc_ftr = res_18_model.fc.in_features #获取到fc层的输入\n",
    "res_18_model.fc = nn.Linear(num_fc_ftr, 10)\n",
    "model=res_18_model\n",
    "# if(torch.cuda.is_available()==True):\n",
    "#     model=res_18_model.cuda()\n",
    "# for layer in list(model.parameters())[:41]:\n",
    "#     layer.requires_grad=False\n",
    "# optimizer=torch.optim.Adam(model.parameters(), lr=learning_rate)\n",
    "# criterion=nn.CrossEntropyLoss()"
   ]
  },
  {
   "cell_type": "code",
   "execution_count": 13,
   "id": "ec88b51e-7b13-4614-a0df-ddeb8761ef44",
   "metadata": {},
   "outputs": [
    {
     "name": "stdout",
     "output_type": "stream",
     "text": [
      "==========================================================================================\n",
      "Layer (type:depth-idx)                   Output Shape              Param #\n",
      "==========================================================================================\n",
      "├─Conv2d: 1-1                            [-1, 64, 112, 112]        9,408\n",
      "├─BatchNorm2d: 1-2                       [-1, 64, 112, 112]        128\n",
      "├─ReLU: 1-3                              [-1, 64, 112, 112]        --\n",
      "├─MaxPool2d: 1-4                         [-1, 64, 56, 56]          --\n",
      "├─Sequential: 1-5                        [-1, 64, 56, 56]          --\n",
      "|    └─BasicBlock: 2-1                   [-1, 64, 56, 56]          --\n",
      "|    |    └─Conv2d: 3-1                  [-1, 64, 56, 56]          36,864\n",
      "|    |    └─BatchNorm2d: 3-2             [-1, 64, 56, 56]          128\n",
      "|    |    └─ReLU: 3-3                    [-1, 64, 56, 56]          --\n",
      "|    |    └─Conv2d: 3-4                  [-1, 64, 56, 56]          36,864\n",
      "|    |    └─BatchNorm2d: 3-5             [-1, 64, 56, 56]          128\n",
      "|    |    └─ReLU: 3-6                    [-1, 64, 56, 56]          --\n",
      "|    └─BasicBlock: 2-2                   [-1, 64, 56, 56]          --\n",
      "|    |    └─Conv2d: 3-7                  [-1, 64, 56, 56]          36,864\n",
      "|    |    └─BatchNorm2d: 3-8             [-1, 64, 56, 56]          128\n",
      "|    |    └─ReLU: 3-9                    [-1, 64, 56, 56]          --\n",
      "|    |    └─Conv2d: 3-10                 [-1, 64, 56, 56]          36,864\n",
      "|    |    └─BatchNorm2d: 3-11            [-1, 64, 56, 56]          128\n",
      "|    |    └─ReLU: 3-12                   [-1, 64, 56, 56]          --\n",
      "├─Sequential: 1-6                        [-1, 128, 28, 28]         --\n",
      "|    └─BasicBlock: 2-3                   [-1, 128, 28, 28]         --\n",
      "|    |    └─Conv2d: 3-13                 [-1, 128, 28, 28]         73,728\n",
      "|    |    └─BatchNorm2d: 3-14            [-1, 128, 28, 28]         256\n",
      "|    |    └─ReLU: 3-15                   [-1, 128, 28, 28]         --\n",
      "|    |    └─Conv2d: 3-16                 [-1, 128, 28, 28]         147,456\n",
      "|    |    └─BatchNorm2d: 3-17            [-1, 128, 28, 28]         256\n",
      "|    |    └─Sequential: 3-18             [-1, 128, 28, 28]         8,448\n",
      "|    |    └─ReLU: 3-19                   [-1, 128, 28, 28]         --\n",
      "|    └─BasicBlock: 2-4                   [-1, 128, 28, 28]         --\n",
      "|    |    └─Conv2d: 3-20                 [-1, 128, 28, 28]         147,456\n",
      "|    |    └─BatchNorm2d: 3-21            [-1, 128, 28, 28]         256\n",
      "|    |    └─ReLU: 3-22                   [-1, 128, 28, 28]         --\n",
      "|    |    └─Conv2d: 3-23                 [-1, 128, 28, 28]         147,456\n",
      "|    |    └─BatchNorm2d: 3-24            [-1, 128, 28, 28]         256\n",
      "|    |    └─ReLU: 3-25                   [-1, 128, 28, 28]         --\n",
      "├─Sequential: 1-7                        [-1, 256, 14, 14]         --\n",
      "|    └─BasicBlock: 2-5                   [-1, 256, 14, 14]         --\n",
      "|    |    └─Conv2d: 3-26                 [-1, 256, 14, 14]         294,912\n",
      "|    |    └─BatchNorm2d: 3-27            [-1, 256, 14, 14]         512\n",
      "|    |    └─ReLU: 3-28                   [-1, 256, 14, 14]         --\n",
      "|    |    └─Conv2d: 3-29                 [-1, 256, 14, 14]         589,824\n",
      "|    |    └─BatchNorm2d: 3-30            [-1, 256, 14, 14]         512\n",
      "|    |    └─Sequential: 3-31             [-1, 256, 14, 14]         33,280\n",
      "|    |    └─ReLU: 3-32                   [-1, 256, 14, 14]         --\n",
      "|    └─BasicBlock: 2-6                   [-1, 256, 14, 14]         --\n",
      "|    |    └─Conv2d: 3-33                 [-1, 256, 14, 14]         589,824\n",
      "|    |    └─BatchNorm2d: 3-34            [-1, 256, 14, 14]         512\n",
      "|    |    └─ReLU: 3-35                   [-1, 256, 14, 14]         --\n",
      "|    |    └─Conv2d: 3-36                 [-1, 256, 14, 14]         589,824\n",
      "|    |    └─BatchNorm2d: 3-37            [-1, 256, 14, 14]         512\n",
      "|    |    └─ReLU: 3-38                   [-1, 256, 14, 14]         --\n",
      "├─Sequential: 1-8                        [-1, 512, 7, 7]           --\n",
      "|    └─BasicBlock: 2-7                   [-1, 512, 7, 7]           --\n",
      "|    |    └─Conv2d: 3-39                 [-1, 512, 7, 7]           1,179,648\n",
      "|    |    └─BatchNorm2d: 3-40            [-1, 512, 7, 7]           1,024\n",
      "|    |    └─ReLU: 3-41                   [-1, 512, 7, 7]           --\n",
      "|    |    └─Conv2d: 3-42                 [-1, 512, 7, 7]           2,359,296\n",
      "|    |    └─BatchNorm2d: 3-43            [-1, 512, 7, 7]           1,024\n",
      "|    |    └─Sequential: 3-44             [-1, 512, 7, 7]           132,096\n",
      "|    |    └─ReLU: 3-45                   [-1, 512, 7, 7]           --\n",
      "|    └─BasicBlock: 2-8                   [-1, 512, 7, 7]           --\n",
      "|    |    └─Conv2d: 3-46                 [-1, 512, 7, 7]           2,359,296\n",
      "|    |    └─BatchNorm2d: 3-47            [-1, 512, 7, 7]           1,024\n",
      "|    |    └─ReLU: 3-48                   [-1, 512, 7, 7]           --\n",
      "|    |    └─Conv2d: 3-49                 [-1, 512, 7, 7]           2,359,296\n",
      "|    |    └─BatchNorm2d: 3-50            [-1, 512, 7, 7]           1,024\n",
      "|    |    └─ReLU: 3-51                   [-1, 512, 7, 7]           --\n",
      "├─AdaptiveAvgPool2d: 1-9                 [-1, 512, 1, 1]           --\n",
      "├─Linear: 1-10                           [-1, 10]                  5,130\n",
      "==========================================================================================\n",
      "Total params: 11,181,642\n",
      "Trainable params: 11,181,642\n",
      "Non-trainable params: 0\n",
      "Total mult-adds (G): 1.84\n",
      "==========================================================================================\n",
      "Input size (MB): 0.57\n",
      "Forward/backward pass size (MB): 37.90\n",
      "Params size (MB): 42.65\n",
      "Estimated Total Size (MB): 81.13\n",
      "==========================================================================================\n"
     ]
    },
    {
     "data": {
      "text/plain": [
       "==========================================================================================\n",
       "Layer (type:depth-idx)                   Output Shape              Param #\n",
       "==========================================================================================\n",
       "├─Conv2d: 1-1                            [-1, 64, 112, 112]        9,408\n",
       "├─BatchNorm2d: 1-2                       [-1, 64, 112, 112]        128\n",
       "├─ReLU: 1-3                              [-1, 64, 112, 112]        --\n",
       "├─MaxPool2d: 1-4                         [-1, 64, 56, 56]          --\n",
       "├─Sequential: 1-5                        [-1, 64, 56, 56]          --\n",
       "|    └─BasicBlock: 2-1                   [-1, 64, 56, 56]          --\n",
       "|    |    └─Conv2d: 3-1                  [-1, 64, 56, 56]          36,864\n",
       "|    |    └─BatchNorm2d: 3-2             [-1, 64, 56, 56]          128\n",
       "|    |    └─ReLU: 3-3                    [-1, 64, 56, 56]          --\n",
       "|    |    └─Conv2d: 3-4                  [-1, 64, 56, 56]          36,864\n",
       "|    |    └─BatchNorm2d: 3-5             [-1, 64, 56, 56]          128\n",
       "|    |    └─ReLU: 3-6                    [-1, 64, 56, 56]          --\n",
       "|    └─BasicBlock: 2-2                   [-1, 64, 56, 56]          --\n",
       "|    |    └─Conv2d: 3-7                  [-1, 64, 56, 56]          36,864\n",
       "|    |    └─BatchNorm2d: 3-8             [-1, 64, 56, 56]          128\n",
       "|    |    └─ReLU: 3-9                    [-1, 64, 56, 56]          --\n",
       "|    |    └─Conv2d: 3-10                 [-1, 64, 56, 56]          36,864\n",
       "|    |    └─BatchNorm2d: 3-11            [-1, 64, 56, 56]          128\n",
       "|    |    └─ReLU: 3-12                   [-1, 64, 56, 56]          --\n",
       "├─Sequential: 1-6                        [-1, 128, 28, 28]         --\n",
       "|    └─BasicBlock: 2-3                   [-1, 128, 28, 28]         --\n",
       "|    |    └─Conv2d: 3-13                 [-1, 128, 28, 28]         73,728\n",
       "|    |    └─BatchNorm2d: 3-14            [-1, 128, 28, 28]         256\n",
       "|    |    └─ReLU: 3-15                   [-1, 128, 28, 28]         --\n",
       "|    |    └─Conv2d: 3-16                 [-1, 128, 28, 28]         147,456\n",
       "|    |    └─BatchNorm2d: 3-17            [-1, 128, 28, 28]         256\n",
       "|    |    └─Sequential: 3-18             [-1, 128, 28, 28]         8,448\n",
       "|    |    └─ReLU: 3-19                   [-1, 128, 28, 28]         --\n",
       "|    └─BasicBlock: 2-4                   [-1, 128, 28, 28]         --\n",
       "|    |    └─Conv2d: 3-20                 [-1, 128, 28, 28]         147,456\n",
       "|    |    └─BatchNorm2d: 3-21            [-1, 128, 28, 28]         256\n",
       "|    |    └─ReLU: 3-22                   [-1, 128, 28, 28]         --\n",
       "|    |    └─Conv2d: 3-23                 [-1, 128, 28, 28]         147,456\n",
       "|    |    └─BatchNorm2d: 3-24            [-1, 128, 28, 28]         256\n",
       "|    |    └─ReLU: 3-25                   [-1, 128, 28, 28]         --\n",
       "├─Sequential: 1-7                        [-1, 256, 14, 14]         --\n",
       "|    └─BasicBlock: 2-5                   [-1, 256, 14, 14]         --\n",
       "|    |    └─Conv2d: 3-26                 [-1, 256, 14, 14]         294,912\n",
       "|    |    └─BatchNorm2d: 3-27            [-1, 256, 14, 14]         512\n",
       "|    |    └─ReLU: 3-28                   [-1, 256, 14, 14]         --\n",
       "|    |    └─Conv2d: 3-29                 [-1, 256, 14, 14]         589,824\n",
       "|    |    └─BatchNorm2d: 3-30            [-1, 256, 14, 14]         512\n",
       "|    |    └─Sequential: 3-31             [-1, 256, 14, 14]         33,280\n",
       "|    |    └─ReLU: 3-32                   [-1, 256, 14, 14]         --\n",
       "|    └─BasicBlock: 2-6                   [-1, 256, 14, 14]         --\n",
       "|    |    └─Conv2d: 3-33                 [-1, 256, 14, 14]         589,824\n",
       "|    |    └─BatchNorm2d: 3-34            [-1, 256, 14, 14]         512\n",
       "|    |    └─ReLU: 3-35                   [-1, 256, 14, 14]         --\n",
       "|    |    └─Conv2d: 3-36                 [-1, 256, 14, 14]         589,824\n",
       "|    |    └─BatchNorm2d: 3-37            [-1, 256, 14, 14]         512\n",
       "|    |    └─ReLU: 3-38                   [-1, 256, 14, 14]         --\n",
       "├─Sequential: 1-8                        [-1, 512, 7, 7]           --\n",
       "|    └─BasicBlock: 2-7                   [-1, 512, 7, 7]           --\n",
       "|    |    └─Conv2d: 3-39                 [-1, 512, 7, 7]           1,179,648\n",
       "|    |    └─BatchNorm2d: 3-40            [-1, 512, 7, 7]           1,024\n",
       "|    |    └─ReLU: 3-41                   [-1, 512, 7, 7]           --\n",
       "|    |    └─Conv2d: 3-42                 [-1, 512, 7, 7]           2,359,296\n",
       "|    |    └─BatchNorm2d: 3-43            [-1, 512, 7, 7]           1,024\n",
       "|    |    └─Sequential: 3-44             [-1, 512, 7, 7]           132,096\n",
       "|    |    └─ReLU: 3-45                   [-1, 512, 7, 7]           --\n",
       "|    └─BasicBlock: 2-8                   [-1, 512, 7, 7]           --\n",
       "|    |    └─Conv2d: 3-46                 [-1, 512, 7, 7]           2,359,296\n",
       "|    |    └─BatchNorm2d: 3-47            [-1, 512, 7, 7]           1,024\n",
       "|    |    └─ReLU: 3-48                   [-1, 512, 7, 7]           --\n",
       "|    |    └─Conv2d: 3-49                 [-1, 512, 7, 7]           2,359,296\n",
       "|    |    └─BatchNorm2d: 3-50            [-1, 512, 7, 7]           1,024\n",
       "|    |    └─ReLU: 3-51                   [-1, 512, 7, 7]           --\n",
       "├─AdaptiveAvgPool2d: 1-9                 [-1, 512, 1, 1]           --\n",
       "├─Linear: 1-10                           [-1, 10]                  5,130\n",
       "==========================================================================================\n",
       "Total params: 11,181,642\n",
       "Trainable params: 11,181,642\n",
       "Non-trainable params: 0\n",
       "Total mult-adds (G): 1.84\n",
       "==========================================================================================\n",
       "Input size (MB): 0.57\n",
       "Forward/backward pass size (MB): 37.90\n",
       "Params size (MB): 42.65\n",
       "Estimated Total Size (MB): 81.13\n",
       "=========================================================================================="
      ]
     },
     "execution_count": 13,
     "metadata": {},
     "output_type": "execute_result"
    }
   ],
   "source": [
    "device = torch.device(\"cuda:0\" if torch.cuda.is_available() else \"cpu\")\n",
    "# model = MyCustomResnet18()\n",
    "model = model.to(device)\n",
    "criterion = nn.CrossEntropyLoss().cuda()\n",
    "optimizer = torch.optim.Adam(model.parameters(), lr=learning_rate)\n",
    "summary(model, (3, 224, 224))\n",
    "# print(model)"
   ]
  },
  {
   "cell_type": "code",
   "execution_count": 14,
   "id": "870ba0b4-7cb3-4634-bde1-f1c9191f72f1",
   "metadata": {},
   "outputs": [],
   "source": [
    "## compute accuracy\n",
    "def get_accuracy(logit, target, batch_size):\n",
    "    ''' Obtain accuracy for training round '''\n",
    "    corrects = (torch.max(logit, 1)[1].view(target.size()).data == target.data).sum()\n",
    "    accuracy = 100.0 * corrects/batch_size\n",
    "    return accuracy.item()"
   ]
  },
  {
   "cell_type": "code",
   "execution_count": 15,
   "id": "69b52450-d6f0-42b3-b744-f7a8cee6d7b6",
   "metadata": {},
   "outputs": [],
   "source": [
    "def weight_reset(m):\n",
    "    if isinstance(m, nn.Conv2d) or isinstance(m, nn.Linear):\n",
    "        m.reset_parameters()"
   ]
  },
  {
   "cell_type": "code",
   "execution_count": 16,
   "id": "7619fef8-84af-432c-a0c4-5e4f09cf0b57",
   "metadata": {},
   "outputs": [],
   "source": [
    "def train(dataloader, model, loss_fn, optimizer):\n",
    "    epoch_acc=0.0\n",
    "    size = len(dataloader.dataset) # number of samples\n",
    "    num_batches = len(dataloader) # batches per epoch\n",
    "\n",
    "    model.train() # Sets the model in training mode.\n",
    "    epoch_loss, epoch_correct = 0, 0\n",
    "\n",
    "    for batch_i, (images, labels) in tqdm(enumerate(dataloader)):\n",
    "        images, labels = images.to(device), labels.to(device) # move data to GPU\n",
    "\n",
    "        # Compute prediction loss\n",
    "        pred = model(images)\n",
    "        loss = criterion(pred, labels)\n",
    "\n",
    "        # Optimization by gradients\n",
    "        optimizer.zero_grad() # set prevision gradient to 0\n",
    "        loss.backward() # backpropagation to compute gradients\n",
    "        optimizer.step() # update model params\n",
    "\n",
    "        # write to logs\n",
    "        #epoch_loss += loss.item()\n",
    "        epoch_loss += loss.detach().item()\n",
    "        # epoch_correct += (pred.argmax(1) == y).type(torch.float).sum().item()\n",
    "        epoch_correct +=(torch.max(pred, 1)[1].view(labels.size()).data == labels.data).sum()\n",
    "        epoch_acc += get_accuracy(pred, labels, BATCH_SIZE)\n",
    "    \n",
    "    \n",
    "    return epoch_loss/num_batches,epoch_acc/len(dataloader)"
   ]
  },
  {
   "cell_type": "code",
   "execution_count": 17,
   "id": "6bfd8bea-7d71-4cbc-8ee5-4e0f08de3dbe",
   "metadata": {},
   "outputs": [],
   "source": [
    "def test(dataloader, model, loss_fn):\n",
    "    epoch_acc=0.0\n",
    "    size = len(dataloader.dataset) # number of samples\n",
    "    num_batches = len(dataloader) # batches per epoch\n",
    "\n",
    "    model.eval() # Sets the model in test mode.\n",
    "    epoch_loss, epoch_correct = 0, 0\n",
    "\n",
    "    # No training for test data\n",
    "    with torch.no_grad():\n",
    "        for batch_i, (images, labels) in tqdm(enumerate(dataloader)):\n",
    "            images, labels = images.to(device), labels.to(device)\n",
    "\n",
    "            pred = model(images)\n",
    "            loss = criterion(pred, labels)\n",
    "            \n",
    "            #epoch_loss += loss.item()\n",
    "            epoch_loss += loss.item()\n",
    "            # epoch_correct += (pred.argmax(1) == y).type(torch.float).sum().item()\n",
    "            epoch_correct+=(torch.max(pred, 1)[1].view(labels.size()).data == labels.data).sum()\n",
    "            epoch_acc += get_accuracy(pred, labels, BATCH_SIZE)\n",
    "    return epoch_loss/num_batches, epoch_acc/len(dataloader)"
   ]
  },
  {
   "cell_type": "code",
   "execution_count": 18,
   "id": "4b9d20bb-3dd0-458f-a8d7-afa733c29d01",
   "metadata": {},
   "outputs": [],
   "source": [
    "# define draw\n",
    "def plotCurve(x_vals, y_vals, \n",
    "                x_label, y_label, \n",
    "                x2_vals=None, y2_vals=None, \n",
    "                legend=None,\n",
    "                figsize=(3.5, 2.5)):\n",
    "    # set figsize\n",
    "    plt.xlabel(x_label)\n",
    "    plt.ylabel(y_label)\n",
    "    plt.plot(x_vals, y_vals)\n",
    "    # plt.semilogy(x_vals, y_vals)\n",
    "    if x2_vals and y2_vals:\n",
    "        # plt.semilogy(x2_vals, y2_vals, linestyle=':')\n",
    "        plt.plot(x_vals, y2_vals)\n",
    "    if legend:\n",
    "        plt.legend(legend)\n",
    "    plt.show()"
   ]
  },
  {
   "cell_type": "code",
   "execution_count": 19,
   "id": "cd7fe785-d919-4c95-8b34-9396f2677328",
   "metadata": {},
   "outputs": [
    {
     "name": "stdout",
     "output_type": "stream",
     "text": [
      "Fold 1\n",
      "train size: 16750, val size: 4188\n",
      "==================================================\n"
     ]
    },
    {
     "name": "stderr",
     "output_type": "stream",
     "text": [
      "262it [00:23, 11.32it/s]\n",
      "66it [00:05, 11.42it/s]\n"
     ]
    },
    {
     "name": "stdout",
     "output_type": "stream",
     "text": [
      "Epoch:1/40  Training Loss:2.183 || Training Acc 23.408 % ||  valid Loss:2.123 ||  valid Acc 25.639 %\n"
     ]
    },
    {
     "name": "stderr",
     "output_type": "stream",
     "text": [
      "262it [00:23, 11.25it/s]\n",
      "66it [00:05, 11.69it/s]\n"
     ]
    },
    {
     "name": "stdout",
     "output_type": "stream",
     "text": [
      "Epoch:2/40  Training Loss:2.028 || Training Acc 28.578 % ||  valid Loss:1.917 ||  valid Acc 33.830 %\n"
     ]
    },
    {
     "name": "stderr",
     "output_type": "stream",
     "text": [
      "262it [00:22, 11.50it/s]\n",
      "66it [00:05, 11.57it/s]\n"
     ]
    },
    {
     "name": "stdout",
     "output_type": "stream",
     "text": [
      "Epoch:3/40  Training Loss:1.778 || Training Acc 38.120 % ||  valid Loss:1.743 ||  valid Acc 39.465 %\n"
     ]
    },
    {
     "name": "stderr",
     "output_type": "stream",
     "text": [
      "262it [00:22, 11.41it/s]\n",
      "66it [00:05, 11.54it/s]\n"
     ]
    },
    {
     "name": "stdout",
     "output_type": "stream",
     "text": [
      "Epoch:4/40  Training Loss:1.483 || Training Acc 49.028 % ||  valid Loss:1.722 ||  valid Acc 41.832 %\n"
     ]
    },
    {
     "name": "stderr",
     "output_type": "stream",
     "text": [
      "262it [00:22, 11.49it/s]\n",
      "66it [00:05, 11.46it/s]\n"
     ]
    },
    {
     "name": "stdout",
     "output_type": "stream",
     "text": [
      "Epoch:5/40  Training Loss:1.328 || Training Acc 54.431 % ||  valid Loss:1.390 ||  valid Acc 52.462 %\n"
     ]
    },
    {
     "name": "stderr",
     "output_type": "stream",
     "text": [
      "262it [00:23, 11.32it/s]\n",
      "66it [00:05, 11.47it/s]\n"
     ]
    },
    {
     "name": "stdout",
     "output_type": "stream",
     "text": [
      "Epoch:6/40  Training Loss:1.189 || Training Acc 59.166 % ||  valid Loss:1.344 ||  valid Acc 54.285 %\n"
     ]
    },
    {
     "name": "stderr",
     "output_type": "stream",
     "text": [
      "262it [00:23, 11.34it/s]\n",
      "66it [00:05, 11.54it/s]\n"
     ]
    },
    {
     "name": "stdout",
     "output_type": "stream",
     "text": [
      "Epoch:7/40  Training Loss:1.077 || Training Acc 63.156 % ||  valid Loss:1.303 ||  valid Acc 54.522 %\n"
     ]
    },
    {
     "name": "stderr",
     "output_type": "stream",
     "text": [
      "262it [00:22, 11.45it/s]\n",
      "66it [00:05, 11.60it/s]\n"
     ]
    },
    {
     "name": "stdout",
     "output_type": "stream",
     "text": [
      "Epoch:8/40  Training Loss:0.989 || Training Acc 66.388 % ||  valid Loss:1.173 ||  valid Acc 59.683 %\n"
     ]
    },
    {
     "name": "stderr",
     "output_type": "stream",
     "text": [
      "262it [00:22, 11.45it/s]\n",
      "66it [00:05, 11.54it/s]\n"
     ]
    },
    {
     "name": "stdout",
     "output_type": "stream",
     "text": [
      "Epoch:9/40  Training Loss:0.901 || Training Acc 69.257 % ||  valid Loss:0.961 ||  valid Acc 66.974 %\n"
     ]
    },
    {
     "name": "stderr",
     "output_type": "stream",
     "text": [
      "262it [00:23, 11.36it/s]\n",
      "66it [00:05, 11.57it/s]\n"
     ]
    },
    {
     "name": "stdout",
     "output_type": "stream",
     "text": [
      "Epoch:10/40  Training Loss:0.810 || Training Acc 72.465 % ||  valid Loss:0.994 ||  valid Acc 65.483 %\n"
     ]
    },
    {
     "name": "stderr",
     "output_type": "stream",
     "text": [
      "262it [00:23, 11.07it/s]\n",
      "66it [00:05, 11.51it/s]\n"
     ]
    },
    {
     "name": "stdout",
     "output_type": "stream",
     "text": [
      "Epoch:11/40  Training Loss:0.754 || Training Acc 74.255 % ||  valid Loss:0.859 ||  valid Acc 70.881 %\n"
     ]
    },
    {
     "name": "stderr",
     "output_type": "stream",
     "text": [
      "262it [00:22, 11.43it/s]\n",
      "66it [00:05, 11.61it/s]\n"
     ]
    },
    {
     "name": "stdout",
     "output_type": "stream",
     "text": [
      "Epoch:12/40  Training Loss:0.699 || Training Acc 76.473 % ||  valid Loss:0.802 ||  valid Acc 73.580 %\n"
     ]
    },
    {
     "name": "stderr",
     "output_type": "stream",
     "text": [
      "262it [00:23, 11.29it/s]\n",
      "66it [00:05, 11.56it/s]\n"
     ]
    },
    {
     "name": "stdout",
     "output_type": "stream",
     "text": [
      "Epoch:13/40  Training Loss:0.644 || Training Acc 78.000 % ||  valid Loss:0.745 ||  valid Acc 74.645 %\n"
     ]
    },
    {
     "name": "stderr",
     "output_type": "stream",
     "text": [
      "262it [00:23, 11.32it/s]\n",
      "66it [00:05, 11.59it/s]\n"
     ]
    },
    {
     "name": "stdout",
     "output_type": "stream",
     "text": [
      "Epoch:14/40  Training Loss:0.597 || Training Acc 79.598 % ||  valid Loss:1.040 ||  valid Acc 66.903 %\n"
     ]
    },
    {
     "name": "stderr",
     "output_type": "stream",
     "text": [
      "262it [00:22, 11.46it/s]\n",
      "66it [00:05, 11.52it/s]\n"
     ]
    },
    {
     "name": "stdout",
     "output_type": "stream",
     "text": [
      "Epoch:15/40  Training Loss:0.546 || Training Acc 81.542 % ||  valid Loss:0.635 ||  valid Acc 77.723 %\n"
     ]
    },
    {
     "name": "stderr",
     "output_type": "stream",
     "text": [
      "262it [00:22, 11.41it/s]\n",
      "66it [00:05, 11.54it/s]\n"
     ]
    },
    {
     "name": "stdout",
     "output_type": "stream",
     "text": [
      "Epoch:16/40  Training Loss:0.509 || Training Acc 82.968 % ||  valid Loss:0.745 ||  valid Acc 75.308 %\n"
     ]
    },
    {
     "name": "stderr",
     "output_type": "stream",
     "text": [
      "262it [00:22, 11.42it/s]\n",
      "66it [00:05, 11.69it/s]\n"
     ]
    },
    {
     "name": "stdout",
     "output_type": "stream",
     "text": [
      "Epoch:17/40  Training Loss:0.480 || Training Acc 84.059 % ||  valid Loss:0.674 ||  valid Acc 77.320 %\n"
     ]
    },
    {
     "name": "stderr",
     "output_type": "stream",
     "text": [
      "262it [00:23, 11.31it/s]\n",
      "66it [00:05, 11.48it/s]\n"
     ]
    },
    {
     "name": "stdout",
     "output_type": "stream",
     "text": [
      "Epoch:18/40  Training Loss:0.443 || Training Acc 84.953 % ||  valid Loss:0.653 ||  valid Acc 77.628 %\n"
     ]
    },
    {
     "name": "stderr",
     "output_type": "stream",
     "text": [
      "262it [00:22, 11.44it/s]\n",
      "66it [00:05, 11.43it/s]\n"
     ]
    },
    {
     "name": "stdout",
     "output_type": "stream",
     "text": [
      "Epoch:19/40  Training Loss:0.421 || Training Acc 85.997 % ||  valid Loss:0.635 ||  valid Acc 79.545 %\n"
     ]
    },
    {
     "name": "stderr",
     "output_type": "stream",
     "text": [
      "262it [00:22, 11.48it/s]\n",
      "66it [00:05, 11.55it/s]\n"
     ]
    },
    {
     "name": "stdout",
     "output_type": "stream",
     "text": [
      "Epoch:20/40  Training Loss:0.396 || Training Acc 86.444 % ||  valid Loss:0.624 ||  valid Acc 79.640 %\n"
     ]
    },
    {
     "name": "stderr",
     "output_type": "stream",
     "text": [
      "262it [00:23, 11.39it/s]\n",
      "66it [00:05, 11.47it/s]\n"
     ]
    },
    {
     "name": "stdout",
     "output_type": "stream",
     "text": [
      "Epoch:21/40  Training Loss:0.381 || Training Acc 86.862 % ||  valid Loss:0.588 ||  valid Acc 79.830 %\n"
     ]
    },
    {
     "name": "stderr",
     "output_type": "stream",
     "text": [
      "262it [00:23, 11.36it/s]\n",
      "66it [00:05, 11.60it/s]\n"
     ]
    },
    {
     "name": "stdout",
     "output_type": "stream",
     "text": [
      "Epoch:22/40  Training Loss:0.358 || Training Acc 87.846 % ||  valid Loss:0.575 ||  valid Acc 81.132 %\n"
     ]
    },
    {
     "name": "stderr",
     "output_type": "stream",
     "text": [
      "262it [00:23, 11.34it/s]\n",
      "66it [00:05, 11.46it/s]\n"
     ]
    },
    {
     "name": "stdout",
     "output_type": "stream",
     "text": [
      "Epoch:23/40  Training Loss:0.340 || Training Acc 88.621 % ||  valid Loss:0.674 ||  valid Acc 78.717 %\n"
     ]
    },
    {
     "name": "stderr",
     "output_type": "stream",
     "text": [
      "262it [00:23, 11.36it/s]\n",
      "66it [00:06, 10.83it/s]\n"
     ]
    },
    {
     "name": "stdout",
     "output_type": "stream",
     "text": [
      "Epoch:24/40  Training Loss:0.311 || Training Acc 89.438 % ||  valid Loss:0.558 ||  valid Acc 82.694 %\n"
     ]
    },
    {
     "name": "stderr",
     "output_type": "stream",
     "text": [
      "262it [00:23, 11.14it/s]\n",
      "66it [00:05, 11.36it/s]\n"
     ]
    },
    {
     "name": "stdout",
     "output_type": "stream",
     "text": [
      "Epoch:25/40  Training Loss:0.295 || Training Acc 89.796 % ||  valid Loss:0.593 ||  valid Acc 80.279 %\n"
     ]
    },
    {
     "name": "stderr",
     "output_type": "stream",
     "text": [
      "262it [00:23, 11.25it/s]\n",
      "66it [00:05, 11.56it/s]\n"
     ]
    },
    {
     "name": "stdout",
     "output_type": "stream",
     "text": [
      "Epoch:26/40  Training Loss:0.291 || Training Acc 90.333 % ||  valid Loss:0.534 ||  valid Acc 82.765 %\n"
     ]
    },
    {
     "name": "stderr",
     "output_type": "stream",
     "text": [
      "262it [00:23, 11.33it/s]\n",
      "66it [00:05, 11.57it/s]\n"
     ]
    },
    {
     "name": "stdout",
     "output_type": "stream",
     "text": [
      "Epoch:27/40  Training Loss:0.272 || Training Acc 90.780 % ||  valid Loss:0.617 ||  valid Acc 81.439 %\n"
     ]
    },
    {
     "name": "stderr",
     "output_type": "stream",
     "text": [
      "262it [00:23, 11.11it/s]\n",
      "66it [00:05, 11.51it/s]\n"
     ]
    },
    {
     "name": "stdout",
     "output_type": "stream",
     "text": [
      "Epoch:28/40  Training Loss:0.259 || Training Acc 91.084 % ||  valid Loss:0.576 ||  valid Acc 82.765 %\n"
     ]
    },
    {
     "name": "stderr",
     "output_type": "stream",
     "text": [
      "262it [00:23, 11.39it/s]\n",
      "66it [00:05, 11.60it/s]\n"
     ]
    },
    {
     "name": "stdout",
     "output_type": "stream",
     "text": [
      "Epoch:29/40  Training Loss:0.249 || Training Acc 91.448 % ||  valid Loss:0.603 ||  valid Acc 82.505 %\n"
     ]
    },
    {
     "name": "stderr",
     "output_type": "stream",
     "text": [
      "262it [00:23, 11.34it/s]\n",
      "66it [00:05, 11.55it/s]\n"
     ]
    },
    {
     "name": "stdout",
     "output_type": "stream",
     "text": [
      "Epoch:30/40  Training Loss:0.233 || Training Acc 92.217 % ||  valid Loss:0.602 ||  valid Acc 81.250 %\n"
     ]
    },
    {
     "name": "stderr",
     "output_type": "stream",
     "text": [
      "262it [00:23, 11.33it/s]\n",
      "66it [00:05, 11.61it/s]\n"
     ]
    },
    {
     "name": "stdout",
     "output_type": "stream",
     "text": [
      "Epoch:31/40  Training Loss:0.219 || Training Acc 92.414 % ||  valid Loss:0.516 ||  valid Acc 83.617 %\n"
     ]
    },
    {
     "name": "stderr",
     "output_type": "stream",
     "text": [
      "262it [00:23, 11.32it/s]\n",
      "66it [00:05, 11.54it/s]\n"
     ]
    },
    {
     "name": "stdout",
     "output_type": "stream",
     "text": [
      "Epoch:32/40  Training Loss:0.223 || Training Acc 92.223 % ||  valid Loss:0.565 ||  valid Acc 82.694 %\n"
     ]
    },
    {
     "name": "stderr",
     "output_type": "stream",
     "text": [
      "262it [00:23, 11.37it/s]\n",
      "66it [00:05, 11.56it/s]\n"
     ]
    },
    {
     "name": "stdout",
     "output_type": "stream",
     "text": [
      "Epoch:33/40  Training Loss:0.208 || Training Acc 92.909 % ||  valid Loss:0.689 ||  valid Acc 81.889 %\n"
     ]
    },
    {
     "name": "stderr",
     "output_type": "stream",
     "text": [
      "262it [00:22, 11.40it/s]\n",
      "66it [00:05, 11.51it/s]\n"
     ]
    },
    {
     "name": "stdout",
     "output_type": "stream",
     "text": [
      "Epoch:34/40  Training Loss:0.201 || Training Acc 93.237 % ||  valid Loss:0.602 ||  valid Acc 82.741 %\n"
     ]
    },
    {
     "name": "stderr",
     "output_type": "stream",
     "text": [
      "262it [00:22, 11.42it/s]\n",
      "66it [00:05, 11.55it/s]\n"
     ]
    },
    {
     "name": "stdout",
     "output_type": "stream",
     "text": [
      "Epoch:35/40  Training Loss:0.179 || Training Acc 93.881 % ||  valid Loss:0.680 ||  valid Acc 80.469 %\n"
     ]
    },
    {
     "name": "stderr",
     "output_type": "stream",
     "text": [
      "262it [00:22, 11.48it/s]\n",
      "66it [00:05, 11.65it/s]\n"
     ]
    },
    {
     "name": "stdout",
     "output_type": "stream",
     "text": [
      "Epoch:36/40  Training Loss:0.189 || Training Acc 93.672 % ||  valid Loss:0.521 ||  valid Acc 84.920 %\n"
     ]
    },
    {
     "name": "stderr",
     "output_type": "stream",
     "text": [
      "262it [00:24, 10.89it/s]\n",
      "66it [00:05, 11.58it/s]\n"
     ]
    },
    {
     "name": "stdout",
     "output_type": "stream",
     "text": [
      "Epoch:37/40  Training Loss:0.176 || Training Acc 93.869 % ||  valid Loss:0.640 ||  valid Acc 81.203 %\n"
     ]
    },
    {
     "name": "stderr",
     "output_type": "stream",
     "text": [
      "262it [00:23, 11.31it/s]\n",
      "66it [00:05, 11.42it/s]\n"
     ]
    },
    {
     "name": "stdout",
     "output_type": "stream",
     "text": [
      "Epoch:38/40  Training Loss:0.172 || Training Acc 93.929 % ||  valid Loss:0.549 ||  valid Acc 83.878 %\n"
     ]
    },
    {
     "name": "stderr",
     "output_type": "stream",
     "text": [
      "262it [00:23, 11.39it/s]\n",
      "66it [00:05, 11.42it/s]\n"
     ]
    },
    {
     "name": "stdout",
     "output_type": "stream",
     "text": [
      "Epoch:39/40  Training Loss:0.155 || Training Acc 94.704 % ||  valid Loss:0.644 ||  valid Acc 83.168 %\n"
     ]
    },
    {
     "name": "stderr",
     "output_type": "stream",
     "text": [
      "262it [00:23, 11.29it/s]\n",
      "66it [00:05, 11.51it/s]\n"
     ]
    },
    {
     "name": "stdout",
     "output_type": "stream",
     "text": [
      "Epoch:40/40  Training Loss:0.159 || Training Acc 94.543 % ||  valid Loss:0.615 ||  valid Acc 83.073 %\n",
      "Fold 1\n",
      "avg train loss: 0.603, avg train acc: 79.302\n",
      "avg valid loss: 0.851, avg valid acc: 72.209\n",
      "====================================================================================================\n"
     ]
    },
    {
     "name": "stderr",
     "output_type": "stream",
     "text": [
      "82it [00:20,  3.94it/s]\n"
     ]
    },
    {
     "name": "stdout",
     "output_type": "stream",
     "text": [
      "Fold 1, test acc: 85.137\n",
      "==================================================\n",
      "plot curves\n"
     ]
    },
    {
     "data": {
      "image/png": "[encoded data removed]",
      "text/plain": [
       "<Figure size 640x480 with 1 Axes>"
      ]
     },
     "metadata": {},
     "output_type": "display_data"
    },
    {
     "data": {
      "image/png": "[encoded data removed]",
      "text/plain": [
       "<Figure size 640x480 with 1 Axes>"
      ]
     },
     "metadata": {},
     "output_type": "display_data"
    },
    {
     "name": "stdout",
     "output_type": "stream",
     "text": [
      "Fold 2\n",
      "train size: 16750, val size: 4188\n",
      "==================================================\n"
     ]
    },
    {
     "name": "stderr",
     "output_type": "stream",
     "text": [
      "262it [00:23, 11.22it/s]\n",
      "66it [00:05, 11.38it/s]\n"
     ]
    },
    {
     "name": "stdout",
     "output_type": "stream",
     "text": [
      "Epoch:1/40  Training Loss:2.246 || Training Acc 19.221 % ||  valid Loss:2.180 ||  valid Acc 22.254 %\n"
     ]
    },
    {
     "name": "stderr",
     "output_type": "stream",
     "text": [
      "262it [00:22, 11.40it/s]\n",
      "66it [00:05, 11.23it/s]\n"
     ]
    },
    {
     "name": "stdout",
     "output_type": "stream",
     "text": [
      "Epoch:2/40  Training Loss:2.080 || Training Acc 25.394 % ||  valid Loss:2.066 ||  valid Acc 27.249 %\n"
     ]
    },
    {
     "name": "stderr",
     "output_type": "stream",
     "text": [
      "262it [00:23, 11.34it/s]\n",
      "66it [00:05, 11.26it/s]\n"
     ]
    },
    {
     "name": "stdout",
     "output_type": "stream",
     "text": [
      "Epoch:3/40  Training Loss:1.842 || Training Acc 34.464 % ||  valid Loss:1.904 ||  valid Acc 33.262 %\n"
     ]
    },
    {
     "name": "stderr",
     "output_type": "stream",
     "text": [
      "262it [00:23, 11.27it/s]\n",
      "66it [00:05, 11.21it/s]\n"
     ]
    },
    {
     "name": "stdout",
     "output_type": "stream",
     "text": [
      "Epoch:4/40  Training Loss:1.633 || Training Acc 42.963 % ||  valid Loss:1.658 ||  valid Acc 44.034 %\n"
     ]
    },
    {
     "name": "stderr",
     "output_type": "stream",
     "text": [
      "262it [00:23, 11.28it/s]\n",
      "66it [00:06, 11.00it/s]\n"
     ]
    },
    {
     "name": "stdout",
     "output_type": "stream",
     "text": [
      "Epoch:5/40  Training Loss:1.437 || Training Acc 49.821 % ||  valid Loss:1.991 ||  valid Acc 37.098 %\n"
     ]
    },
    {
     "name": "stderr",
     "output_type": "stream",
     "text": [
      "262it [00:23, 11.34it/s]\n",
      "66it [00:06, 10.88it/s]\n"
     ]
    },
    {
     "name": "stdout",
     "output_type": "stream",
     "text": [
      "Epoch:6/40  Training Loss:1.276 || Training Acc 55.552 % ||  valid Loss:1.933 ||  valid Acc 38.234 %\n"
     ]
    },
    {
     "name": "stderr",
     "output_type": "stream",
     "text": [
      "262it [00:23, 11.31it/s]\n",
      "66it [00:05, 11.34it/s]\n"
     ]
    },
    {
     "name": "stdout",
     "output_type": "stream",
     "text": [
      "Epoch:7/40  Training Loss:1.192 || Training Acc 58.266 % ||  valid Loss:1.293 ||  valid Acc 55.327 %\n"
     ]
    },
    {
     "name": "stderr",
     "output_type": "stream",
     "text": [
      "262it [00:22, 11.41it/s]\n",
      "66it [00:06, 10.95it/s]\n"
     ]
    },
    {
     "name": "stdout",
     "output_type": "stream",
     "text": [
      "Epoch:8/40  Training Loss:1.107 || Training Acc 61.617 % ||  valid Loss:1.267 ||  valid Acc 56.061 %\n"
     ]
    },
    {
     "name": "stderr",
     "output_type": "stream",
     "text": [
      "262it [00:23, 11.11it/s]\n",
      "66it [00:05, 11.22it/s]\n"
     ]
    },
    {
     "name": "stdout",
     "output_type": "stream",
     "text": [
      "Epoch:9/40  Training Loss:1.041 || Training Acc 63.824 % ||  valid Loss:1.116 ||  valid Acc 61.671 %\n"
     ]
    },
    {
     "name": "stderr",
     "output_type": "stream",
     "text": [
      "262it [00:22, 11.53it/s]\n",
      "66it [00:05, 11.22it/s]\n"
     ]
    },
    {
     "name": "stdout",
     "output_type": "stream",
     "text": [
      "Epoch:10/40  Training Loss:0.990 || Training Acc 65.971 % ||  valid Loss:1.241 ||  valid Acc 58.168 %\n"
     ]
    },
    {
     "name": "stderr",
     "output_type": "stream",
     "text": [
      "262it [00:23, 11.35it/s]\n",
      "66it [00:05, 11.27it/s]\n"
     ]
    },
    {
     "name": "stdout",
     "output_type": "stream",
     "text": [
      "Epoch:11/40  Training Loss:0.929 || Training Acc 67.921 % ||  valid Loss:1.026 ||  valid Acc 64.749 %\n"
     ]
    },
    {
     "name": "stderr",
     "output_type": "stream",
     "text": [
      "262it [00:23, 11.27it/s]\n",
      "66it [00:05, 11.37it/s]\n"
     ]
    },
    {
     "name": "stdout",
     "output_type": "stream",
     "text": [
      "Epoch:12/40  Training Loss:0.879 || Training Acc 69.841 % ||  valid Loss:1.258 ||  valid Acc 59.493 %\n"
     ]
    },
    {
     "name": "stderr",
     "output_type": "stream",
     "text": [
      "262it [00:23, 11.29it/s]\n",
      "66it [00:06, 10.88it/s]\n"
     ]
    },
    {
     "name": "stdout",
     "output_type": "stream",
     "text": [
      "Epoch:13/40  Training Loss:0.811 || Training Acc 72.275 % ||  valid Loss:1.032 ||  valid Acc 65.459 %\n"
     ]
    },
    {
     "name": "stderr",
     "output_type": "stream",
     "text": [
      "262it [00:23, 11.27it/s]\n",
      "66it [00:06, 10.79it/s]\n"
     ]
    },
    {
     "name": "stdout",
     "output_type": "stream",
     "text": [
      "Epoch:14/40  Training Loss:0.773 || Training Acc 73.938 % ||  valid Loss:0.924 ||  valid Acc 68.632 %\n"
     ]
    },
    {
     "name": "stderr",
     "output_type": "stream",
     "text": [
      "262it [00:23, 11.29it/s]\n",
      "66it [00:05, 11.23it/s]\n"
     ]
    },
    {
     "name": "stdout",
     "output_type": "stream",
     "text": [
      "Epoch:15/40  Training Loss:0.720 || Training Acc 75.656 % ||  valid Loss:0.874 ||  valid Acc 70.526 %\n"
     ]
    },
    {
     "name": "stderr",
     "output_type": "stream",
     "text": [
      "262it [00:23, 11.34it/s]\n",
      "66it [00:06, 10.90it/s]\n"
     ]
    },
    {
     "name": "stdout",
     "output_type": "stream",
     "text": [
      "Epoch:16/40  Training Loss:0.678 || Training Acc 76.694 % ||  valid Loss:0.812 ||  valid Acc 72.940 %\n"
     ]
    },
    {
     "name": "stderr",
     "output_type": "stream",
     "text": [
      "262it [00:23, 11.37it/s]\n",
      "66it [00:06, 10.99it/s]\n"
     ]
    },
    {
     "name": "stdout",
     "output_type": "stream",
     "text": [
      "Epoch:17/40  Training Loss:0.640 || Training Acc 78.149 % ||  valid Loss:0.872 ||  valid Acc 70.336 %\n"
     ]
    },
    {
     "name": "stderr",
     "output_type": "stream",
     "text": [
      "262it [00:23, 11.27it/s]\n",
      "66it [00:05, 11.13it/s]\n"
     ]
    },
    {
     "name": "stdout",
     "output_type": "stream",
     "text": [
      "Epoch:18/40  Training Loss:0.611 || Training Acc 79.151 % ||  valid Loss:0.753 ||  valid Acc 75.071 %\n"
     ]
    },
    {
     "name": "stderr",
     "output_type": "stream",
     "text": [
      "262it [00:23, 11.15it/s]\n",
      "66it [00:06, 10.94it/s]\n"
     ]
    },
    {
     "name": "stdout",
     "output_type": "stream",
     "text": [
      "Epoch:19/40  Training Loss:0.569 || Training Acc 80.904 % ||  valid Loss:0.729 ||  valid Acc 75.284 %\n"
     ]
    },
    {
     "name": "stderr",
     "output_type": "stream",
     "text": [
      "262it [00:23, 10.98it/s]\n",
      "66it [00:05, 11.07it/s]\n"
     ]
    },
    {
     "name": "stdout",
     "output_type": "stream",
     "text": [
      "Epoch:20/40  Training Loss:0.552 || Training Acc 81.316 % ||  valid Loss:0.793 ||  valid Acc 74.408 %\n"
     ]
    },
    {
     "name": "stderr",
     "output_type": "stream",
     "text": [
      "262it [00:23, 11.17it/s]\n",
      "66it [00:05, 11.27it/s]\n"
     ]
    },
    {
     "name": "stdout",
     "output_type": "stream",
     "text": [
      "Epoch:21/40  Training Loss:0.510 || Training Acc 82.807 % ||  valid Loss:0.716 ||  valid Acc 76.989 %\n"
     ]
    },
    {
     "name": "stderr",
     "output_type": "stream",
     "text": [
      "262it [00:24, 10.88it/s]\n",
      "66it [00:06, 10.87it/s]\n"
     ]
    },
    {
     "name": "stdout",
     "output_type": "stream",
     "text": [
      "Epoch:22/40  Training Loss:0.486 || Training Acc 83.498 % ||  valid Loss:0.742 ||  valid Acc 76.113 %\n"
     ]
    },
    {
     "name": "stderr",
     "output_type": "stream",
     "text": [
      "262it [00:23, 11.38it/s]\n",
      "66it [00:05, 11.16it/s]\n"
     ]
    },
    {
     "name": "stdout",
     "output_type": "stream",
     "text": [
      "Epoch:23/40  Training Loss:0.482 || Training Acc 83.600 % ||  valid Loss:0.738 ||  valid Acc 76.894 %\n"
     ]
    },
    {
     "name": "stderr",
     "output_type": "stream",
     "text": [
      "262it [00:23, 11.24it/s]\n",
      "66it [00:05, 11.06it/s]\n"
     ]
    },
    {
     "name": "stdout",
     "output_type": "stream",
     "text": [
      "Epoch:24/40  Training Loss:0.448 || Training Acc 84.608 % ||  valid Loss:0.633 ||  valid Acc 78.598 %\n"
     ]
    },
    {
     "name": "stderr",
     "output_type": "stream",
     "text": [
      "262it [00:23, 11.16it/s]\n",
      "66it [00:05, 11.17it/s]\n"
     ]
    },
    {
     "name": "stdout",
     "output_type": "stream",
     "text": [
      "Epoch:25/40  Training Loss:0.422 || Training Acc 85.472 % ||  valid Loss:0.784 ||  valid Acc 75.639 %\n"
     ]
    },
    {
     "name": "stderr",
     "output_type": "stream",
     "text": [
      "262it [00:23, 11.24it/s]\n",
      "66it [00:06, 10.86it/s]\n"
     ]
    },
    {
     "name": "stdout",
     "output_type": "stream",
     "text": [
      "Epoch:26/40  Training Loss:0.418 || Training Acc 85.860 % ||  valid Loss:0.646 ||  valid Acc 79.853 %\n"
     ]
    },
    {
     "name": "stderr",
     "output_type": "stream",
     "text": [
      "262it [00:23, 11.23it/s]\n",
      "66it [00:06, 10.77it/s]\n"
     ]
    },
    {
     "name": "stdout",
     "output_type": "stream",
     "text": [
      "Epoch:27/40  Training Loss:0.392 || Training Acc 86.599 % ||  valid Loss:0.627 ||  valid Acc 79.972 %\n"
     ]
    },
    {
     "name": "stderr",
     "output_type": "stream",
     "text": [
      "262it [00:23, 11.11it/s]\n",
      "66it [00:05, 11.17it/s]\n"
     ]
    },
    {
     "name": "stdout",
     "output_type": "stream",
     "text": [
      "Epoch:28/40  Training Loss:0.384 || Training Acc 86.951 % ||  valid Loss:0.659 ||  valid Acc 79.261 %\n"
     ]
    },
    {
     "name": "stderr",
     "output_type": "stream",
     "text": [
      "262it [00:23, 11.25it/s]\n",
      "66it [00:05, 11.26it/s]\n"
     ]
    },
    {
     "name": "stdout",
     "output_type": "stream",
     "text": [
      "Epoch:29/40  Training Loss:0.361 || Training Acc 87.572 % ||  valid Loss:0.676 ||  valid Acc 78.267 %\n"
     ]
    },
    {
     "name": "stderr",
     "output_type": "stream",
     "text": [
      "262it [00:22, 11.55it/s]\n",
      "66it [00:05, 11.25it/s]\n"
     ]
    },
    {
     "name": "stdout",
     "output_type": "stream",
     "text": [
      "Epoch:30/40  Training Loss:0.344 || Training Acc 88.627 % ||  valid Loss:0.614 ||  valid Acc 81.818 %\n"
     ]
    },
    {
     "name": "stderr",
     "output_type": "stream",
     "text": [
      "262it [00:23, 11.22it/s]\n",
      "66it [00:06, 10.90it/s]\n"
     ]
    },
    {
     "name": "stdout",
     "output_type": "stream",
     "text": [
      "Epoch:31/40  Training Loss:0.341 || Training Acc 88.365 % ||  valid Loss:0.689 ||  valid Acc 79.522 %\n"
     ]
    },
    {
     "name": "stderr",
     "output_type": "stream",
     "text": [
      "262it [00:23, 11.20it/s]\n",
      "66it [00:05, 11.06it/s]\n"
     ]
    },
    {
     "name": "stdout",
     "output_type": "stream",
     "text": [
      "Epoch:32/40  Training Loss:0.316 || Training Acc 89.140 % ||  valid Loss:0.572 ||  valid Acc 82.576 %\n"
     ]
    },
    {
     "name": "stderr",
     "output_type": "stream",
     "text": [
      "262it [00:23, 11.32it/s]\n",
      "66it [00:05, 11.12it/s]\n"
     ]
    },
    {
     "name": "stdout",
     "output_type": "stream",
     "text": [
      "Epoch:33/40  Training Loss:0.306 || Training Acc 89.528 % ||  valid Loss:0.708 ||  valid Acc 78.220 %\n"
     ]
    },
    {
     "name": "stderr",
     "output_type": "stream",
     "text": [
      "262it [00:22, 11.44it/s]\n",
      "66it [00:06, 10.90it/s]\n"
     ]
    },
    {
     "name": "stdout",
     "output_type": "stream",
     "text": [
      "Epoch:34/40  Training Loss:0.294 || Training Acc 89.891 % ||  valid Loss:0.581 ||  valid Acc 82.173 %\n"
     ]
    },
    {
     "name": "stderr",
     "output_type": "stream",
     "text": [
      "262it [00:22, 11.40it/s]\n",
      "66it [00:06, 10.83it/s]\n"
     ]
    },
    {
     "name": "stdout",
     "output_type": "stream",
     "text": [
      "Epoch:35/40  Training Loss:0.283 || Training Acc 90.196 % ||  valid Loss:0.580 ||  valid Acc 82.244 %\n"
     ]
    },
    {
     "name": "stderr",
     "output_type": "stream",
     "text": [
      "262it [00:23, 11.38it/s]\n",
      "66it [00:05, 11.38it/s]\n"
     ]
    },
    {
     "name": "stdout",
     "output_type": "stream",
     "text": [
      "Epoch:36/40  Training Loss:0.273 || Training Acc 90.732 % ||  valid Loss:0.714 ||  valid Acc 78.812 %\n"
     ]
    },
    {
     "name": "stderr",
     "output_type": "stream",
     "text": [
      "262it [00:23, 11.33it/s]\n",
      "66it [00:06, 10.97it/s]\n"
     ]
    },
    {
     "name": "stdout",
     "output_type": "stream",
     "text": [
      "Epoch:37/40  Training Loss:0.256 || Training Acc 91.078 % ||  valid Loss:0.677 ||  valid Acc 80.161 %\n"
     ]
    },
    {
     "name": "stderr",
     "output_type": "stream",
     "text": [
      "262it [00:23, 11.37it/s]\n",
      "66it [00:05, 11.12it/s]\n"
     ]
    },
    {
     "name": "stdout",
     "output_type": "stream",
     "text": [
      "Epoch:38/40  Training Loss:0.262 || Training Acc 90.864 % ||  valid Loss:0.658 ||  valid Acc 81.061 %\n"
     ]
    },
    {
     "name": "stderr",
     "output_type": "stream",
     "text": [
      "262it [00:23, 11.35it/s]\n",
      "66it [00:05, 11.38it/s]\n"
     ]
    },
    {
     "name": "stdout",
     "output_type": "stream",
     "text": [
      "Epoch:39/40  Training Loss:0.249 || Training Acc 91.543 % ||  valid Loss:0.741 ||  valid Acc 79.096 %\n"
     ]
    },
    {
     "name": "stderr",
     "output_type": "stream",
     "text": [
      "262it [00:23, 11.37it/s]\n",
      "66it [00:06, 10.93it/s]\n"
     ]
    },
    {
     "name": "stdout",
     "output_type": "stream",
     "text": [
      "Epoch:40/40  Training Loss:0.239 || Training Acc 91.710 % ||  valid Loss:0.666 ||  valid Acc 80.587 %\n",
      "Fold 2\n",
      "avg train loss: 0.727, avg train acc: 74.789\n",
      "avg valid loss: 0.979, avg valid acc: 67.953\n",
      "====================================================================================================\n"
     ]
    },
    {
     "name": "stderr",
     "output_type": "stream",
     "text": [
      "82it [00:21,  3.88it/s]\n"
     ]
    },
    {
     "name": "stdout",
     "output_type": "stream",
     "text": [
      "Fold 2, test acc: 83.594\n",
      "==================================================\n",
      "plot curves\n"
     ]
    },
    {
     "data": {
      "image/png": "[encoded data removed]",
      "text/plain": [
       "<Figure size 640x480 with 1 Axes>"
      ]
     },
     "metadata": {},
     "output_type": "display_data"
    },
    {
     "data": {
      "image/png": "[encoded data removed]",
      "text/plain": [
       "<Figure size 640x480 with 1 Axes>"
      ]
     },
     "metadata": {},
     "output_type": "display_data"
    },
    {
     "name": "stdout",
     "output_type": "stream",
     "text": [
      "Fold 3\n",
      "train size: 16750, val size: 4188\n",
      "==================================================\n"
     ]
    },
    {
     "name": "stderr",
     "output_type": "stream",
     "text": [
      "262it [00:23, 11.34it/s]\n",
      "66it [00:06, 10.66it/s]\n"
     ]
    },
    {
     "name": "stdout",
     "output_type": "stream",
     "text": [
      "Epoch:1/40  Training Loss:2.257 || Training Acc 18.625 % ||  valid Loss:2.245 ||  valid Acc 18.916 %\n"
     ]
    },
    {
     "name": "stderr",
     "output_type": "stream",
     "text": [
      "262it [00:23, 11.25it/s]\n",
      "66it [00:05, 11.32it/s]\n"
     ]
    },
    {
     "name": "stdout",
     "output_type": "stream",
     "text": [
      "Epoch:2/40  Training Loss:2.119 || Training Acc 22.895 % ||  valid Loss:1.994 ||  valid Acc 27.865 %\n"
     ]
    },
    {
     "name": "stderr",
     "output_type": "stream",
     "text": [
      "262it [00:23, 11.35it/s]\n",
      "66it [00:05, 11.14it/s]\n"
     ]
    },
    {
     "name": "stdout",
     "output_type": "stream",
     "text": [
      "Epoch:3/40  Training Loss:1.905 || Training Acc 31.846 % ||  valid Loss:1.886 ||  valid Acc 31.203 %\n"
     ]
    },
    {
     "name": "stderr",
     "output_type": "stream",
     "text": [
      "262it [00:23, 11.32it/s]\n",
      "66it [00:05, 11.27it/s]\n"
     ]
    },
    {
     "name": "stdout",
     "output_type": "stream",
     "text": [
      "Epoch:4/40  Training Loss:1.661 || Training Acc 41.663 % ||  valid Loss:1.581 ||  valid Acc 43.868 %\n"
     ]
    },
    {
     "name": "stderr",
     "output_type": "stream",
     "text": [
      "262it [00:23, 11.33it/s]\n",
      "66it [00:05, 11.23it/s]\n"
     ]
    },
    {
     "name": "stdout",
     "output_type": "stream",
     "text": [
      "Epoch:5/40  Training Loss:1.438 || Training Acc 50.525 % ||  valid Loss:1.551 ||  valid Acc 46.141 %\n"
     ]
    },
    {
     "name": "stderr",
     "output_type": "stream",
     "text": [
      "262it [00:23, 11.26it/s]\n",
      "66it [00:05, 11.16it/s]\n"
     ]
    },
    {
     "name": "stdout",
     "output_type": "stream",
     "text": [
      "Epoch:6/40  Training Loss:1.285 || Training Acc 55.534 % ||  valid Loss:1.303 ||  valid Acc 54.522 %\n"
     ]
    },
    {
     "name": "stderr",
     "output_type": "stream",
     "text": [
      "262it [00:22, 11.41it/s]\n",
      "66it [00:05, 11.45it/s]\n"
     ]
    },
    {
     "name": "stdout",
     "output_type": "stream",
     "text": [
      "Epoch:7/40  Training Loss:1.184 || Training Acc 59.166 % ||  valid Loss:1.309 ||  valid Acc 55.137 %\n"
     ]
    },
    {
     "name": "stderr",
     "output_type": "stream",
     "text": [
      "262it [00:23, 11.38it/s]\n",
      "66it [00:05, 11.16it/s]\n"
     ]
    },
    {
     "name": "stdout",
     "output_type": "stream",
     "text": [
      "Epoch:8/40  Training Loss:1.107 || Training Acc 61.838 % ||  valid Loss:1.144 ||  valid Acc 60.156 %\n"
     ]
    },
    {
     "name": "stderr",
     "output_type": "stream",
     "text": [
      "262it [00:23, 11.34it/s]\n",
      "66it [00:05, 11.40it/s]\n"
     ]
    },
    {
     "name": "stdout",
     "output_type": "stream",
     "text": [
      "Epoch:9/40  Training Loss:1.021 || Training Acc 64.909 % ||  valid Loss:1.130 ||  valid Acc 61.080 %\n"
     ]
    },
    {
     "name": "stderr",
     "output_type": "stream",
     "text": [
      "262it [00:23, 11.35it/s]\n",
      "66it [00:05, 11.48it/s]\n"
     ]
    },
    {
     "name": "stdout",
     "output_type": "stream",
     "text": [
      "Epoch:10/40  Training Loss:0.967 || Training Acc 66.698 % ||  valid Loss:0.971 ||  valid Acc 65.649 %\n"
     ]
    },
    {
     "name": "stderr",
     "output_type": "stream",
     "text": [
      "262it [00:22, 11.44it/s]\n",
      "66it [00:05, 11.29it/s]\n"
     ]
    },
    {
     "name": "stdout",
     "output_type": "stream",
     "text": [
      "Epoch:11/40  Training Loss:0.891 || Training Acc 69.984 % ||  valid Loss:0.910 ||  valid Acc 68.466 %\n"
     ]
    },
    {
     "name": "stderr",
     "output_type": "stream",
     "text": [
      "262it [00:23, 11.32it/s]\n",
      "66it [00:05, 11.11it/s]\n"
     ]
    },
    {
     "name": "stdout",
     "output_type": "stream",
     "text": [
      "Epoch:12/40  Training Loss:0.839 || Training Acc 71.511 % ||  valid Loss:1.022 ||  valid Acc 64.702 %\n"
     ]
    },
    {
     "name": "stderr",
     "output_type": "stream",
     "text": [
      "262it [00:22, 11.54it/s]\n",
      "66it [00:05, 11.44it/s]\n"
     ]
    },
    {
     "name": "stdout",
     "output_type": "stream",
     "text": [
      "Epoch:13/40  Training Loss:0.780 || Training Acc 73.527 % ||  valid Loss:0.973 ||  valid Acc 66.809 %\n"
     ]
    },
    {
     "name": "stderr",
     "output_type": "stream",
     "text": [
      "262it [00:22, 11.40it/s]\n",
      "66it [00:05, 11.27it/s]\n"
     ]
    },
    {
     "name": "stdout",
     "output_type": "stream",
     "text": [
      "Epoch:14/40  Training Loss:0.725 || Training Acc 75.477 % ||  valid Loss:0.964 ||  valid Acc 67.803 %\n"
     ]
    },
    {
     "name": "stderr",
     "output_type": "stream",
     "text": [
      "262it [00:22, 11.52it/s]\n",
      "66it [00:05, 11.41it/s]\n"
     ]
    },
    {
     "name": "stdout",
     "output_type": "stream",
     "text": [
      "Epoch:15/40  Training Loss:0.677 || Training Acc 77.087 % ||  valid Loss:0.874 ||  valid Acc 69.792 %\n"
     ]
    },
    {
     "name": "stderr",
     "output_type": "stream",
     "text": [
      "262it [00:22, 11.48it/s]\n",
      "66it [00:05, 11.35it/s]\n"
     ]
    },
    {
     "name": "stdout",
     "output_type": "stream",
     "text": [
      "Epoch:16/40  Training Loss:0.634 || Training Acc 78.471 % ||  valid Loss:0.804 ||  valid Acc 73.366 %\n"
     ]
    },
    {
     "name": "stderr",
     "output_type": "stream",
     "text": [
      "262it [00:23, 11.08it/s]\n",
      "66it [00:05, 11.31it/s]\n"
     ]
    },
    {
     "name": "stdout",
     "output_type": "stream",
     "text": [
      "Epoch:17/40  Training Loss:0.603 || Training Acc 79.753 % ||  valid Loss:0.991 ||  valid Acc 68.821 %\n"
     ]
    },
    {
     "name": "stderr",
     "output_type": "stream",
     "text": [
      "262it [00:22, 11.41it/s]\n",
      "66it [00:05, 11.20it/s]\n"
     ]
    },
    {
     "name": "stdout",
     "output_type": "stream",
     "text": [
      "Epoch:18/40  Training Loss:0.554 || Training Acc 81.411 % ||  valid Loss:0.859 ||  valid Acc 71.875 %\n"
     ]
    },
    {
     "name": "stderr",
     "output_type": "stream",
     "text": [
      "262it [00:22, 11.42it/s]\n",
      "66it [00:05, 11.40it/s]\n"
     ]
    },
    {
     "name": "stdout",
     "output_type": "stream",
     "text": [
      "Epoch:19/40  Training Loss:0.528 || Training Acc 82.359 % ||  valid Loss:0.684 ||  valid Acc 76.918 %\n"
     ]
    },
    {
     "name": "stderr",
     "output_type": "stream",
     "text": [
      "262it [00:22, 11.48it/s]\n",
      "66it [00:05, 11.37it/s]\n"
     ]
    },
    {
     "name": "stdout",
     "output_type": "stream",
     "text": [
      "Epoch:20/40  Training Loss:0.493 || Training Acc 83.445 % ||  valid Loss:0.894 ||  valid Acc 72.135 %\n"
     ]
    },
    {
     "name": "stderr",
     "output_type": "stream",
     "text": [
      "262it [00:23, 11.39it/s]\n",
      "66it [00:05, 11.34it/s]\n"
     ]
    },
    {
     "name": "stdout",
     "output_type": "stream",
     "text": [
      "Epoch:21/40  Training Loss:0.477 || Training Acc 83.928 % ||  valid Loss:0.723 ||  valid Acc 76.089 %\n"
     ]
    },
    {
     "name": "stderr",
     "output_type": "stream",
     "text": [
      "262it [00:22, 11.59it/s]\n",
      "66it [00:05, 11.07it/s]\n"
     ]
    },
    {
     "name": "stdout",
     "output_type": "stream",
     "text": [
      "Epoch:22/40  Training Loss:0.458 || Training Acc 84.602 % ||  valid Loss:0.663 ||  valid Acc 78.693 %\n"
     ]
    },
    {
     "name": "stderr",
     "output_type": "stream",
     "text": [
      "262it [00:23, 11.27it/s]\n",
      "66it [00:05, 11.23it/s]\n"
     ]
    },
    {
     "name": "stdout",
     "output_type": "stream",
     "text": [
      "Epoch:23/40  Training Loss:0.434 || Training Acc 85.299 % ||  valid Loss:0.732 ||  valid Acc 76.231 %\n"
     ]
    },
    {
     "name": "stderr",
     "output_type": "stream",
     "text": [
      "262it [00:22, 11.42it/s]\n",
      "66it [00:05, 11.41it/s]\n"
     ]
    },
    {
     "name": "stdout",
     "output_type": "stream",
     "text": [
      "Epoch:24/40  Training Loss:0.418 || Training Acc 86.289 % ||  valid Loss:0.698 ||  valid Acc 76.965 %\n"
     ]
    },
    {
     "name": "stderr",
     "output_type": "stream",
     "text": [
      "262it [00:23, 11.39it/s]\n",
      "66it [00:05, 11.43it/s]\n"
     ]
    },
    {
     "name": "stdout",
     "output_type": "stream",
     "text": [
      "Epoch:25/40  Training Loss:0.399 || Training Acc 86.599 % ||  valid Loss:0.569 ||  valid Acc 81.321 %\n"
     ]
    },
    {
     "name": "stderr",
     "output_type": "stream",
     "text": [
      "262it [00:23, 11.39it/s]\n",
      "66it [00:05, 11.09it/s]\n"
     ]
    },
    {
     "name": "stdout",
     "output_type": "stream",
     "text": [
      "Epoch:26/40  Training Loss:0.382 || Training Acc 86.910 % ||  valid Loss:0.608 ||  valid Acc 80.682 %\n"
     ]
    },
    {
     "name": "stderr",
     "output_type": "stream",
     "text": [
      "262it [00:22, 11.44it/s]\n",
      "66it [00:05, 11.46it/s]\n"
     ]
    },
    {
     "name": "stdout",
     "output_type": "stream",
     "text": [
      "Epoch:27/40  Training Loss:0.362 || Training Acc 87.816 % ||  valid Loss:0.605 ||  valid Acc 80.492 %\n"
     ]
    },
    {
     "name": "stderr",
     "output_type": "stream",
     "text": [
      "262it [00:22, 11.40it/s]\n",
      "66it [00:05, 11.49it/s]\n"
     ]
    },
    {
     "name": "stdout",
     "output_type": "stream",
     "text": [
      "Epoch:28/40  Training Loss:0.354 || Training Acc 88.061 % ||  valid Loss:0.590 ||  valid Acc 81.321 %\n"
     ]
    },
    {
     "name": "stderr",
     "output_type": "stream",
     "text": [
      "262it [00:23, 11.38it/s]\n",
      "66it [00:05, 11.30it/s]\n"
     ]
    },
    {
     "name": "stdout",
     "output_type": "stream",
     "text": [
      "Epoch:29/40  Training Loss:0.337 || Training Acc 88.550 % ||  valid Loss:0.586 ||  valid Acc 81.179 %\n"
     ]
    },
    {
     "name": "stderr",
     "output_type": "stream",
     "text": [
      "262it [00:22, 11.47it/s]\n",
      "66it [00:05, 11.07it/s]\n"
     ]
    },
    {
     "name": "stdout",
     "output_type": "stream",
     "text": [
      "Epoch:30/40  Training Loss:0.324 || Training Acc 89.027 % ||  valid Loss:0.584 ||  valid Acc 80.729 %\n"
     ]
    },
    {
     "name": "stderr",
     "output_type": "stream",
     "text": [
      "262it [00:23, 11.25it/s]\n",
      "66it [00:05, 11.22it/s]\n"
     ]
    },
    {
     "name": "stdout",
     "output_type": "stream",
     "text": [
      "Epoch:31/40  Training Loss:0.305 || Training Acc 89.754 % ||  valid Loss:0.583 ||  valid Acc 81.889 %\n"
     ]
    },
    {
     "name": "stderr",
     "output_type": "stream",
     "text": [
      "262it [00:23, 11.07it/s]\n",
      "66it [00:06, 10.82it/s]\n"
     ]
    },
    {
     "name": "stdout",
     "output_type": "stream",
     "text": [
      "Epoch:32/40  Training Loss:0.300 || Training Acc 90.005 % ||  valid Loss:0.700 ||  valid Acc 80.185 %\n"
     ]
    },
    {
     "name": "stderr",
     "output_type": "stream",
     "text": [
      "262it [00:23, 11.16it/s]\n",
      "66it [00:05, 11.30it/s]\n"
     ]
    },
    {
     "name": "stdout",
     "output_type": "stream",
     "text": [
      "Epoch:33/40  Training Loss:0.279 || Training Acc 90.553 % ||  valid Loss:0.585 ||  valid Acc 81.937 %\n"
     ]
    },
    {
     "name": "stderr",
     "output_type": "stream",
     "text": [
      "262it [00:22, 11.44it/s]\n",
      "66it [00:05, 11.14it/s]\n"
     ]
    },
    {
     "name": "stdout",
     "output_type": "stream",
     "text": [
      "Epoch:34/40  Training Loss:0.273 || Training Acc 90.589 % ||  valid Loss:0.609 ||  valid Acc 80.990 %\n"
     ]
    },
    {
     "name": "stderr",
     "output_type": "stream",
     "text": [
      "262it [00:23, 11.33it/s]\n",
      "66it [00:05, 11.36it/s]\n"
     ]
    },
    {
     "name": "stdout",
     "output_type": "stream",
     "text": [
      "Epoch:35/40  Training Loss:0.271 || Training Acc 91.019 % ||  valid Loss:0.649 ||  valid Acc 80.232 %\n"
     ]
    },
    {
     "name": "stderr",
     "output_type": "stream",
     "text": [
      "262it [00:22, 11.40it/s]\n",
      "66it [00:05, 11.01it/s]\n"
     ]
    },
    {
     "name": "stdout",
     "output_type": "stream",
     "text": [
      "Epoch:36/40  Training Loss:0.255 || Training Acc 91.412 % ||  valid Loss:0.583 ||  valid Acc 81.605 %\n"
     ]
    },
    {
     "name": "stderr",
     "output_type": "stream",
     "text": [
      "262it [00:23, 11.28it/s]\n",
      "66it [00:05, 11.19it/s]\n"
     ]
    },
    {
     "name": "stdout",
     "output_type": "stream",
     "text": [
      "Epoch:37/40  Training Loss:0.254 || Training Acc 91.394 % ||  valid Loss:0.619 ||  valid Acc 81.581 %\n"
     ]
    },
    {
     "name": "stderr",
     "output_type": "stream",
     "text": [
      "262it [00:22, 11.40it/s]\n",
      "66it [00:05, 11.21it/s]\n"
     ]
    },
    {
     "name": "stdout",
     "output_type": "stream",
     "text": [
      "Epoch:38/40  Training Loss:0.244 || Training Acc 91.639 % ||  valid Loss:0.598 ||  valid Acc 81.937 %\n"
     ]
    },
    {
     "name": "stderr",
     "output_type": "stream",
     "text": [
      "262it [00:23, 11.36it/s]\n",
      "66it [00:05, 11.05it/s]\n"
     ]
    },
    {
     "name": "stdout",
     "output_type": "stream",
     "text": [
      "Epoch:39/40  Training Loss:0.246 || Training Acc 91.555 % ||  valid Loss:0.577 ||  valid Acc 82.268 %\n"
     ]
    },
    {
     "name": "stderr",
     "output_type": "stream",
     "text": [
      "262it [00:23, 11.36it/s]\n",
      "66it [00:05, 11.10it/s]\n"
     ]
    },
    {
     "name": "stdout",
     "output_type": "stream",
     "text": [
      "Epoch:40/40  Training Loss:0.234 || Training Acc 91.865 % ||  valid Loss:0.655 ||  valid Acc 79.972 %\n",
      "Fold 3\n",
      "avg train loss: 0.707, avg train acc: 75.590\n",
      "avg valid loss: 0.915, avg valid acc: 69.288\n",
      "====================================================================================================\n"
     ]
    },
    {
     "name": "stderr",
     "output_type": "stream",
     "text": [
      "82it [00:20,  3.99it/s]\n"
     ]
    },
    {
     "name": "stdout",
     "output_type": "stream",
     "text": [
      "Fold 3, test acc: 83.365\n",
      "==================================================\n",
      "plot curves\n"
     ]
    },
    {
     "data": {
      "image/png": "[encoded data removed]",
      "text/plain": [
       "<Figure size 640x480 with 1 Axes>"
      ]
     },
     "metadata": {},
     "output_type": "display_data"
    },
    {
     "data": {
      "image/png": "[encoded data removed]",
      "text/plain": [
       "<Figure size 640x480 with 1 Axes>"
      ]
     },
     "metadata": {},
     "output_type": "display_data"
    },
    {
     "name": "stdout",
     "output_type": "stream",
     "text": [
      "Fold 4\n",
      "train size: 16751, val size: 4187\n",
      "==================================================\n"
     ]
    },
    {
     "name": "stderr",
     "output_type": "stream",
     "text": [
      "262it [00:22, 11.43it/s]\n",
      "66it [00:05, 11.20it/s]\n"
     ]
    },
    {
     "name": "stdout",
     "output_type": "stream",
     "text": [
      "Epoch:1/40  Training Loss:2.236 || Training Acc 18.494 % ||  valid Loss:2.131 ||  valid Acc 23.461 %\n"
     ]
    },
    {
     "name": "stderr",
     "output_type": "stream",
     "text": [
      "262it [00:22, 11.51it/s]\n",
      "66it [00:05, 11.04it/s]\n"
     ]
    },
    {
     "name": "stdout",
     "output_type": "stream",
     "text": [
      "Epoch:2/40  Training Loss:1.975 || Training Acc 28.012 % ||  valid Loss:1.879 ||  valid Acc 31.889 %\n"
     ]
    },
    {
     "name": "stderr",
     "output_type": "stream",
     "text": [
      "262it [00:22, 11.57it/s]\n",
      "66it [00:05, 11.17it/s]\n"
     ]
    },
    {
     "name": "stdout",
     "output_type": "stream",
     "text": [
      "Epoch:3/40  Training Loss:1.644 || Training Acc 42.110 % ||  valid Loss:1.726 ||  valid Acc 39.796 %\n"
     ]
    },
    {
     "name": "stderr",
     "output_type": "stream",
     "text": [
      "262it [00:23, 11.24it/s]\n",
      "66it [00:05, 11.03it/s]\n"
     ]
    },
    {
     "name": "stdout",
     "output_type": "stream",
     "text": [
      "Epoch:4/40  Training Loss:1.441 || Training Acc 49.773 % ||  valid Loss:1.510 ||  valid Acc 47.064 %\n"
     ]
    },
    {
     "name": "stderr",
     "output_type": "stream",
     "text": [
      "262it [00:22, 11.41it/s]\n",
      "66it [00:05, 11.01it/s]\n"
     ]
    },
    {
     "name": "stdout",
     "output_type": "stream",
     "text": [
      "Epoch:5/40  Training Loss:1.298 || Training Acc 54.717 % ||  valid Loss:1.374 ||  valid Acc 51.799 %\n"
     ]
    },
    {
     "name": "stderr",
     "output_type": "stream",
     "text": [
      "262it [00:22, 11.46it/s]\n",
      "66it [00:05, 11.38it/s]\n"
     ]
    },
    {
     "name": "stdout",
     "output_type": "stream",
     "text": [
      "Epoch:6/40  Training Loss:1.187 || Training Acc 58.761 % ||  valid Loss:1.607 ||  valid Acc 53.977 %\n"
     ]
    },
    {
     "name": "stderr",
     "output_type": "stream",
     "text": [
      "262it [00:23, 11.26it/s]\n",
      "66it [00:06, 10.90it/s]\n"
     ]
    },
    {
     "name": "stdout",
     "output_type": "stream",
     "text": [
      "Epoch:7/40  Training Loss:1.098 || Training Acc 62.279 % ||  valid Loss:1.133 ||  valid Acc 61.435 %\n"
     ]
    },
    {
     "name": "stderr",
     "output_type": "stream",
     "text": [
      "262it [00:22, 11.46it/s]\n",
      "66it [00:05, 11.41it/s]\n"
     ]
    },
    {
     "name": "stdout",
     "output_type": "stream",
     "text": [
      "Epoch:8/40  Training Loss:1.025 || Training Acc 64.522 % ||  valid Loss:1.050 ||  valid Acc 62.902 %\n"
     ]
    },
    {
     "name": "stderr",
     "output_type": "stream",
     "text": [
      "262it [00:22, 11.47it/s]\n",
      "66it [00:06, 10.96it/s]\n"
     ]
    },
    {
     "name": "stdout",
     "output_type": "stream",
     "text": [
      "Epoch:9/40  Training Loss:0.957 || Training Acc 66.967 % ||  valid Loss:0.980 ||  valid Acc 66.596 %\n"
     ]
    },
    {
     "name": "stderr",
     "output_type": "stream",
     "text": [
      "262it [00:22, 11.47it/s]\n",
      "66it [00:05, 11.35it/s]\n"
     ]
    },
    {
     "name": "stdout",
     "output_type": "stream",
     "text": [
      "Epoch:10/40  Training Loss:0.910 || Training Acc 68.762 % ||  valid Loss:1.033 ||  valid Acc 65.625 %\n"
     ]
    },
    {
     "name": "stderr",
     "output_type": "stream",
     "text": [
      "262it [00:22, 11.53it/s]\n",
      "66it [00:05, 11.45it/s]\n"
     ]
    },
    {
     "name": "stdout",
     "output_type": "stream",
     "text": [
      "Epoch:11/40  Training Loss:0.865 || Training Acc 70.468 % ||  valid Loss:0.927 ||  valid Acc 68.845 %\n"
     ]
    },
    {
     "name": "stderr",
     "output_type": "stream",
     "text": [
      "262it [00:22, 11.40it/s]\n",
      "66it [00:06, 10.93it/s]\n"
     ]
    },
    {
     "name": "stdout",
     "output_type": "stream",
     "text": [
      "Epoch:12/40  Training Loss:0.810 || Training Acc 72.239 % ||  valid Loss:0.896 ||  valid Acc 69.152 %\n"
     ]
    },
    {
     "name": "stderr",
     "output_type": "stream",
     "text": [
      "262it [00:22, 11.49it/s]\n",
      "66it [00:05, 11.12it/s]\n"
     ]
    },
    {
     "name": "stdout",
     "output_type": "stream",
     "text": [
      "Epoch:13/40  Training Loss:0.766 || Training Acc 73.766 % ||  valid Loss:0.903 ||  valid Acc 70.431 %\n"
     ]
    },
    {
     "name": "stderr",
     "output_type": "stream",
     "text": [
      "262it [00:22, 11.55it/s]\n",
      "66it [00:05, 11.25it/s]\n"
     ]
    },
    {
     "name": "stdout",
     "output_type": "stream",
     "text": [
      "Epoch:14/40  Training Loss:0.724 || Training Acc 75.256 % ||  valid Loss:0.859 ||  valid Acc 71.165 %\n"
     ]
    },
    {
     "name": "stderr",
     "output_type": "stream",
     "text": [
      "262it [00:22, 11.51it/s]\n",
      "66it [00:06, 10.98it/s]\n"
     ]
    },
    {
     "name": "stdout",
     "output_type": "stream",
     "text": [
      "Epoch:15/40  Training Loss:0.684 || Training Acc 77.063 % ||  valid Loss:0.800 ||  valid Acc 72.064 %\n"
     ]
    },
    {
     "name": "stderr",
     "output_type": "stream",
     "text": [
      "262it [00:23, 11.37it/s]\n",
      "66it [00:06, 10.99it/s]\n"
     ]
    },
    {
     "name": "stdout",
     "output_type": "stream",
     "text": [
      "Epoch:16/40  Training Loss:0.647 || Training Acc 78.256 % ||  valid Loss:0.936 ||  valid Acc 69.792 %\n"
     ]
    },
    {
     "name": "stderr",
     "output_type": "stream",
     "text": [
      "262it [00:22, 11.53it/s]\n",
      "66it [00:05, 11.37it/s]\n"
     ]
    },
    {
     "name": "stdout",
     "output_type": "stream",
     "text": [
      "Epoch:17/40  Training Loss:0.611 || Training Acc 79.479 % ||  valid Loss:0.813 ||  valid Acc 73.603 %\n"
     ]
    },
    {
     "name": "stderr",
     "output_type": "stream",
     "text": [
      "262it [00:22, 11.45it/s]\n",
      "66it [00:06, 10.97it/s]\n"
     ]
    },
    {
     "name": "stdout",
     "output_type": "stream",
     "text": [
      "Epoch:18/40  Training Loss:0.590 || Training Acc 80.105 % ||  valid Loss:0.765 ||  valid Acc 74.905 %\n"
     ]
    },
    {
     "name": "stderr",
     "output_type": "stream",
     "text": [
      "262it [00:23, 11.34it/s]\n",
      "66it [00:06, 10.57it/s]\n"
     ]
    },
    {
     "name": "stdout",
     "output_type": "stream",
     "text": [
      "Epoch:19/40  Training Loss:0.561 || Training Acc 81.065 % ||  valid Loss:0.687 ||  valid Acc 76.515 %\n"
     ]
    },
    {
     "name": "stderr",
     "output_type": "stream",
     "text": [
      "262it [00:22, 11.41it/s]\n",
      "66it [00:05, 11.11it/s]\n"
     ]
    },
    {
     "name": "stdout",
     "output_type": "stream",
     "text": [
      "Epoch:20/40  Training Loss:0.532 || Training Acc 82.234 % ||  valid Loss:0.843 ||  valid Acc 74.929 %\n"
     ]
    },
    {
     "name": "stderr",
     "output_type": "stream",
     "text": [
      "262it [00:22, 11.39it/s]\n",
      "66it [00:05, 11.38it/s]\n"
     ]
    },
    {
     "name": "stdout",
     "output_type": "stream",
     "text": [
      "Epoch:21/40  Training Loss:0.512 || Training Acc 82.562 % ||  valid Loss:0.780 ||  valid Acc 74.882 %\n"
     ]
    },
    {
     "name": "stderr",
     "output_type": "stream",
     "text": [
      "262it [00:22, 11.56it/s]\n",
      "66it [00:05, 11.07it/s]\n"
     ]
    },
    {
     "name": "stdout",
     "output_type": "stream",
     "text": [
      "Epoch:22/40  Training Loss:0.487 || Training Acc 83.898 % ||  valid Loss:0.743 ||  valid Acc 75.213 %\n"
     ]
    },
    {
     "name": "stderr",
     "output_type": "stream",
     "text": [
      "262it [00:22, 11.53it/s]\n",
      "66it [00:05, 11.40it/s]\n"
     ]
    },
    {
     "name": "stdout",
     "output_type": "stream",
     "text": [
      "Epoch:23/40  Training Loss:0.463 || Training Acc 84.614 % ||  valid Loss:0.672 ||  valid Acc 77.628 %\n"
     ]
    },
    {
     "name": "stderr",
     "output_type": "stream",
     "text": [
      "262it [00:22, 11.40it/s]\n",
      "66it [00:05, 11.08it/s]\n"
     ]
    },
    {
     "name": "stdout",
     "output_type": "stream",
     "text": [
      "Epoch:24/40  Training Loss:0.440 || Training Acc 85.264 % ||  valid Loss:0.634 ||  valid Acc 79.427 %\n"
     ]
    },
    {
     "name": "stderr",
     "output_type": "stream",
     "text": [
      "262it [00:22, 11.57it/s]\n",
      "66it [00:06, 10.97it/s]\n"
     ]
    },
    {
     "name": "stdout",
     "output_type": "stream",
     "text": [
      "Epoch:25/40  Training Loss:0.437 || Training Acc 85.329 % ||  valid Loss:0.787 ||  valid Acc 75.971 %\n"
     ]
    },
    {
     "name": "stderr",
     "output_type": "stream",
     "text": [
      "262it [00:22, 11.50it/s]\n",
      "66it [00:05, 11.21it/s]\n"
     ]
    },
    {
     "name": "stdout",
     "output_type": "stream",
     "text": [
      "Epoch:26/40  Training Loss:0.404 || Training Acc 86.146 % ||  valid Loss:0.701 ||  valid Acc 77.983 %\n"
     ]
    },
    {
     "name": "stderr",
     "output_type": "stream",
     "text": [
      "262it [00:22, 11.56it/s]\n",
      "66it [00:05, 11.32it/s]\n"
     ]
    },
    {
     "name": "stdout",
     "output_type": "stream",
     "text": [
      "Epoch:27/40  Training Loss:0.412 || Training Acc 86.015 % ||  valid Loss:0.630 ||  valid Acc 79.451 %\n"
     ]
    },
    {
     "name": "stderr",
     "output_type": "stream",
     "text": [
      "262it [00:22, 11.47it/s]\n",
      "66it [00:05, 11.14it/s]\n"
     ]
    },
    {
     "name": "stdout",
     "output_type": "stream",
     "text": [
      "Epoch:28/40  Training Loss:0.379 || Training Acc 87.417 % ||  valid Loss:0.654 ||  valid Acc 79.261 %\n"
     ]
    },
    {
     "name": "stderr",
     "output_type": "stream",
     "text": [
      "262it [00:22, 11.49it/s]\n",
      "66it [00:05, 11.07it/s]\n"
     ]
    },
    {
     "name": "stdout",
     "output_type": "stream",
     "text": [
      "Epoch:29/40  Training Loss:0.371 || Training Acc 87.399 % ||  valid Loss:0.608 ||  valid Acc 80.185 %\n"
     ]
    },
    {
     "name": "stderr",
     "output_type": "stream",
     "text": [
      "262it [00:22, 11.44it/s]\n",
      "66it [00:05, 11.04it/s]\n"
     ]
    },
    {
     "name": "stdout",
     "output_type": "stream",
     "text": [
      "Epoch:30/40  Training Loss:0.359 || Training Acc 87.792 % ||  valid Loss:0.636 ||  valid Acc 79.451 %\n"
     ]
    },
    {
     "name": "stderr",
     "output_type": "stream",
     "text": [
      "262it [00:22, 11.57it/s]\n",
      "66it [00:05, 11.13it/s]\n"
     ]
    },
    {
     "name": "stdout",
     "output_type": "stream",
     "text": [
      "Epoch:31/40  Training Loss:0.334 || Training Acc 88.693 % ||  valid Loss:0.574 ||  valid Acc 81.558 %\n"
     ]
    },
    {
     "name": "stderr",
     "output_type": "stream",
     "text": [
      "262it [00:22, 11.60it/s]\n",
      "66it [00:05, 11.12it/s]\n"
     ]
    },
    {
     "name": "stdout",
     "output_type": "stream",
     "text": [
      "Epoch:32/40  Training Loss:0.326 || Training Acc 89.086 % ||  valid Loss:0.535 ||  valid Acc 82.576 %\n"
     ]
    },
    {
     "name": "stderr",
     "output_type": "stream",
     "text": [
      "262it [00:22, 11.41it/s]\n",
      "66it [00:05, 11.28it/s]\n"
     ]
    },
    {
     "name": "stdout",
     "output_type": "stream",
     "text": [
      "Epoch:33/40  Training Loss:0.316 || Training Acc 89.361 % ||  valid Loss:0.686 ||  valid Acc 78.788 %\n"
     ]
    },
    {
     "name": "stderr",
     "output_type": "stream",
     "text": [
      "262it [00:22, 11.48it/s]\n",
      "66it [00:05, 11.11it/s]\n"
     ]
    },
    {
     "name": "stdout",
     "output_type": "stream",
     "text": [
      "Epoch:34/40  Training Loss:0.313 || Training Acc 89.361 % ||  valid Loss:0.863 ||  valid Acc 75.379 %\n"
     ]
    },
    {
     "name": "stderr",
     "output_type": "stream",
     "text": [
      "262it [00:22, 11.51it/s]\n",
      "66it [00:05, 11.29it/s]\n"
     ]
    },
    {
     "name": "stdout",
     "output_type": "stream",
     "text": [
      "Epoch:35/40  Training Loss:0.293 || Training Acc 90.249 % ||  valid Loss:0.910 ||  valid Acc 75.994 %\n"
     ]
    },
    {
     "name": "stderr",
     "output_type": "stream",
     "text": [
      "262it [00:22, 11.52it/s]\n",
      "66it [00:05, 11.17it/s]\n"
     ]
    },
    {
     "name": "stdout",
     "output_type": "stream",
     "text": [
      "Epoch:36/40  Training Loss:0.292 || Training Acc 90.106 % ||  valid Loss:0.628 ||  valid Acc 80.208 %\n"
     ]
    },
    {
     "name": "stderr",
     "output_type": "stream",
     "text": [
      "262it [00:22, 11.55it/s]\n",
      "66it [00:05, 11.23it/s]\n"
     ]
    },
    {
     "name": "stdout",
     "output_type": "stream",
     "text": [
      "Epoch:37/40  Training Loss:0.284 || Training Acc 90.178 % ||  valid Loss:0.611 ||  valid Acc 80.777 %\n"
     ]
    },
    {
     "name": "stderr",
     "output_type": "stream",
     "text": [
      "262it [00:22, 11.55it/s]\n",
      "66it [00:06, 10.92it/s]\n"
     ]
    },
    {
     "name": "stdout",
     "output_type": "stream",
     "text": [
      "Epoch:38/40  Training Loss:0.270 || Training Acc 90.822 % ||  valid Loss:0.673 ||  valid Acc 79.616 %\n"
     ]
    },
    {
     "name": "stderr",
     "output_type": "stream",
     "text": [
      "262it [00:22, 11.41it/s]\n",
      "66it [00:05, 11.07it/s]\n"
     ]
    },
    {
     "name": "stdout",
     "output_type": "stream",
     "text": [
      "Epoch:39/40  Training Loss:0.261 || Training Acc 91.144 % ||  valid Loss:0.617 ||  valid Acc 81.581 %\n"
     ]
    },
    {
     "name": "stderr",
     "output_type": "stream",
     "text": [
      "262it [00:23, 11.34it/s]\n",
      "66it [00:05, 11.01it/s]\n"
     ]
    },
    {
     "name": "stdout",
     "output_type": "stream",
     "text": [
      "Epoch:40/40  Training Loss:0.252 || Training Acc 91.281 % ||  valid Loss:0.587 ||  valid Acc 82.102 %\n",
      "Fold 4\n",
      "avg train loss: 0.694, avg train acc: 76.026\n",
      "avg valid loss: 0.910, avg valid acc: 70.099\n",
      "====================================================================================================\n"
     ]
    },
    {
     "name": "stderr",
     "output_type": "stream",
     "text": [
      "82it [00:20,  3.98it/s]\n"
     ]
    },
    {
     "name": "stdout",
     "output_type": "stream",
     "text": [
      "Fold 4, test acc: 85.652\n",
      "==================================================\n",
      "plot curves\n"
     ]
    },
    {
     "data": {
      "image/png": "[encoded data removed]",
      "text/plain": [
       "<Figure size 640x480 with 1 Axes>"
      ]
     },
     "metadata": {},
     "output_type": "display_data"
    },
    {
     "data": {
      "image/png": "[encoded data removed]",
      "text/plain": [
       "<Figure size 640x480 with 1 Axes>"
      ]
     },
     "metadata": {},
     "output_type": "display_data"
    },
    {
     "name": "stdout",
     "output_type": "stream",
     "text": [
      "Fold 5\n",
      "train size: 16751, val size: 4187\n",
      "==================================================\n"
     ]
    },
    {
     "name": "stderr",
     "output_type": "stream",
     "text": [
      "262it [00:23, 11.38it/s]\n",
      "66it [00:06, 10.97it/s]\n"
     ]
    },
    {
     "name": "stdout",
     "output_type": "stream",
     "text": [
      "Epoch:1/40  Training Loss:2.205 || Training Acc 20.986 % ||  valid Loss:2.190 ||  valid Acc 24.550 %\n"
     ]
    },
    {
     "name": "stderr",
     "output_type": "stream",
     "text": [
      "262it [00:22, 11.42it/s]\n",
      "66it [00:05, 11.22it/s]\n"
     ]
    },
    {
     "name": "stdout",
     "output_type": "stream",
     "text": [
      "Epoch:2/40  Training Loss:1.935 || Training Acc 31.656 % ||  valid Loss:1.748 ||  valid Acc 37.902 %\n"
     ]
    },
    {
     "name": "stderr",
     "output_type": "stream",
     "text": [
      "262it [00:22, 11.57it/s]\n",
      "66it [00:05, 11.04it/s]\n"
     ]
    },
    {
     "name": "stdout",
     "output_type": "stream",
     "text": [
      "Epoch:3/40  Training Loss:1.593 || Training Acc 45.456 % ||  valid Loss:1.503 ||  valid Acc 47.633 %\n"
     ]
    },
    {
     "name": "stderr",
     "output_type": "stream",
     "text": [
      "262it [00:23, 11.35it/s]\n",
      "66it [00:05, 11.15it/s]\n"
     ]
    },
    {
     "name": "stdout",
     "output_type": "stream",
     "text": [
      "Epoch:4/40  Training Loss:1.356 || Training Acc 53.089 % ||  valid Loss:1.285 ||  valid Acc 54.309 %\n"
     ]
    },
    {
     "name": "stderr",
     "output_type": "stream",
     "text": [
      "262it [00:22, 11.50it/s]\n",
      "66it [00:05, 11.27it/s]\n"
     ]
    },
    {
     "name": "stdout",
     "output_type": "stream",
     "text": [
      "Epoch:5/40  Training Loss:1.196 || Training Acc 58.230 % ||  valid Loss:1.233 ||  valid Acc 57.126 %\n"
     ]
    },
    {
     "name": "stderr",
     "output_type": "stream",
     "text": [
      "262it [00:23, 11.36it/s]\n",
      "66it [00:05, 11.09it/s]\n"
     ]
    },
    {
     "name": "stdout",
     "output_type": "stream",
     "text": [
      "Epoch:6/40  Training Loss:1.094 || Training Acc 61.904 % ||  valid Loss:1.256 ||  valid Acc 56.723 %\n"
     ]
    },
    {
     "name": "stderr",
     "output_type": "stream",
     "text": [
      "262it [00:22, 11.47it/s]\n",
      "66it [00:05, 11.03it/s]\n"
     ]
    },
    {
     "name": "stdout",
     "output_type": "stream",
     "text": [
      "Epoch:7/40  Training Loss:0.997 || Training Acc 65.703 % ||  valid Loss:1.109 ||  valid Acc 61.742 %\n"
     ]
    },
    {
     "name": "stderr",
     "output_type": "stream",
     "text": [
      "262it [00:22, 11.54it/s]\n",
      "66it [00:06, 10.95it/s]\n"
     ]
    },
    {
     "name": "stdout",
     "output_type": "stream",
     "text": [
      "Epoch:8/40  Training Loss:0.915 || Training Acc 68.732 % ||  valid Loss:1.014 ||  valid Acc 64.725 %\n"
     ]
    },
    {
     "name": "stderr",
     "output_type": "stream",
     "text": [
      "262it [00:23, 11.32it/s]\n",
      "66it [00:06, 10.67it/s]\n"
     ]
    },
    {
     "name": "stdout",
     "output_type": "stream",
     "text": [
      "Epoch:9/40  Training Loss:0.847 || Training Acc 71.016 % ||  valid Loss:0.946 ||  valid Acc 67.803 %\n"
     ]
    },
    {
     "name": "stderr",
     "output_type": "stream",
     "text": [
      "262it [00:23, 11.38it/s]\n",
      "66it [00:05, 11.03it/s]\n"
     ]
    },
    {
     "name": "stdout",
     "output_type": "stream",
     "text": [
      "Epoch:10/40  Training Loss:0.776 || Training Acc 73.682 % ||  valid Loss:0.989 ||  valid Acc 67.424 %\n"
     ]
    },
    {
     "name": "stderr",
     "output_type": "stream",
     "text": [
      "262it [00:22, 11.48it/s]\n",
      "66it [00:05, 11.11it/s]\n"
     ]
    },
    {
     "name": "stdout",
     "output_type": "stream",
     "text": [
      "Epoch:11/40  Training Loss:0.714 || Training Acc 75.775 % ||  valid Loss:0.854 ||  valid Acc 70.573 %\n"
     ]
    },
    {
     "name": "stderr",
     "output_type": "stream",
     "text": [
      "262it [00:22, 11.45it/s]\n",
      "66it [00:05, 11.17it/s]\n"
     ]
    },
    {
     "name": "stdout",
     "output_type": "stream",
     "text": [
      "Epoch:12/40  Training Loss:0.664 || Training Acc 77.660 % ||  valid Loss:0.809 ||  valid Acc 71.851 %\n"
     ]
    },
    {
     "name": "stderr",
     "output_type": "stream",
     "text": [
      "262it [00:22, 11.47it/s]\n",
      "66it [00:06, 10.89it/s]\n"
     ]
    },
    {
     "name": "stdout",
     "output_type": "stream",
     "text": [
      "Epoch:13/40  Training Loss:0.622 || Training Acc 79.127 % ||  valid Loss:0.725 ||  valid Acc 75.497 %\n"
     ]
    },
    {
     "name": "stderr",
     "output_type": "stream",
     "text": [
      "262it [00:22, 11.58it/s]\n",
      "66it [00:06, 10.62it/s]\n"
     ]
    },
    {
     "name": "stdout",
     "output_type": "stream",
     "text": [
      "Epoch:14/40  Training Loss:0.586 || Training Acc 80.415 % ||  valid Loss:0.725 ||  valid Acc 76.042 %\n"
     ]
    },
    {
     "name": "stderr",
     "output_type": "stream",
     "text": [
      "262it [00:22, 11.61it/s]\n",
      "66it [00:06, 10.92it/s]\n"
     ]
    },
    {
     "name": "stdout",
     "output_type": "stream",
     "text": [
      "Epoch:15/40  Training Loss:0.541 || Training Acc 81.906 % ||  valid Loss:0.741 ||  valid Acc 75.568 %\n"
     ]
    },
    {
     "name": "stderr",
     "output_type": "stream",
     "text": [
      "262it [00:22, 11.49it/s]\n",
      "66it [00:06, 10.74it/s]\n"
     ]
    },
    {
     "name": "stdout",
     "output_type": "stream",
     "text": [
      "Epoch:16/40  Training Loss:0.514 || Training Acc 82.920 % ||  valid Loss:0.624 ||  valid Acc 78.906 %\n"
     ]
    },
    {
     "name": "stderr",
     "output_type": "stream",
     "text": [
      "262it [00:22, 11.58it/s]\n",
      "66it [00:06, 10.96it/s]\n"
     ]
    },
    {
     "name": "stdout",
     "output_type": "stream",
     "text": [
      "Epoch:17/40  Training Loss:0.485 || Training Acc 83.594 % ||  valid Loss:0.632 ||  valid Acc 78.930 %\n"
     ]
    },
    {
     "name": "stderr",
     "output_type": "stream",
     "text": [
      "262it [00:22, 11.43it/s]\n",
      "66it [00:06, 10.70it/s]\n"
     ]
    },
    {
     "name": "stdout",
     "output_type": "stream",
     "text": [
      "Epoch:18/40  Training Loss:0.457 || Training Acc 84.500 % ||  valid Loss:0.590 ||  valid Acc 80.350 %\n"
     ]
    },
    {
     "name": "stderr",
     "output_type": "stream",
     "text": [
      "262it [00:22, 11.42it/s]\n",
      "66it [00:05, 11.07it/s]\n"
     ]
    },
    {
     "name": "stdout",
     "output_type": "stream",
     "text": [
      "Epoch:19/40  Training Loss:0.434 || Training Acc 85.443 % ||  valid Loss:0.600 ||  valid Acc 79.522 %\n"
     ]
    },
    {
     "name": "stderr",
     "output_type": "stream",
     "text": [
      "262it [00:22, 11.44it/s]\n",
      "66it [00:05, 11.07it/s]\n"
     ]
    },
    {
     "name": "stdout",
     "output_type": "stream",
     "text": [
      "Epoch:20/40  Training Loss:0.411 || Training Acc 86.242 % ||  valid Loss:0.563 ||  valid Acc 80.990 %\n"
     ]
    },
    {
     "name": "stderr",
     "output_type": "stream",
     "text": [
      "262it [00:22, 11.47it/s]\n",
      "66it [00:06, 10.91it/s]\n"
     ]
    },
    {
     "name": "stdout",
     "output_type": "stream",
     "text": [
      "Epoch:21/40  Training Loss:0.385 || Training Acc 86.743 % ||  valid Loss:0.583 ||  valid Acc 80.919 %\n"
     ]
    },
    {
     "name": "stderr",
     "output_type": "stream",
     "text": [
      "262it [00:22, 11.44it/s]\n",
      "66it [00:06, 10.97it/s]\n"
     ]
    },
    {
     "name": "stdout",
     "output_type": "stream",
     "text": [
      "Epoch:22/40  Training Loss:0.378 || Training Acc 87.077 % ||  valid Loss:0.606 ||  valid Acc 80.611 %\n"
     ]
    },
    {
     "name": "stderr",
     "output_type": "stream",
     "text": [
      "262it [00:22, 11.45it/s]\n",
      "66it [00:06, 10.96it/s]\n"
     ]
    },
    {
     "name": "stdout",
     "output_type": "stream",
     "text": [
      "Epoch:23/40  Training Loss:0.353 || Training Acc 88.114 % ||  valid Loss:0.572 ||  valid Acc 81.061 %\n"
     ]
    },
    {
     "name": "stderr",
     "output_type": "stream",
     "text": [
      "262it [00:22, 11.55it/s]\n",
      "66it [00:06, 10.78it/s]\n"
     ]
    },
    {
     "name": "stdout",
     "output_type": "stream",
     "text": [
      "Epoch:24/40  Training Loss:0.347 || Training Acc 88.299 % ||  valid Loss:0.567 ||  valid Acc 81.321 %\n"
     ]
    },
    {
     "name": "stderr",
     "output_type": "stream",
     "text": [
      "262it [00:23, 11.28it/s]\n",
      "66it [00:06, 10.88it/s]\n"
     ]
    },
    {
     "name": "stdout",
     "output_type": "stream",
     "text": [
      "Epoch:25/40  Training Loss:0.319 || Training Acc 89.206 % ||  valid Loss:0.590 ||  valid Acc 80.871 %\n"
     ]
    },
    {
     "name": "stderr",
     "output_type": "stream",
     "text": [
      "262it [00:22, 11.44it/s]\n",
      "66it [00:05, 11.01it/s]\n"
     ]
    },
    {
     "name": "stdout",
     "output_type": "stream",
     "text": [
      "Epoch:26/40  Training Loss:0.317 || Training Acc 89.480 % ||  valid Loss:0.516 ||  valid Acc 82.528 %\n"
     ]
    },
    {
     "name": "stderr",
     "output_type": "stream",
     "text": [
      "262it [00:22, 11.51it/s]\n",
      "66it [00:06, 10.97it/s]\n"
     ]
    },
    {
     "name": "stdout",
     "output_type": "stream",
     "text": [
      "Epoch:27/40  Training Loss:0.295 || Training Acc 90.148 % ||  valid Loss:0.518 ||  valid Acc 83.191 %\n"
     ]
    },
    {
     "name": "stderr",
     "output_type": "stream",
     "text": [
      "262it [00:22, 11.46it/s]\n",
      "66it [00:05, 11.06it/s]\n"
     ]
    },
    {
     "name": "stdout",
     "output_type": "stream",
     "text": [
      "Epoch:28/40  Training Loss:0.295 || Training Acc 89.969 % ||  valid Loss:0.638 ||  valid Acc 80.469 %\n"
     ]
    },
    {
     "name": "stderr",
     "output_type": "stream",
     "text": [
      "262it [00:23, 11.37it/s]\n",
      "66it [00:05, 11.14it/s]\n"
     ]
    },
    {
     "name": "stdout",
     "output_type": "stream",
     "text": [
      "Epoch:29/40  Training Loss:0.291 || Training Acc 90.100 % ||  valid Loss:0.622 ||  valid Acc 80.208 %\n"
     ]
    },
    {
     "name": "stderr",
     "output_type": "stream",
     "text": [
      "262it [00:22, 11.48it/s]\n",
      "66it [00:05, 11.19it/s]\n"
     ]
    },
    {
     "name": "stdout",
     "output_type": "stream",
     "text": [
      "Epoch:30/40  Training Loss:0.273 || Training Acc 90.714 % ||  valid Loss:0.593 ||  valid Acc 80.327 %\n"
     ]
    },
    {
     "name": "stderr",
     "output_type": "stream",
     "text": [
      "262it [00:23, 11.38it/s]\n",
      "66it [00:05, 11.12it/s]\n"
     ]
    },
    {
     "name": "stdout",
     "output_type": "stream",
     "text": [
      "Epoch:31/40  Training Loss:0.255 || Training Acc 91.233 % ||  valid Loss:0.564 ||  valid Acc 81.416 %\n"
     ]
    },
    {
     "name": "stderr",
     "output_type": "stream",
     "text": [
      "262it [00:22, 11.56it/s]\n",
      "66it [00:06, 10.91it/s]\n"
     ]
    },
    {
     "name": "stdout",
     "output_type": "stream",
     "text": [
      "Epoch:32/40  Training Loss:0.250 || Training Acc 91.657 % ||  valid Loss:0.575 ||  valid Acc 82.102 %\n"
     ]
    },
    {
     "name": "stderr",
     "output_type": "stream",
     "text": [
      "262it [00:22, 11.50it/s]\n",
      "66it [00:05, 11.14it/s]\n"
     ]
    },
    {
     "name": "stdout",
     "output_type": "stream",
     "text": [
      "Epoch:33/40  Training Loss:0.232 || Training Acc 92.116 % ||  valid Loss:0.590 ||  valid Acc 82.079 %\n"
     ]
    },
    {
     "name": "stderr",
     "output_type": "stream",
     "text": [
      "262it [00:22, 11.43it/s]\n",
      "66it [00:06, 10.94it/s]\n"
     ]
    },
    {
     "name": "stdout",
     "output_type": "stream",
     "text": [
      "Epoch:34/40  Training Loss:0.242 || Training Acc 91.651 % ||  valid Loss:0.569 ||  valid Acc 82.363 %\n"
     ]
    },
    {
     "name": "stderr",
     "output_type": "stream",
     "text": [
      "262it [00:22, 11.47it/s]\n",
      "66it [00:06, 10.95it/s]\n"
     ]
    },
    {
     "name": "stdout",
     "output_type": "stream",
     "text": [
      "Epoch:35/40  Training Loss:0.217 || Training Acc 92.325 % ||  valid Loss:0.607 ||  valid Acc 81.629 %\n"
     ]
    },
    {
     "name": "stderr",
     "output_type": "stream",
     "text": [
      "262it [00:22, 11.47it/s]\n",
      "66it [00:05, 11.03it/s]\n"
     ]
    },
    {
     "name": "stdout",
     "output_type": "stream",
     "text": [
      "Epoch:36/40  Training Loss:0.225 || Training Acc 92.265 % ||  valid Loss:0.574 ||  valid Acc 81.795 %\n"
     ]
    },
    {
     "name": "stderr",
     "output_type": "stream",
     "text": [
      "262it [00:22, 11.48it/s]\n",
      "66it [00:05, 11.02it/s]\n"
     ]
    },
    {
     "name": "stdout",
     "output_type": "stream",
     "text": [
      "Epoch:37/40  Training Loss:0.208 || Training Acc 92.826 % ||  valid Loss:0.535 ||  valid Acc 83.523 %\n"
     ]
    },
    {
     "name": "stderr",
     "output_type": "stream",
     "text": [
      "262it [00:22, 11.43it/s]\n",
      "66it [00:05, 11.20it/s]\n"
     ]
    },
    {
     "name": "stdout",
     "output_type": "stream",
     "text": [
      "Epoch:38/40  Training Loss:0.198 || Training Acc 93.339 % ||  valid Loss:0.577 ||  valid Acc 82.931 %\n"
     ]
    },
    {
     "name": "stderr",
     "output_type": "stream",
     "text": [
      "262it [00:22, 11.45it/s]\n",
      "66it [00:06, 10.73it/s]\n"
     ]
    },
    {
     "name": "stdout",
     "output_type": "stream",
     "text": [
      "Epoch:39/40  Training Loss:0.198 || Training Acc 93.225 % ||  valid Loss:0.517 ||  valid Acc 84.351 %\n"
     ]
    },
    {
     "name": "stderr",
     "output_type": "stream",
     "text": [
      "262it [00:22, 11.42it/s]\n",
      "66it [00:05, 11.01it/s]\n"
     ]
    },
    {
     "name": "stdout",
     "output_type": "stream",
     "text": [
      "Epoch:40/40  Training Loss:0.194 || Training Acc 93.452 % ||  valid Loss:0.596 ||  valid Acc 82.647 %\n",
      "Fold 5\n",
      "avg train loss: 0.595, avg train acc: 79.549\n",
      "avg valid loss: 0.791, avg valid acc: 73.613\n",
      "====================================================================================================\n"
     ]
    },
    {
     "name": "stderr",
     "output_type": "stream",
     "text": [
      "82it [00:20,  3.96it/s]\n"
     ]
    },
    {
     "name": "stdout",
     "output_type": "stream",
     "text": [
      "Fold 5, test acc: 85.671\n",
      "==================================================\n",
      "plot curves\n"
     ]
    },
    {
     "data": {
      "image/png": "[encoded data removed]",
      "text/plain": [
       "<Figure size 640x480 with 1 Axes>"
      ]
     },
     "metadata": {},
     "output_type": "display_data"
    },
    {
     "data": {
      "image/png": "[encoded data removed]",
      "text/plain": [
       "<Figure size 640x480 with 1 Axes>"
      ]
     },
     "metadata": {},
     "output_type": "display_data"
    }
   ],
   "source": [
    "from torch.utils.data import sampler\n",
    "K = 5\n",
    "# learning_rate=0.001\n",
    "\n",
    "\n",
    "kfold = KFold(n_splits=K,shuffle=True)\n",
    "\n",
    "train_fold_losses = []\n",
    "train_fold_accs = []\n",
    "valid_fold_losses = []\n",
    "valid_fold_accs = []\n",
    "\n",
    "for fold_i, (train_ids, val_ids) in enumerate(kfold.split(train_data)):\n",
    "    print(f'Fold {fold_i+1}')\n",
    "    print(f'train size: {len(train_ids)}, val size: {len(val_ids)}')\n",
    "    print('='*50)\n",
    "    fold_train_loss,fold_valid_loss,fold_train_acc,fold_valid_acc=[],[],[],[]\n",
    "    # Reset model parameters\n",
    "    # model.load_state_dict(torch.load(PATH))\n",
    "    model.apply(weight_reset)\n",
    "    # Sample elements from selected ids\n",
    "    train_sampler = sampler.SubsetRandomSampler(train_ids)\n",
    "    val_sampler = sampler.SubsetRandomSampler(val_ids)\n",
    "\n",
    "    #Use sampler to select data for training and validation\n",
    "    train_loader = torch.utils.data.DataLoader(train_data, batch_size=BATCH_SIZE,\n",
    "                                               sampler=train_sampler,num_workers=2)\n",
    "    val_loader = torch.utils.data.DataLoader(train_data, batch_size=BATCH_SIZE,\n",
    "                                             sampler=val_sampler,num_workers=2)\n",
    "    \n",
    "    #optimizer = torch.optim.Adam(params=model.parameters(), lr=learning_rate)\n",
    "    # Training\n",
    "    for epoch in range(num_epochs):\n",
    "        train_loss, train_acc = train(train_loader, model, criterion, optimizer)\n",
    "        val_loss, val_acc = test(val_loader, model, criterion)\n",
    "        fold_train_loss.append(train_loss)\n",
    "        fold_valid_loss.append(val_loss)\n",
    "        fold_train_acc.append(train_acc)\n",
    "        fold_valid_acc.append(val_acc)\n",
    "        # if epoch%10==0:\n",
    "        print(\"Epoch:{}/{}  Training Loss:{:.3f} || Training Acc {:.3f} % ||  valid Loss:{:.3f} ||  valid Acc {:.3f} %\".format(epoch + 1,\n",
    "                                                                                                             num_epochs,\n",
    "                                                                                                             train_loss,\n",
    "                                                                                                             train_acc,                            \n",
    "                                                                                                             val_loss,\n",
    "                                                                                                             val_acc))\n",
    "    \n",
    "    \n",
    "    print(f'Fold {fold_i+1}')\n",
    "    print(f'avg train loss: {sum(fold_train_loss)/num_epochs:.3f}, avg train acc: {sum(fold_train_acc)/num_epochs:.3f}')\n",
    "    print(f'avg valid loss: {sum(fold_valid_loss)/num_epochs:.3f}, avg valid acc: {sum(fold_valid_acc)/num_epochs:.3f}')\n",
    "    torch.save(model,'fold'+str(fold_i+1)+'.pt')\n",
    "    torch.save(model.state_dict(), 'fold'+str(fold_i+1)+'.pth')\n",
    "    print('='*100)\n",
    "    test_loss, test_acc = test(testloader, model, criterion)\n",
    "    \n",
    "    print(f'Fold {fold_i+1}, test acc: {test_acc:.3f}')\n",
    "    print('='*50)\n",
    "    train_fold_losses.append(sum(fold_train_loss)/num_epochs)\n",
    "    train_fold_accs.append(sum(fold_train_acc)/num_epochs)\n",
    "    valid_fold_losses.append(sum(fold_valid_loss)/num_epochs)\n",
    "    valid_fold_accs.append(sum(fold_valid_acc)/num_epochs)\n",
    "    \n",
    "    # print(f'fold_train_loss:{fold_train_loss}')\n",
    "    # print(f'fold_valid_loss:{fold_valid_loss}')\n",
    "    print (\"plot curves\")\n",
    "    plotCurve(range(1, num_epochs + 1), fold_train_loss,\n",
    "              \"epoch\", \"loss\",\n",
    "              range(1, num_epochs + 1), fold_valid_loss,\n",
    "              [\"train\", \"valid\"]\n",
    "             )\n",
    "    plotCurve(range(1, num_epochs + 1), fold_train_acc,\n",
    "              \"epoch\", \"acc\",\n",
    "              range(1, num_epochs + 1), fold_valid_acc,\n",
    "              [\"train\", \"valid\"]\n",
    "             )\n",
    "    \n"
   ]
  },
  {
   "cell_type": "code",
   "execution_count": 28,
   "id": "6855cea7-61fc-4dfa-acff-2c2185e918b0",
   "metadata": {},
   "outputs": [
    {
     "name": "stdout",
     "output_type": "stream",
     "text": [
      "fold_avg_train_loss:  0.67\n",
      "fold_avg_train_acc:  77.05 %\n",
      "fold_avg_valid_loss:  0.89\n",
      "fold_avg_valid_acc:  70.63 %\n"
     ]
    }
   ],
   "source": [
    "print(f'fold_avg_train_loss: {sum(train_fold_losses)/5:5.2f}')\n",
    "print(f'fold_avg_train_acc:  {sum(train_fold_accs)/K:5.2f} %')\n",
    "print(f'fold_avg_valid_loss: {sum(valid_fold_losses)/K:5.2f}')\n",
    "print(f'fold_avg_valid_acc:  {sum(valid_fold_accs)/K:5.2f} %')"
   ]
  },
  {
   "cell_type": "code",
   "execution_count": 29,
   "id": "a7722437-ee90-4113-a7cf-0964c7fb50f2",
   "metadata": {},
   "outputs": [
    {
     "data": {
      "image/png": "[encoded data removed]",
      "text/plain": [
       "<Figure size 640x480 with 1 Axes>"
      ]
     },
     "metadata": {},
     "output_type": "display_data"
    },
    {
     "data": {
      "image/png": "[encoded data removed]",
      "text/plain": [
       "<Figure size 640x480 with 1 Axes>"
      ]
     },
     "metadata": {},
     "output_type": "display_data"
    }
   ],
   "source": [
    "plotCurve((1,2,3,4,5), train_fold_losses,\n",
    "              \"fold\", \"loss\",\n",
    "             )\n",
    "plotCurve(range(1, K + 1), train_fold_accs,\n",
    "              \"fold\", \"acc\",\n",
    "             )"
   ]
  },
  {
   "cell_type": "code",
   "execution_count": 30,
   "id": "0422d363-2f99-44b1-9973-17bed66cac3c",
   "metadata": {},
   "outputs": [
    {
     "data": {
      "image/png": "[encoded data removed]",
      "text/plain": [
       "<Figure size 640x480 with 1 Axes>"
      ]
     },
     "metadata": {},
     "output_type": "display_data"
    }
   ],
   "source": [
    "plt.bar(range(1, K + 1), train_fold_losses,width=0.3, align='edge')\n",
    "plt.bar(range(1, K + 1), valid_fold_losses,width=-0.3, align='edge')\n",
    "plt.title('fold_loss')\n",
    "plt.xlabel('fold')\n",
    "plt.ylabel('loss')\n",
    "plt.legend(['train','valid'])\n",
    "plt.xticks(ticks=range(1, K + 1),\n",
    "          labels=['1','2','3','4','5'],\n",
    "          )\n",
    "plt.show()"
   ]
  },
  {
   "cell_type": "code",
   "execution_count": 31,
   "id": "d6ba91d7-443e-4571-b1d4-d4eb494dae6a",
   "metadata": {},
   "outputs": [
    {
     "data": {
      "image/png": "[encoded data removed]",
      "text/plain": [
       "<Figure size 640x480 with 1 Axes>"
      ]
     },
     "metadata": {},
     "output_type": "display_data"
    }
   ],
   "source": [
    "plt.bar(range(1, K + 1), train_fold_accs,width=0.4, align='edge')\n",
    "plt.bar(range(1, K + 1), valid_fold_accs,width=-0.4,align='edge')\n",
    "plt.title('fold_acc')\n",
    "plt.xlabel('fold')\n",
    "plt.ylabel('acc')\n",
    "plt.legend(['train','valid'])\n",
    "plt.xticks(ticks=range(1, K + 1),\n",
    "          labels=['1','2','3','4','5'],\n",
    "          )\n",
    "plt.show()"
   ]
  },
  {
   "cell_type": "code",
   "execution_count": 32,
   "id": "fe1850f1-c6eb-4b4e-96ec-7e8f52b771ad",
   "metadata": {},
   "outputs": [
    {
     "data": {
      "image/png": "[encoded data removed]",
      "text/plain": [
       "<Figure size 640x480 with 1 Axes>"
      ]
     },
     "metadata": {},
     "output_type": "display_data"
    }
   ],
   "source": [
    "plt.plot(range(1, K + 1), valid_fold_losses)\n",
    "plt.title('valid_fold_losses')\n",
    "plt.xlabel('fold')\n",
    "plt.ylabel('loss')\n",
    "plt.show()"
   ]
  },
  {
   "cell_type": "code",
   "execution_count": 33,
   "id": "a3da9534-86e8-450d-8736-08c1e69730d1",
   "metadata": {},
   "outputs": [
    {
     "data": {
      "image/png": "[encoded data removed]",
      "text/plain": [
       "<Figure size 640x480 with 1 Axes>"
      ]
     },
     "metadata": {},
     "output_type": "display_data"
    }
   ],
   "source": [
    "plt.plot(range(1, K + 1), valid_fold_accs)\n",
    "plt.title('valid_fold_loss')\n",
    "plt.xlabel('fold')\n",
    "plt.ylabel('acc')\n",
    "plt.show()"
   ]
  },
  {
   "cell_type": "code",
   "execution_count": 35,
   "id": "1c3a156e-b143-4a57-a51c-deea4961041c",
   "metadata": {},
   "outputs": [
    {
     "name": "stdout",
     "output_type": "stream",
     "text": [
      "train\n",
      "0.6652594345966568\n",
      "77.0514074427481\n",
      "====================================================================================================\n",
      "valid\n",
      "0.88900525002317\n",
      "70.63245738636364\n"
     ]
    }
   ],
   "source": [
    "print('train')\n",
    "print(sum(train_fold_losses)/len(train_fold_losses))\n",
    "print(sum(train_fold_accs)/len(train_fold_accs))\n",
    "print('='*100)\n",
    "print('valid')\n",
    "print(sum(valid_fold_losses)/len(valid_fold_losses))\n",
    "print(sum(valid_fold_accs)/len(valid_fold_accs))"
   ]
  },
  {
   "cell_type": "code",
   "execution_count": 27,
   "id": "843e6ab3-4ad2-4f7c-8375-cdedad2727b1",
   "metadata": {},
   "outputs": [
    {
     "ename": "NameError",
     "evalue": "name 'fold_accs' is not defined",
     "output_type": "error",
     "traceback": [
      "\u001b[1;31m---------------------------------------------------------------------------\u001b[0m",
      "\u001b[1;31mNameError\u001b[0m                                 Traceback (most recent call last)",
      "Cell \u001b[1;32mIn [27], line 1\u001b[0m\n\u001b[1;32m----> 1\u001b[0m plt\u001b[38;5;241m.\u001b[39mbar(\u001b[38;5;28mrange\u001b[39m(\u001b[38;5;241m1\u001b[39m, K \u001b[38;5;241m+\u001b[39m \u001b[38;5;241m1\u001b[39m), \u001b[43mfold_accs\u001b[49m)\n\u001b[0;32m      2\u001b[0m plt\u001b[38;5;241m.\u001b[39mxlabel(\u001b[38;5;124m'\u001b[39m\u001b[38;5;124mfold\u001b[39m\u001b[38;5;124m'\u001b[39m)\n\u001b[0;32m      3\u001b[0m plt\u001b[38;5;241m.\u001b[39mylabel(\u001b[38;5;124m'\u001b[39m\u001b[38;5;124macc\u001b[39m\u001b[38;5;124m'\u001b[39m)\n",
      "\u001b[1;31mNameError\u001b[0m: name 'fold_accs' is not defined"
     ]
    }
   ],
   "source": [
    "plt.bar(range(1, K + 1), fold_accs)\n",
    "plt.xlabel('fold')\n",
    "plt.ylabel('acc')\n",
    "plt.show()"
   ]
  },
  {
   "cell_type": "code",
   "execution_count": null,
   "id": "b3115c01-a4b5-49eb-91f7-85e95f045a61",
   "metadata": {},
   "outputs": [],
   "source": [
    "# for epoch in range(num_epochs):\n",
    "#     train_loss = 0.0\n",
    "#     train_acc = 0.0\n",
    "#     valid_loss=0.0\n",
    "#     valid_acc=0.0\n",
    "#     model = model.train()\n",
    "\n",
    "#     ## training step\n",
    "#     for i, (images, labels) in enumerate(trainloader):\n",
    "        \n",
    "#         images = images.to(device)\n",
    "#         labels = labels.to(device)\n",
    "\n",
    "#         ## forward + backprop + loss\n",
    "#         logits = model(images)\n",
    "#         loss = criterion(logits, labels)\n",
    "#         optimizer.zero_grad()\n",
    "#         loss.backward()\n",
    "\n",
    "#         ## update model params\n",
    "#         optimizer.step()\n",
    "\n",
    "#         train_loss += loss.detach().item()\n",
    "#         train_acc += get_accuracy(logits, labels, BATCH_SIZE)\n",
    "#     model.eval()\n",
    "#     for j,(data, labels) in enumerate(validloader):\n",
    "#         # move tensors to GPU if CUDA is available\n",
    "#         data, labels = data.to(device), labels.to(device)\n",
    "#         # forward pass: compute predicted outputs by passing inputs to the model\n",
    "#         output = model(data)\n",
    "#         # calculate the batch loss\n",
    "#         loss = criterion(output, labels)\n",
    "#         # update average validation loss \n",
    "#         valid_loss += loss.item()\n",
    "#         valid_acc += get_accuracy(output, labels, BATCH_SIZE)\n",
    "#     model.eval()\n",
    "#     print('Epoch: %d | Loss: %.4f | Train Accuracy: %.4f  | valid_Loss: %.4f | valid Accuracy: %.4f     ' \\\n",
    "#           %(epoch, train_loss / i, train_acc/i,  valid_loss / j, valid_acc/j))        "
   ]
  },
  {
   "cell_type": "code",
   "execution_count": 39,
   "id": "1f2c031b-930f-4e97-908b-1117fb7a5721",
   "metadata": {},
   "outputs": [
    {
     "name": "stderr",
     "output_type": "stream",
     "text": [
      "82it [00:20,  3.95it/s]"
     ]
    },
    {
     "name": "stdout",
     "output_type": "stream",
     "text": [
      "Fold, test acc: 83.594\n"
     ]
    },
    {
     "name": "stderr",
     "output_type": "stream",
     "text": [
      "\n"
     ]
    }
   ],
   "source": [
    "model = torch.load('fold2.pt')\n",
    "# model.load_state_dict(torch.load('fold1.pth'))  \n",
    "model.eval()\n",
    "test_loss, test_acc = test(testloader, model, criterion)\n",
    "print(f'Fold, test acc: {test_acc:.3f}')"
   ]
  },
  {
   "cell_type": "code",
   "execution_count": null,
   "id": "414837fb-4a09-45d8-90fa-cc96edf9a823",
   "metadata": {},
   "outputs": [],
   "source": []
  },
  {
   "cell_type": "code",
   "execution_count": null,
   "id": "059a0d6e-e4b8-44af-b177-e6675bbc13cb",
   "metadata": {},
   "outputs": [],
   "source": [
    "test_acc = 0.0\n",
    "for i, (images, labels) in enumerate(testloader, 0):\n",
    "    images = images.to(device)\n",
    "    labels = labels.to(device)\n",
    "    outputs = model(images)\n",
    "    test_acc += get_accuracy(outputs, labels, BATCH_SIZE)\n",
    "        \n",
    "print('Test Accuracy: %.2f'%( test_acc/i))"
   ]
  },
  {
   "cell_type": "code",
   "execution_count": null,
   "id": "a6d21402-9f8c-40b7-9c92-863e920bacaf",
   "metadata": {},
   "outputs": [],
   "source": []
  }
 ],
 "metadata": {
  "kernelspec": {
   "display_name": "Python 3 (ipykernel)",
   "language": "python",
   "name": "python3"
  },
  "language_info": {
   "codemirror_mode": {
    "name": "ipython",
    "version": 3
   },
   "file_extension": ".py",
   "mimetype": "text/x-python",
   "name": "python",
   "nbconvert_exporter": "python",
   "pygments_lexer": "ipython3",
   "version": "3.9.15"
  }
 },
 "nbformat": 4,
 "nbformat_minor": 5
}
